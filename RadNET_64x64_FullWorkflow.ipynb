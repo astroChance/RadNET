{
  "nbformat": 4,
  "nbformat_minor": 0,
  "metadata": {
    "colab": {
      "name": "RadNET_64x64_FullWorkflow.ipynb",
      "provenance": [],
      "toc_visible": true,
      "machine_shape": "hm",
      "authorship_tag": "ABX9TyPDOJ6BivPDbYLFyEuqK/ww",
      "include_colab_link": true
    },
    "kernelspec": {
      "name": "python3",
      "display_name": "Python 3"
    },
    "language_info": {
      "name": "python"
    },
    "accelerator": "GPU"
  },
  "cells": [
    {
      "cell_type": "markdown",
      "metadata": {
        "id": "view-in-github",
        "colab_type": "text"
      },
      "source": [
        "<a href=\"https://colab.research.google.com/github/astroChance/RadNET/blob/master/RadNET_64x64_FullWorkflow.ipynb\" target=\"_parent\"><img src=\"https://colab.research.google.com/assets/colab-badge.svg\" alt=\"Open In Colab\"/></a>"
      ]
    },
    {
      "cell_type": "markdown",
      "metadata": {
        "id": "zuLpqRYAEqGL"
      },
      "source": [
        "# Imports and Data Loading"
      ]
    },
    {
      "cell_type": "code",
      "metadata": {
        "colab": {
          "base_uri": "https://localhost:8080/"
        },
        "id": "jqTPgtVhECN3",
        "outputId": "768e9e6c-62f9-4c80-f076-5e95cd4ecfc6"
      },
      "source": [
        "!pip install --upgrade segyio\n",
        "import segyio\n",
        "import numpy as np\n",
        "# from math import sqrt\n",
        "import matplotlib\n",
        "import matplotlib.pyplot as plt\n",
        "import time\n",
        "# import itertools\n",
        "import os\n",
        "import re\n",
        "import random\n",
        "# from PIL import Image\n",
        "from scipy import spatial, signal\n",
        "import json\n",
        "from sklearn.preprocessing import StandardScaler, MinMaxScaler\n",
        "\n",
        "from IPython import display\n",
        "import datetime\n",
        "import tensorflow as tf"
      ],
      "execution_count": 1,
      "outputs": [
        {
          "output_type": "stream",
          "text": [
            "Collecting segyio\n",
            "\u001b[?25l  Downloading https://files.pythonhosted.org/packages/65/16/a6e6aff92578e5079aae2c4bd2d9dd086974ae61a943e3e9638f05745a5a/segyio-1.9.6-cp37-cp37m-manylinux1_x86_64.whl (90kB)\n",
            "\r\u001b[K     |███▋                            | 10kB 13.8MB/s eta 0:00:01\r\u001b[K     |███████▎                        | 20kB 15.5MB/s eta 0:00:01\r\u001b[K     |███████████                     | 30kB 10.7MB/s eta 0:00:01\r\u001b[K     |██████████████▌                 | 40kB 9.1MB/s eta 0:00:01\r\u001b[K     |██████████████████▏             | 51kB 7.8MB/s eta 0:00:01\r\u001b[K     |█████████████████████▉          | 61kB 8.9MB/s eta 0:00:01\r\u001b[K     |█████████████████████████▍      | 71kB 8.2MB/s eta 0:00:01\r\u001b[K     |█████████████████████████████   | 81kB 7.9MB/s eta 0:00:01\r\u001b[K     |████████████████████████████████| 92kB 4.6MB/s \n",
            "\u001b[?25hRequirement already satisfied, skipping upgrade: numpy>=1.10 in /usr/local/lib/python3.7/dist-packages (from segyio) (1.19.5)\n",
            "Installing collected packages: segyio\n",
            "Successfully installed segyio-1.9.6\n"
          ],
          "name": "stdout"
        }
      ]
    },
    {
      "cell_type": "code",
      "metadata": {
        "colab": {
          "base_uri": "https://localhost:8080/"
        },
        "id": "COc1R6xBEm6F",
        "outputId": "7ac3d51f-d42f-47fc-baaf-5ac7b946cc31"
      },
      "source": [
        "from google.colab import drive\n",
        "drive.mount('/content/drive/')"
      ],
      "execution_count": 2,
      "outputs": [
        {
          "output_type": "stream",
          "text": [
            "Mounted at /content/drive/\n"
          ],
          "name": "stdout"
        }
      ]
    },
    {
      "cell_type": "markdown",
      "metadata": {
        "id": "koSoTaKAKOyE"
      },
      "source": [
        "## Numpy file generation"
      ]
    },
    {
      "cell_type": "code",
      "metadata": {
        "id": "4kJvoXAOEoql"
      },
      "source": [
        "#--------------------------------------------------\n",
        "##################\n",
        "## Variables and parameters\n",
        "file_counter=0\n",
        "num_files = 5000\n",
        "trace_list_2D = []  # comment out if building with multiple runs)\n",
        "    \n",
        "input_dimension = (64, 64)  \n",
        "input_data_2D = np.zeros((num_files, input_dimension[0], input_dimension[1]))\n",
        "input_data_3D = np.zeros((num_files, input_dimension[0], input_dimension[1]))\n",
        "\n",
        "trace_len_clip_2D_start = 1970   # Trimming 2D data to approximately match 3D\n",
        "trace_len_clip_2D_end = 3040\n",
        "\n",
        "# Zxx parameters\n",
        "fs = 1 / 0.0000000375     #sample frequency\n",
        "nperseg = 127        # nperseg/noverlap combo produces 64x32 assuming 1070 samples\n",
        "noverlap = 92\n",
        "window = signal.hann(nperseg, sym=False)\n",
        "\n",
        "#--------------------------------------------------\n",
        "\n",
        "\n",
        "\n",
        "##################\n",
        "## Seismic Data filepaths\n",
        "## Loading trace match dictionary\n",
        "\n",
        "Volume3D = \"/content/drive/My Drive/RadNET/GAN data/3D/PB3D_Fritz_subset.sgy\"\n",
        "\n",
        "TwoDFiles = []\n",
        "for root, dirs, files in os.walk(\"/content/drive/My Drive/RadNET/GAN data/2D\"):\n",
        "    for name in files:\n",
        "        filename = os.path.join(root, name)\n",
        "        TwoDFiles.append(filename)\n",
        "# print(\"2D files in directory: \", len(TwoDFiles))\n",
        "\n",
        "Trace_Map_Dict = \"/content/drive/My Drive/RadNET/GAN data/2D_to_3D_Trace_Dict.json\"\n",
        "with open(Trace_Map_Dict, 'r') as TraceDictFile:\n",
        "    TraceDict = json.load(TraceDictFile)\n",
        "\n",
        "\n",
        "\n",
        "##################\n",
        "## Get 2D and 3D traces randomly\n",
        "## Perform STFT\n",
        "## Shape and scale arrays\n",
        "\n",
        "while file_counter < num_files:\n",
        "    \n",
        "    # Randomly choose value from trace match dictionary\n",
        "    Rand2D = random.choice(list(TraceDict.items()))\n",
        "    RandTraceMatch = random.choice(list(Rand2D[1].items()))\n",
        "\n",
        "    # Set the random choice to variables, print information\n",
        "    # The dictionary captures trace numbers from TRACE_SEQUENCE_LINE,\n",
        "    # which compared to the numpy array is index + 1, therefore need to \n",
        "    # subtract 1 to get the proper index value\n",
        "    Rand2DLine = int(Rand2D[0])\n",
        "    Rand2DTrace = int(RandTraceMatch[0])-1\n",
        "    Rand3DTrace = int(RandTraceMatch[1][0])-1\n",
        "    \n",
        "    # check if we've already grabbed the random trace\n",
        "    if (str(Rand2DLine)+str(Rand2DTrace)) in trace_list_2D:\n",
        "        continue\n",
        "    trace_list_2D.append(str(Rand2DLine)+str(Rand2DTrace))\n",
        "    \n",
        "    # Get the random 2D trace data\n",
        "    Rand2DFile = \"/content/drive/My Drive/RadNET/GAN data/2D/\" + str(Rand2DLine) + \".sgy\"\n",
        "    with segyio.open(Rand2DFile, 'r') as segyfile:\n",
        "        display_trace_2D = segyfile.trace[Rand2DTrace]\n",
        "        display_trace_2D = display_trace_2D[1trace_len_clip_2D_start:trace_len_clip_2D_end]\n",
        "\n",
        "    # Check for dead 2D traces\n",
        "    if np.amax(display_trace_2D) < -100:\n",
        "        continue\n",
        "\n",
        "    # Get the random (matched) 3D trace data\n",
        "    with segyio.open(Volume3D, 'r') as segyfile:\n",
        "        display_trace_3D = segyfile.trace[Rand3DTrace]\n",
        "\n",
        "    # Using StandardScaler to adjust relative ampltidues of 2D and 3D\n",
        "    scaler2D = StandardScaler()    \n",
        "    scaler3D = StandardScaler()\n",
        "    standardized_2D_trace = np.squeeze(scaler2D.fit_transform(display_trace_2D.reshape((len(display_trace_2D), 1))))\n",
        "    standardized_3D_trace = np.squeeze(scaler3D.fit_transform(display_trace_3D.reshape((len(display_trace_3D), 1))))\n",
        "\n",
        "    # Perform STFT\n",
        "    _, _, Zxx2D = signal.stft(standardized_2D_trace, window = window, fs = fs, nperseg = nperseg, noverlap=noverlap)\n",
        "    _, _, Zxx3D = signal.stft(standardized_3D_trace, window = window, fs = fs, nperseg = nperseg, noverlap=noverlap)\n",
        "\n",
        "    # Shape and scale data\n",
        "    Mag_2D = np.abs(Zxx2D)\n",
        "    Mag_2D = np.repeat(Mag_2D, 2, axis=1)\n",
        "    Mag_2D = np.log(Mag_2D)\n",
        "    \n",
        "    Mag_3D = np.abs(Zxx3D)\n",
        "    Mag_3D = np.repeat(Mag_3D, 2, axis=1)\n",
        "    Mag_3D = np.log(Mag_3D)\n",
        "    \n",
        "    # Place data into holder arrays\n",
        "    input_data_2D[file_counter, :, :] = Mag_2D\n",
        "    input_data_3D[file_counter, :, :] = Mag_3D\n",
        "    \n",
        "    file_counter+=1"
      ],
      "execution_count": null,
      "outputs": []
    },
    {
      "cell_type": "markdown",
      "metadata": {
        "id": "0MVlJ62lTjjC"
      },
      "source": [
        "## Load data Numpy files, create Dataset"
      ]
    },
    {
      "cell_type": "code",
      "metadata": {
        "colab": {
          "base_uri": "https://localhost:8080/"
        },
        "id": "BYY2cAPLToft",
        "outputId": "62764c09-e1f5-45bc-968d-bb536d6f7329"
      },
      "source": [
        "##################\n",
        "## Load numpy files\n",
        "## Create Tensorflow Dataset\n",
        "start = time.time()\n",
        "\n",
        "\n",
        "input_data_dir_2D = \"/content/drive/My Drive/RadNET/GAN data/Spec_Numpy_Arrays/Training/2D\"\n",
        "input_data_dir_3D = \"/content/drive/My Drive/RadNET/GAN data/Spec_Numpy_Arrays/Training/3D\"\n",
        "\n",
        "numpy_filepaths_2D = []\n",
        "for root, dirs, files in os.walk(input_data_dir_2D):\n",
        "    for name in files:\n",
        "        if name.endswith('.npy'):\n",
        "            filename = os.path.join(root, name)\n",
        "            numpy_filepaths_2D.append(filename)\n",
        "\n",
        "numpy_filepaths_3D = []\n",
        "for root, dirs, files in os.walk(input_data_dir_3D):\n",
        "    for name in files:\n",
        "        if name.endswith('.npy'):\n",
        "            filename = os.path.join(root, name)\n",
        "            numpy_filepaths_3D.append(filename)\n",
        "\n",
        "assert len(numpy_filepaths_2D) == len(numpy_filepaths_3D), 'Check 2D and 3D filepaths'\n",
        "\n",
        "input_dimension = (64, 64)\n",
        "specs_per_training_file = 5000  \n",
        "input_data_2D_holder = np.zeros((specs_per_training_file*len(numpy_filepaths_2D), input_dimension[0], input_dimension[1]))\n",
        "input_data_3D_holder = np.zeros((specs_per_training_file*len(numpy_filepaths_3D), input_dimension[0], input_dimension[1]))\n",
        "\n",
        "\n",
        "\n",
        "for N in range(len(numpy_filepaths_2D)):\n",
        "    tmp_2D_arr = np.load(numpy_filepaths_2D[N])\n",
        "    tmp_3D_arr = np.load(numpy_filepaths_3D[N])\n",
        "\n",
        "    insertion_idx = N * specs_per_training_file\n",
        "\n",
        "    input_data_2D_holder[insertion_idx:insertion_idx + specs_per_training_file, :, :] = tmp_2D_arr\n",
        "    input_data_3D_holder[insertion_idx:insertion_idx + specs_per_training_file, :, :] = tmp_3D_arr\n",
        "\n",
        "\n",
        "\n",
        "# Create Tensor Dataset\n",
        "\n",
        "BATCH_SIZE = 64\n",
        "\n",
        "data_tf_2D = tf.convert_to_tensor(input_data_2D_holder, np.float32)\n",
        "data_tf_3D = tf.convert_to_tensor(input_data_3D_holder, np.float32)\n",
        "\n",
        "train_dataset2d = tf.data.Dataset.from_tensor_slices(data_tf_2D)\n",
        "train_dataset2d = train_dataset2d.batch(BATCH_SIZE)\n",
        "\n",
        "train_dataset3d = tf.data.Dataset.from_tensor_slices(data_tf_3D)\n",
        "train_dataset3d = train_dataset3d.batch(BATCH_SIZE)\n",
        "\n",
        "del input_data_2D_holder\n",
        "del input_data_3D_holder\n",
        "\n",
        "end = time.time()\n",
        "print(\"Time to completion (s): \", round(end-start))"
      ],
      "execution_count": 5,
      "outputs": [
        {
          "output_type": "stream",
          "text": [
            "Time to completion (s):  27.78783345222473\n"
          ],
          "name": "stdout"
        }
      ]
    },
    {
      "cell_type": "markdown",
      "metadata": {
        "id": "BjN7kxY7jC2V"
      },
      "source": [
        "# Model"
      ]
    },
    {
      "cell_type": "markdown",
      "metadata": {
        "id": "Z11yKhILkErf"
      },
      "source": [
        "## Architecture"
      ]
    },
    {
      "cell_type": "code",
      "metadata": {
        "id": "GVDLLbCrjEHg"
      },
      "source": [
        "# Define discriminator and generator models\n",
        "# Define loss and optimizers\n",
        "# Instantiate models\n",
        "\n",
        "\n",
        "BATCH_SIZE = 64\n",
        "\n",
        "OUTPUT_CHANNELS = 1\n",
        "\n",
        "def downsample(filters, size, apply_batchnorm=True):\n",
        "    initializer = tf.random_normal_initializer(0., 0.02)\n",
        "\n",
        "    result = tf.keras.Sequential()\n",
        "    result.add(tf.keras.layers.Conv2D(filters, size, strides=2, padding='same',\n",
        "                             kernel_initializer=initializer, use_bias=False))\n",
        "\n",
        "    if apply_batchnorm:\n",
        "        result.add(tf.keras.layers.BatchNormalization())\n",
        "\n",
        "    result.add(tf.keras.layers.LeakyReLU())\n",
        "\n",
        "    return result\n",
        "\n",
        "\n",
        "def upsample(filters, size, apply_dropout=False):\n",
        "    initializer = tf.random_normal_initializer(0., 0.02)\n",
        "\n",
        "    result = tf.keras.Sequential()\n",
        "    result.add(tf.keras.layers.Conv2DTranspose(filters, size, strides=2,\n",
        "                                    padding='same',\n",
        "                                    kernel_initializer=initializer,\n",
        "                                    use_bias=False))\n",
        "\n",
        "    result.add(tf.keras.layers.BatchNormalization())\n",
        "\n",
        "    if apply_dropout:\n",
        "        result.add(tf.keras.layers.Dropout(0.5))\n",
        "\n",
        "    result.add(tf.keras.layers.ReLU())\n",
        "\n",
        "    return result\n",
        "\n",
        "\n",
        "def Generator():\n",
        "    inputs = tf.keras.layers.Input(shape=[input_dimension[0], input_dimension[1], OUTPUT_CHANNELS])\n",
        "        \n",
        "    down_stack = [\n",
        "    downsample(64, 4, apply_batchnorm=False), # (bs, 32, 32, 64)\n",
        "    downsample(128, 4), # (bs, 16, 16, 128)\n",
        "    downsample(256, 4), # (bs, 8, 8, 256)\n",
        "#     downsample(512, 4), # (bs, 4, 4, 512)\n",
        "#     downsample(512, 4), # (bs, 2, 2, 512)\n",
        "#     downsample(512, 4), # (bs, 1, 1, 512)\n",
        "    ]\n",
        "\n",
        "    up_stack = [\n",
        "    upsample(512, 4, apply_dropout=True), # (bs, 16, 16, 1024)\n",
        "    upsample(512, 4, apply_dropout=True), # (bs, 32, 32, 1024)\n",
        "#     upsample(512, 4, apply_dropout=True), # (bs, 8, 8, 1024)\n",
        "#     upsample(512, 4), # (bs, 16, 16, 1024)\n",
        "#     upsample(256, 4), # (bs, 32, 32, 512)\n",
        "#     upsample(128, 4), # (bs, 64, 64, 256)\n",
        "#     upsample(64, 4), # (bs, 128, 128, 128)\n",
        "    ]\n",
        "\n",
        "    initializer = tf.random_normal_initializer(0., 0.02)\n",
        "    last = tf.keras.layers.Conv2DTranspose(OUTPUT_CHANNELS, 4,\n",
        "                                         strides=2,\n",
        "                                         padding='same',\n",
        "                                         kernel_initializer=initializer,\n",
        "                                         activation='tanh') # (bs, 256, 256, 3)\n",
        "  \n",
        "    x = inputs\n",
        "    \n",
        "    # Downsampling through the model\n",
        "    skips = []\n",
        "    for down in down_stack:\n",
        "        x = down(x)\n",
        "        skips.append(x)\n",
        "\n",
        "    skips = reversed(skips[:-1])\n",
        "\n",
        "  # Upsampling and establishing the skip connections\n",
        "    for up, skip in zip(up_stack, skips):\n",
        "        x = up(x)\n",
        "        x = tf.keras.layers.Concatenate()([x, skip])\n",
        "\n",
        "    x = last(x)\n",
        "\n",
        "    return tf.keras.Model(inputs=inputs, outputs=x)\n",
        "\n",
        "\n",
        "def Discriminator():\n",
        "    initializer = tf.random_normal_initializer(0., 0.02)\n",
        "    \n",
        "    inp = tf.keras.layers.Input(shape=[input_dimension[0], input_dimension[1], OUTPUT_CHANNELS], name='input_image')\n",
        "    tar = tf.keras.layers.Input(shape=[input_dimension[0], input_dimension[1], OUTPUT_CHANNELS], name='target_image')\n",
        "\n",
        "    x = tf.keras.layers.concatenate([inp, tar]) # (bs, 256, 256, channels*2)\n",
        "\n",
        "    down1 = downsample(64, 4, False)(x) # (bs, 128, 128, 64)\n",
        "    down2 = downsample(128, 4)(down1) # (bs, 64, 64, 128)\n",
        "    down3 = downsample(256, 4)(down2) # (bs, 32, 32, 256)\n",
        "\n",
        "    zero_pad1 = tf.keras.layers.ZeroPadding2D()(down3) # (bs, 34, 34, 256)\n",
        "    conv = tf.keras.layers.Conv2D(512, 4, strides=1,\n",
        "                                kernel_initializer=initializer,\n",
        "                                use_bias=False)(zero_pad1) # (bs, 31, 31, 512)\n",
        "\n",
        "    batchnorm1 = tf.keras.layers.BatchNormalization()(conv)\n",
        "\n",
        "    leaky_relu = tf.keras.layers.LeakyReLU()(batchnorm1)\n",
        "\n",
        "    zero_pad2 = tf.keras.layers.ZeroPadding2D()(leaky_relu) # (bs, 33, 33, 512)\n",
        "\n",
        "    last = tf.keras.layers.Conv2D(1, 4, strides=1,\n",
        "                                kernel_initializer=initializer)(zero_pad2) # (bs, 30, 30, 1)\n",
        "\n",
        "    return tf.keras.Model(inputs=[inp, tar], outputs=last)\n",
        "\n",
        "\n",
        "# define loss and optimizers\n",
        "\n",
        "loss_object = tf.keras.losses.BinaryCrossentropy(from_logits=True)\n",
        "LAMBDA = 100\n",
        "\n",
        "def generator_loss(disc_generated_output, gen_output, target):\n",
        "    gan_loss = loss_object(tf.ones_like(disc_generated_output), disc_generated_output)\n",
        "\n",
        "  # mean absolute error\n",
        "    l1_loss = tf.reduce_mean(tf.abs(target - gen_output))\n",
        "\n",
        "    total_gen_loss = gan_loss + (LAMBDA * l1_loss)\n",
        "\n",
        "    return total_gen_loss, gan_loss, l1_loss\n",
        "\n",
        "def discriminator_loss(disc_real_output, disc_generated_output):\n",
        "    real_loss = loss_object(tf.ones_like(disc_real_output), disc_real_output)\n",
        "\n",
        "    generated_loss = loss_object(tf.zeros_like(disc_generated_output), disc_generated_output)\n",
        "\n",
        "    total_disc_loss = real_loss + generated_loss\n",
        "\n",
        "    return total_disc_loss\n",
        "\n",
        "\n",
        "\n",
        "generator_optimizer = tf.keras.optimizers.Adam(2e-4, beta_1=0.5)\n",
        "discriminator_optimizer = tf.keras.optimizers.Adam(2e-4, beta_1=0.5)\n",
        "\n",
        "\n",
        "# Instantiate the models \n",
        "generator = Generator()\n",
        "discriminator = Discriminator()"
      ],
      "execution_count": 6,
      "outputs": []
    },
    {
      "cell_type": "code",
      "metadata": {
        "colab": {
          "base_uri": "https://localhost:8080/",
          "height": 656
        },
        "id": "VUYQgvS3jrIS",
        "outputId": "d6e8203b-1c2f-4892-f3ee-fbff49ae74dd"
      },
      "source": [
        "## Display graphical model description\n",
        "\n",
        "# Generator().summary()\n",
        "# Discriminator().summary()\n",
        "\n",
        "tf.keras.utils.plot_model(generator, show_shapes=True, dpi=64)\n",
        "# tf.keras.utils.plot_model(discriminator, show_shapes=True, dpi=64)"
      ],
      "execution_count": 8,
      "outputs": [
        {
          "output_type": "execute_result",
          "data": {
            "image/png": "[encoded data removed]",
            "text/plain": [
              "<IPython.core.display.Image object>"
            ]
          },
          "metadata": {
            "tags": []
          },
          "execution_count": 8
        }
      ]
    },
    {
      "cell_type": "markdown",
      "metadata": {
        "id": "K7T1o9efj0IK"
      },
      "source": [
        "## Define Training Steps and Checkpoints"
      ]
    },
    {
      "cell_type": "code",
      "metadata": {
        "id": "z0KPkCvCj1R-"
      },
      "source": [
        "# set up checkpoints and define training / fit steps\n",
        "\n",
        "# log_dir=\"/content/drive/My Drive/RadNET/logs/\"\n",
        "\n",
        "# summary_writer = tf.summary.create_file_writer(\n",
        "#   log_dir + \"fit/\" + datetime.datetime.now().strftime(\"%Y%m%d-%H%M%S\"))\n",
        "\n",
        "checkpoint_dir = '/content/drive/My Drive/RadNET/training_checkpoints/Production_Run1'\n",
        "checkpoint_prefix = os.path.join(checkpoint_dir, \"ckpt\")\n",
        "checkpoint = tf.train.Checkpoint(generator_optimizer=generator_optimizer,\n",
        "                                 discriminator_optimizer=discriminator_optimizer,\n",
        "                                 generator=generator,\n",
        "                                 discriminator=discriminator)\n",
        "\n",
        "@tf.function\n",
        "def train_step(input_image, target, epoch):\n",
        "  with tf.GradientTape() as gen_tape, tf.GradientTape() as disc_tape:\n",
        "    gen_output = generator(input_image, training=True)\n",
        "\n",
        "    disc_real_output = discriminator([input_image, target], training=True)\n",
        "    disc_generated_output = discriminator([input_image, gen_output], training=True)\n",
        "\n",
        "    gen_total_loss, gen_gan_loss, gen_l1_loss = generator_loss(disc_generated_output, gen_output, target)\n",
        "    disc_loss = discriminator_loss(disc_real_output, disc_generated_output)\n",
        "\n",
        "  generator_gradients = gen_tape.gradient(gen_total_loss,\n",
        "                                          generator.trainable_variables)\n",
        "  discriminator_gradients = disc_tape.gradient(disc_loss,\n",
        "                                               discriminator.trainable_variables)\n",
        "\n",
        "  generator_optimizer.apply_gradients(zip(generator_gradients,\n",
        "                                          generator.trainable_variables))\n",
        "  discriminator_optimizer.apply_gradients(zip(discriminator_gradients,\n",
        "                                              discriminator.trainable_variables))\n",
        "  \n",
        "def fit(train_3d, train_2d, epochs, chkpt_save):\n",
        "    for epoch in range(epochs):\n",
        "        display.clear_output(wait=True)\n",
        "        try:\n",
        "            print ('Time taken for epoch {} was {} sec\\n'.format(epoch - 1,\n",
        "                                                        time.time()-start))\n",
        "        except:\n",
        "            pass\n",
        "\n",
        "        start = time.time()\n",
        "        print(\"Epoch \", epoch, \" running...\")\n",
        "\n",
        "        n=0\n",
        "        # Train (separate Datasets for input and target)\n",
        "        for input_image, target in tf.data.Dataset.zip((train_3d, train_2d)):\n",
        "            train_step(input_image, target, epoch)\n",
        "            if (n+1) % 100 == 0:\n",
        "                print('.', end='')\n",
        "            n +=1 \n",
        "    \n",
        "        print()\n",
        "\n",
        "        \n",
        "\n",
        "\n",
        "    # saving (checkpoint) the model every chkpt_save epochs\n",
        "        if (epoch + 1) % chkpt_save == 0:\n",
        "            checkpoint.save(file_prefix = checkpoint_prefix)\n",
        "\n",
        "    checkpoint.save(file_prefix = checkpoint_prefix)"
      ],
      "execution_count": 9,
      "outputs": []
    },
    {
      "cell_type": "markdown",
      "metadata": {
        "id": "RyxdZFCxj_60"
      },
      "source": [
        "# Model Training"
      ]
    },
    {
      "cell_type": "code",
      "metadata": {
        "id": "fv8miRrgkC0b"
      },
      "source": [
        "# Load latest checkpoint if picking up / continuing training \n",
        "# Skip if starting from scratch\n",
        "\n",
        "checkpoint.restore(tf.train.latest_checkpoint(checkpoint_dir))"
      ],
      "execution_count": null,
      "outputs": []
    },
    {
      "cell_type": "code",
      "metadata": {
        "colab": {
          "base_uri": "https://localhost:8080/",
          "height": 940
        },
        "id": "lG1erWOVkP4R",
        "outputId": "70b7e781-77fa-4226-bdfa-cd648dad4493"
      },
      "source": [
        "# Define how many epochs to run model\n",
        "EPOCHS = 500\n",
        "chkpt_save = 100\n",
        "\n",
        "# Run the model\n",
        "fit(train_dataset3d, train_dataset2d, EPOCHS, chkpt_save)\n",
        "\n",
        "print(\"Training Complete!\")"
      ],
      "execution_count": 10,
      "outputs": [
        {
          "output_type": "stream",
          "text": [
            "Epoch  0  running...\n",
            "...."
          ],
          "name": "stdout"
        },
        {
          "output_type": "error",
          "ename": "ValueError",
          "evalue": "ignored",
          "traceback": [
            "\u001b[0;31m---------------------------------------------------------------------------\u001b[0m",
            "\u001b[0;31mValueError\u001b[0m                                Traceback (most recent call last)",
            "\u001b[0;32m<ipython-input-10-ff6d753a87f6>\u001b[0m in \u001b[0;36m<module>\u001b[0;34m()\u001b[0m\n\u001b[1;32m      4\u001b[0m \u001b[0;34m\u001b[0m\u001b[0m\n\u001b[1;32m      5\u001b[0m \u001b[0;31m# Run the model\u001b[0m\u001b[0;34m\u001b[0m\u001b[0;34m\u001b[0m\u001b[0;34m\u001b[0m\u001b[0m\n\u001b[0;32m----> 6\u001b[0;31m \u001b[0mfit\u001b[0m\u001b[0;34m(\u001b[0m\u001b[0mtrain_dataset3d\u001b[0m\u001b[0;34m,\u001b[0m \u001b[0mtrain_dataset2d\u001b[0m\u001b[0;34m,\u001b[0m \u001b[0mEPOCHS\u001b[0m\u001b[0;34m,\u001b[0m \u001b[0mchkpt_save\u001b[0m\u001b[0;34m)\u001b[0m\u001b[0;34m\u001b[0m\u001b[0;34m\u001b[0m\u001b[0m\n\u001b[0m\u001b[1;32m      7\u001b[0m \u001b[0;34m\u001b[0m\u001b[0m\n\u001b[1;32m      8\u001b[0m \u001b[0mprint\u001b[0m\u001b[0;34m(\u001b[0m\u001b[0;34m\"Training Complete!\"\u001b[0m\u001b[0;34m)\u001b[0m\u001b[0;34m\u001b[0m\u001b[0;34m\u001b[0m\u001b[0m\n",
            "\u001b[0;32m<ipython-input-9-47b76d18fb02>\u001b[0m in \u001b[0;36mfit\u001b[0;34m(train_3d, train_2d, epochs, chkpt_save)\u001b[0m\n\u001b[1;32m     49\u001b[0m         \u001b[0;31m# Train (separate Datasets for input and target)\u001b[0m\u001b[0;34m\u001b[0m\u001b[0;34m\u001b[0m\u001b[0;34m\u001b[0m\u001b[0m\n\u001b[1;32m     50\u001b[0m         \u001b[0;32mfor\u001b[0m \u001b[0minput_image\u001b[0m\u001b[0;34m,\u001b[0m \u001b[0mtarget\u001b[0m \u001b[0;32min\u001b[0m \u001b[0mtf\u001b[0m\u001b[0;34m.\u001b[0m\u001b[0mdata\u001b[0m\u001b[0;34m.\u001b[0m\u001b[0mDataset\u001b[0m\u001b[0;34m.\u001b[0m\u001b[0mzip\u001b[0m\u001b[0;34m(\u001b[0m\u001b[0;34m(\u001b[0m\u001b[0mtrain_3d\u001b[0m\u001b[0;34m,\u001b[0m \u001b[0mtrain_2d\u001b[0m\u001b[0;34m)\u001b[0m\u001b[0;34m)\u001b[0m\u001b[0;34m:\u001b[0m\u001b[0;34m\u001b[0m\u001b[0;34m\u001b[0m\u001b[0m\n\u001b[0;32m---> 51\u001b[0;31m             \u001b[0mtrain_step\u001b[0m\u001b[0;34m(\u001b[0m\u001b[0minput_image\u001b[0m\u001b[0;34m,\u001b[0m \u001b[0mtarget\u001b[0m\u001b[0;34m,\u001b[0m \u001b[0mepoch\u001b[0m\u001b[0;34m)\u001b[0m\u001b[0;34m\u001b[0m\u001b[0;34m\u001b[0m\u001b[0m\n\u001b[0m\u001b[1;32m     52\u001b[0m             \u001b[0;32mif\u001b[0m \u001b[0;34m(\u001b[0m\u001b[0mn\u001b[0m\u001b[0;34m+\u001b[0m\u001b[0;36m1\u001b[0m\u001b[0;34m)\u001b[0m \u001b[0;34m%\u001b[0m \u001b[0;36m100\u001b[0m \u001b[0;34m==\u001b[0m \u001b[0;36m0\u001b[0m\u001b[0;34m:\u001b[0m\u001b[0;34m\u001b[0m\u001b[0;34m\u001b[0m\u001b[0m\n\u001b[1;32m     53\u001b[0m                 \u001b[0mprint\u001b[0m\u001b[0;34m(\u001b[0m\u001b[0;34m'.'\u001b[0m\u001b[0;34m,\u001b[0m \u001b[0mend\u001b[0m\u001b[0;34m=\u001b[0m\u001b[0;34m''\u001b[0m\u001b[0;34m)\u001b[0m\u001b[0;34m\u001b[0m\u001b[0;34m\u001b[0m\u001b[0m\n",
            "\u001b[0;32m/usr/local/lib/python3.7/dist-packages/tensorflow/python/eager/def_function.py\u001b[0m in \u001b[0;36m__call__\u001b[0;34m(self, *args, **kwds)\u001b[0m\n\u001b[1;32m    887\u001b[0m \u001b[0;34m\u001b[0m\u001b[0m\n\u001b[1;32m    888\u001b[0m       \u001b[0;32mwith\u001b[0m \u001b[0mOptionalXlaContext\u001b[0m\u001b[0;34m(\u001b[0m\u001b[0mself\u001b[0m\u001b[0;34m.\u001b[0m\u001b[0m_jit_compile\u001b[0m\u001b[0;34m)\u001b[0m\u001b[0;34m:\u001b[0m\u001b[0;34m\u001b[0m\u001b[0;34m\u001b[0m\u001b[0m\n\u001b[0;32m--> 889\u001b[0;31m         \u001b[0mresult\u001b[0m \u001b[0;34m=\u001b[0m \u001b[0mself\u001b[0m\u001b[0;34m.\u001b[0m\u001b[0m_call\u001b[0m\u001b[0;34m(\u001b[0m\u001b[0;34m*\u001b[0m\u001b[0margs\u001b[0m\u001b[0;34m,\u001b[0m \u001b[0;34m**\u001b[0m\u001b[0mkwds\u001b[0m\u001b[0;34m)\u001b[0m\u001b[0;34m\u001b[0m\u001b[0;34m\u001b[0m\u001b[0m\n\u001b[0m\u001b[1;32m    890\u001b[0m \u001b[0;34m\u001b[0m\u001b[0m\n\u001b[1;32m    891\u001b[0m       \u001b[0mnew_tracing_count\u001b[0m \u001b[0;34m=\u001b[0m \u001b[0mself\u001b[0m\u001b[0;34m.\u001b[0m\u001b[0mexperimental_get_tracing_count\u001b[0m\u001b[0;34m(\u001b[0m\u001b[0;34m)\u001b[0m\u001b[0;34m\u001b[0m\u001b[0;34m\u001b[0m\u001b[0m\n",
            "\u001b[0;32m/usr/local/lib/python3.7/dist-packages/tensorflow/python/eager/def_function.py\u001b[0m in \u001b[0;36m_call\u001b[0;34m(self, *args, **kwds)\u001b[0m\n\u001b[1;32m    915\u001b[0m       \u001b[0;31m# In this case we have created variables on the first call, so we run the\u001b[0m\u001b[0;34m\u001b[0m\u001b[0;34m\u001b[0m\u001b[0;34m\u001b[0m\u001b[0m\n\u001b[1;32m    916\u001b[0m       \u001b[0;31m# defunned version which is guaranteed to never create variables.\u001b[0m\u001b[0;34m\u001b[0m\u001b[0;34m\u001b[0m\u001b[0;34m\u001b[0m\u001b[0m\n\u001b[0;32m--> 917\u001b[0;31m       \u001b[0;32mreturn\u001b[0m \u001b[0mself\u001b[0m\u001b[0;34m.\u001b[0m\u001b[0m_stateless_fn\u001b[0m\u001b[0;34m(\u001b[0m\u001b[0;34m*\u001b[0m\u001b[0margs\u001b[0m\u001b[0;34m,\u001b[0m \u001b[0;34m**\u001b[0m\u001b[0mkwds\u001b[0m\u001b[0;34m)\u001b[0m  \u001b[0;31m# pylint: disable=not-callable\u001b[0m\u001b[0;34m\u001b[0m\u001b[0;34m\u001b[0m\u001b[0m\n\u001b[0m\u001b[1;32m    918\u001b[0m     \u001b[0;32melif\u001b[0m \u001b[0mself\u001b[0m\u001b[0;34m.\u001b[0m\u001b[0m_stateful_fn\u001b[0m \u001b[0;32mis\u001b[0m \u001b[0;32mnot\u001b[0m \u001b[0;32mNone\u001b[0m\u001b[0;34m:\u001b[0m\u001b[0;34m\u001b[0m\u001b[0;34m\u001b[0m\u001b[0m\n\u001b[1;32m    919\u001b[0m       \u001b[0;31m# Release the lock early so that multiple threads can perform the call\u001b[0m\u001b[0;34m\u001b[0m\u001b[0;34m\u001b[0m\u001b[0;34m\u001b[0m\u001b[0m\n",
            "\u001b[0;32m/usr/local/lib/python3.7/dist-packages/tensorflow/python/eager/function.py\u001b[0m in \u001b[0;36m__call__\u001b[0;34m(self, *args, **kwargs)\u001b[0m\n\u001b[1;32m   3020\u001b[0m     \u001b[0;32mwith\u001b[0m \u001b[0mself\u001b[0m\u001b[0;34m.\u001b[0m\u001b[0m_lock\u001b[0m\u001b[0;34m:\u001b[0m\u001b[0;34m\u001b[0m\u001b[0;34m\u001b[0m\u001b[0m\n\u001b[1;32m   3021\u001b[0m       (graph_function,\n\u001b[0;32m-> 3022\u001b[0;31m        filtered_flat_args) = self._maybe_define_function(args, kwargs)\n\u001b[0m\u001b[1;32m   3023\u001b[0m     return graph_function._call_flat(\n\u001b[1;32m   3024\u001b[0m         filtered_flat_args, captured_inputs=graph_function.captured_inputs)  # pylint: disable=protected-access\n",
            "\u001b[0;32m/usr/local/lib/python3.7/dist-packages/tensorflow/python/eager/function.py\u001b[0m in \u001b[0;36m_maybe_define_function\u001b[0;34m(self, args, kwargs)\u001b[0m\n\u001b[1;32m   3442\u001b[0m \u001b[0;34m\u001b[0m\u001b[0m\n\u001b[1;32m   3443\u001b[0m           \u001b[0mself\u001b[0m\u001b[0;34m.\u001b[0m\u001b[0m_function_cache\u001b[0m\u001b[0;34m.\u001b[0m\u001b[0mmissed\u001b[0m\u001b[0;34m.\u001b[0m\u001b[0madd\u001b[0m\u001b[0;34m(\u001b[0m\u001b[0mcall_context_key\u001b[0m\u001b[0;34m)\u001b[0m\u001b[0;34m\u001b[0m\u001b[0;34m\u001b[0m\u001b[0m\n\u001b[0;32m-> 3444\u001b[0;31m           \u001b[0mgraph_function\u001b[0m \u001b[0;34m=\u001b[0m \u001b[0mself\u001b[0m\u001b[0;34m.\u001b[0m\u001b[0m_create_graph_function\u001b[0m\u001b[0;34m(\u001b[0m\u001b[0margs\u001b[0m\u001b[0;34m,\u001b[0m \u001b[0mkwargs\u001b[0m\u001b[0;34m)\u001b[0m\u001b[0;34m\u001b[0m\u001b[0;34m\u001b[0m\u001b[0m\n\u001b[0m\u001b[1;32m   3445\u001b[0m           \u001b[0mself\u001b[0m\u001b[0;34m.\u001b[0m\u001b[0m_function_cache\u001b[0m\u001b[0;34m.\u001b[0m\u001b[0mprimary\u001b[0m\u001b[0;34m[\u001b[0m\u001b[0mcache_key\u001b[0m\u001b[0;34m]\u001b[0m \u001b[0;34m=\u001b[0m \u001b[0mgraph_function\u001b[0m\u001b[0;34m\u001b[0m\u001b[0;34m\u001b[0m\u001b[0m\n\u001b[1;32m   3446\u001b[0m \u001b[0;34m\u001b[0m\u001b[0m\n",
            "\u001b[0;32m/usr/local/lib/python3.7/dist-packages/tensorflow/python/eager/function.py\u001b[0m in \u001b[0;36m_create_graph_function\u001b[0;34m(self, args, kwargs, override_flat_arg_shapes)\u001b[0m\n\u001b[1;32m   3287\u001b[0m             \u001b[0marg_names\u001b[0m\u001b[0;34m=\u001b[0m\u001b[0marg_names\u001b[0m\u001b[0;34m,\u001b[0m\u001b[0;34m\u001b[0m\u001b[0;34m\u001b[0m\u001b[0m\n\u001b[1;32m   3288\u001b[0m             \u001b[0moverride_flat_arg_shapes\u001b[0m\u001b[0;34m=\u001b[0m\u001b[0moverride_flat_arg_shapes\u001b[0m\u001b[0;34m,\u001b[0m\u001b[0;34m\u001b[0m\u001b[0;34m\u001b[0m\u001b[0m\n\u001b[0;32m-> 3289\u001b[0;31m             capture_by_value=self._capture_by_value),\n\u001b[0m\u001b[1;32m   3290\u001b[0m         \u001b[0mself\u001b[0m\u001b[0;34m.\u001b[0m\u001b[0m_function_attributes\u001b[0m\u001b[0;34m,\u001b[0m\u001b[0;34m\u001b[0m\u001b[0;34m\u001b[0m\u001b[0m\n\u001b[1;32m   3291\u001b[0m         \u001b[0mfunction_spec\u001b[0m\u001b[0;34m=\u001b[0m\u001b[0mself\u001b[0m\u001b[0;34m.\u001b[0m\u001b[0mfunction_spec\u001b[0m\u001b[0;34m,\u001b[0m\u001b[0;34m\u001b[0m\u001b[0;34m\u001b[0m\u001b[0m\n",
            "\u001b[0;32m/usr/local/lib/python3.7/dist-packages/tensorflow/python/framework/func_graph.py\u001b[0m in \u001b[0;36mfunc_graph_from_py_func\u001b[0;34m(name, python_func, args, kwargs, signature, func_graph, autograph, autograph_options, add_control_dependencies, arg_names, op_return_value, collections, capture_by_value, override_flat_arg_shapes)\u001b[0m\n\u001b[1;32m    997\u001b[0m         \u001b[0m_\u001b[0m\u001b[0;34m,\u001b[0m \u001b[0moriginal_func\u001b[0m \u001b[0;34m=\u001b[0m \u001b[0mtf_decorator\u001b[0m\u001b[0;34m.\u001b[0m\u001b[0munwrap\u001b[0m\u001b[0;34m(\u001b[0m\u001b[0mpython_func\u001b[0m\u001b[0;34m)\u001b[0m\u001b[0;34m\u001b[0m\u001b[0;34m\u001b[0m\u001b[0m\n\u001b[1;32m    998\u001b[0m \u001b[0;34m\u001b[0m\u001b[0m\n\u001b[0;32m--> 999\u001b[0;31m       \u001b[0mfunc_outputs\u001b[0m \u001b[0;34m=\u001b[0m \u001b[0mpython_func\u001b[0m\u001b[0;34m(\u001b[0m\u001b[0;34m*\u001b[0m\u001b[0mfunc_args\u001b[0m\u001b[0;34m,\u001b[0m \u001b[0;34m**\u001b[0m\u001b[0mfunc_kwargs\u001b[0m\u001b[0;34m)\u001b[0m\u001b[0;34m\u001b[0m\u001b[0;34m\u001b[0m\u001b[0m\n\u001b[0m\u001b[1;32m   1000\u001b[0m \u001b[0;34m\u001b[0m\u001b[0m\n\u001b[1;32m   1001\u001b[0m       \u001b[0;31m# invariant: `func_outputs` contains only Tensors, CompositeTensors,\u001b[0m\u001b[0;34m\u001b[0m\u001b[0;34m\u001b[0m\u001b[0;34m\u001b[0m\u001b[0m\n",
            "\u001b[0;32m/usr/local/lib/python3.7/dist-packages/tensorflow/python/eager/def_function.py\u001b[0m in \u001b[0;36mwrapped_fn\u001b[0;34m(*args, **kwds)\u001b[0m\n\u001b[1;32m    670\u001b[0m         \u001b[0;31m# the function a weak reference to itself to avoid a reference cycle.\u001b[0m\u001b[0;34m\u001b[0m\u001b[0;34m\u001b[0m\u001b[0;34m\u001b[0m\u001b[0m\n\u001b[1;32m    671\u001b[0m         \u001b[0;32mwith\u001b[0m \u001b[0mOptionalXlaContext\u001b[0m\u001b[0;34m(\u001b[0m\u001b[0mcompile_with_xla\u001b[0m\u001b[0;34m)\u001b[0m\u001b[0;34m:\u001b[0m\u001b[0;34m\u001b[0m\u001b[0;34m\u001b[0m\u001b[0m\n\u001b[0;32m--> 672\u001b[0;31m           \u001b[0mout\u001b[0m \u001b[0;34m=\u001b[0m \u001b[0mweak_wrapped_fn\u001b[0m\u001b[0;34m(\u001b[0m\u001b[0;34m)\u001b[0m\u001b[0;34m.\u001b[0m\u001b[0m__wrapped__\u001b[0m\u001b[0;34m(\u001b[0m\u001b[0;34m*\u001b[0m\u001b[0margs\u001b[0m\u001b[0;34m,\u001b[0m \u001b[0;34m**\u001b[0m\u001b[0mkwds\u001b[0m\u001b[0;34m)\u001b[0m\u001b[0;34m\u001b[0m\u001b[0;34m\u001b[0m\u001b[0m\n\u001b[0m\u001b[1;32m    673\u001b[0m         \u001b[0;32mreturn\u001b[0m \u001b[0mout\u001b[0m\u001b[0;34m\u001b[0m\u001b[0;34m\u001b[0m\u001b[0m\n\u001b[1;32m    674\u001b[0m \u001b[0;34m\u001b[0m\u001b[0m\n",
            "\u001b[0;32m/usr/local/lib/python3.7/dist-packages/tensorflow/python/framework/func_graph.py\u001b[0m in \u001b[0;36mwrapper\u001b[0;34m(*args, **kwargs)\u001b[0m\n\u001b[1;32m    984\u001b[0m           \u001b[0;32mexcept\u001b[0m \u001b[0mException\u001b[0m \u001b[0;32mas\u001b[0m \u001b[0me\u001b[0m\u001b[0;34m:\u001b[0m  \u001b[0;31m# pylint:disable=broad-except\u001b[0m\u001b[0;34m\u001b[0m\u001b[0;34m\u001b[0m\u001b[0m\n\u001b[1;32m    985\u001b[0m             \u001b[0;32mif\u001b[0m \u001b[0mhasattr\u001b[0m\u001b[0;34m(\u001b[0m\u001b[0me\u001b[0m\u001b[0;34m,\u001b[0m \u001b[0;34m\"ag_error_metadata\"\u001b[0m\u001b[0;34m)\u001b[0m\u001b[0;34m:\u001b[0m\u001b[0;34m\u001b[0m\u001b[0;34m\u001b[0m\u001b[0m\n\u001b[0;32m--> 986\u001b[0;31m               \u001b[0;32mraise\u001b[0m \u001b[0me\u001b[0m\u001b[0;34m.\u001b[0m\u001b[0mag_error_metadata\u001b[0m\u001b[0;34m.\u001b[0m\u001b[0mto_exception\u001b[0m\u001b[0;34m(\u001b[0m\u001b[0me\u001b[0m\u001b[0;34m)\u001b[0m\u001b[0;34m\u001b[0m\u001b[0;34m\u001b[0m\u001b[0m\n\u001b[0m\u001b[1;32m    987\u001b[0m             \u001b[0;32melse\u001b[0m\u001b[0;34m:\u001b[0m\u001b[0;34m\u001b[0m\u001b[0;34m\u001b[0m\u001b[0m\n\u001b[1;32m    988\u001b[0m               \u001b[0;32mraise\u001b[0m\u001b[0;34m\u001b[0m\u001b[0;34m\u001b[0m\u001b[0m\n",
            "\u001b[0;31mValueError\u001b[0m: in user code:\n\n    <ipython-input-9-47b76d18fb02>:23 train_step  *\n        gen_total_loss, gen_gan_loss, gen_l1_loss = generator_loss(disc_generated_output, gen_output, target)\n    <ipython-input-6-c60983ccd2e3>:131 generator_loss  *\n        l1_loss = tf.reduce_mean(tf.abs(target - gen_output))\n    /usr/local/lib/python3.7/dist-packages/tensorflow/python/ops/math_ops.py:1250 binary_op_wrapper\n        raise e\n    /usr/local/lib/python3.7/dist-packages/tensorflow/python/ops/math_ops.py:1234 binary_op_wrapper\n        return func(x, y, name=name)\n    /usr/local/lib/python3.7/dist-packages/tensorflow/python/util/dispatch.py:206 wrapper\n        return target(*args, **kwargs)\n    /usr/local/lib/python3.7/dist-packages/tensorflow/python/ops/math_ops.py:548 subtract\n        return gen_math_ops.sub(x, y, name)\n    /usr/local/lib/python3.7/dist-packages/tensorflow/python/ops/gen_math_ops.py:10562 sub\n        \"Sub\", x=x, y=y, name=name)\n    /usr/local/lib/python3.7/dist-packages/tensorflow/python/framework/op_def_library.py:750 _apply_op_helper\n        attrs=attr_protos, op_def=op_def)\n    /usr/local/lib/python3.7/dist-packages/tensorflow/python/framework/func_graph.py:601 _create_op_internal\n        compute_device)\n    /usr/local/lib/python3.7/dist-packages/tensorflow/python/framework/ops.py:3565 _create_op_internal\n        op_def=op_def)\n    /usr/local/lib/python3.7/dist-packages/tensorflow/python/framework/ops.py:2042 __init__\n        control_input_ops, op_def)\n    /usr/local/lib/python3.7/dist-packages/tensorflow/python/framework/ops.py:1883 _create_c_op\n        raise ValueError(str(e))\n\n    ValueError: Dimensions must be equal, but are 48 and 64 for '{{node sub}} = Sub[T=DT_FLOAT](target, model/conv2d_transpose_2/Tanh)' with input shapes: [48,64,64], [48,64,64,1].\n"
          ]
        }
      ]
    }
  ]
}