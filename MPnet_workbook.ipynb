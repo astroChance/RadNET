{
  "nbformat": 4,
  "nbformat_minor": 0,
  "metadata": {
    "colab": {
      "name": "MPnet_workbook.ipynb",
      "provenance": [],
      "mount_file_id": "1KChatY2q9GMHVXdMwm4-KaArP-ii6wWe",
      "authorship_tag": "ABX9TyMz0Lep+Vbl/GHgk4Y2DEVg",
      "include_colab_link": true
    },
    "kernelspec": {
      "name": "python3",
      "display_name": "Python 3"
    }
  },
  "cells": [
    {
      "cell_type": "markdown",
      "metadata": {
        "id": "view-in-github",
        "colab_type": "text"
      },
      "source": [
        "<a href=\"https://colab.research.google.com/github/astroChance/MPnet/blob/master/MPnet_workbook.ipynb\" target=\"_parent\"><img src=\"https://colab.research.google.com/assets/colab-badge.svg\" alt=\"Open In Colab\"/></a>"
      ]
    },
    {
      "cell_type": "code",
      "metadata": {
        "id": "sNF2VUUNs49L",
        "colab_type": "code",
        "colab": {
          "base_uri": "https://localhost:8080/",
          "height": 139
        },
        "outputId": "a8879555-d834-4b68-c512-24d160a67ee0"
      },
      "source": [
        "!pip install --upgrade segyio"
      ],
      "execution_count": 5,
      "outputs": [
        {
          "output_type": "stream",
          "text": [
            "Collecting segyio\n",
            "\u001b[?25l  Downloading https://files.pythonhosted.org/packages/14/e2/7a975288dcc3e159d7eda706723c029d2858cbe3df7913041af904f23866/segyio-1.9.1-cp36-cp36m-manylinux1_x86_64.whl (89kB)\n",
            "\r\u001b[K     |███▋                            | 10kB 10.6MB/s eta 0:00:01\r\u001b[K     |███████▎                        | 20kB 1.8MB/s eta 0:00:01\r\u001b[K     |███████████                     | 30kB 2.3MB/s eta 0:00:01\r\u001b[K     |██████████████▋                 | 40kB 2.6MB/s eta 0:00:01\r\u001b[K     |██████████████████▎             | 51kB 2.1MB/s eta 0:00:01\r\u001b[K     |██████████████████████          | 61kB 2.3MB/s eta 0:00:01\r\u001b[K     |█████████████████████████▌      | 71kB 2.6MB/s eta 0:00:01\r\u001b[K     |█████████████████████████████▏  | 81kB 2.8MB/s eta 0:00:01\r\u001b[K     |████████████████████████████████| 92kB 2.5MB/s \n",
            "\u001b[?25hRequirement already satisfied, skipping upgrade: numpy>=1.10 in /usr/local/lib/python3.6/dist-packages (from segyio) (1.18.5)\n",
            "Installing collected packages: segyio\n",
            "Successfully installed segyio-1.9.1\n"
          ],
          "name": "stdout"
        }
      ]
    },
    {
      "cell_type": "code",
      "metadata": {
        "id": "f47c1_4Mr32L",
        "colab_type": "code",
        "colab": {}
      },
      "source": [
        "import numpy as np\n",
        "import matplotlib.pyplot as plt\n",
        "import segyio\n",
        "import time\n",
        "import itertools\n",
        "import os\n",
        "import re\n",
        "import random"
      ],
      "execution_count": 13,
      "outputs": []
    },
    {
      "cell_type": "code",
      "metadata": {
        "id": "8grRWGbYr9VL",
        "colab_type": "code",
        "colab": {
          "base_uri": "https://localhost:8080/",
          "height": 34
        },
        "outputId": "03f147f8-d42e-40a8-9849-6d1edb5ab9d6"
      },
      "source": [
        "### Data filenames\n",
        "\n",
        "# 3D\n",
        "\n",
        "Volume3D = \"/content/drive/My Drive/MPnet/GAN data/3D/PB3D_Fritz_subset.MIG.0.sgy\"\n",
        "\n",
        "# 2D\n",
        "\n",
        "TwoDFiles = []\n",
        "for root, dirs, files in os.walk(\"/content/drive/My Drive/MPnet/GAN data/2D_new\"):\n",
        "    for name in files:\n",
        "        filename = os.path.join(root, name)\n",
        "        TwoDFiles.append(filename)\n",
        "print(\"2D files in directory: \", len(TwoDFiles))"
      ],
      "execution_count": 14,
      "outputs": [
        {
          "output_type": "stream",
          "text": [
            "2D files in directory:  140\n"
          ],
          "name": "stdout"
        }
      ]
    },
    {
      "cell_type": "code",
      "metadata": {
        "id": "Rp8YnEwYsHkS",
        "colab_type": "code",
        "colab": {
          "base_uri": "https://localhost:8080/",
          "height": 370
        },
        "outputId": "5457491a-ae9f-4931-80e5-c711029622ba"
      },
      "source": [
        "### Data geometry check\n",
        "\n",
        "Zero_Ax = []\n",
        "One_Ax = []\n",
        "\n",
        "for radar_line in TwoDFiles:\n",
        "  with segyio.open(radar_line, 'r', ignore_geometry=True) as line:\n",
        "    Zero_Ax.append(line.shape[0])\n",
        "    One_Ax.append(line.shape[1])\n",
        "\n",
        "plt.hist(Zero_Ax)\n",
        "plt.show()\n",
        "plt.hist(One_Ax)\n",
        "plt.show()"
      ],
      "execution_count": 15,
      "outputs": [
        {
          "output_type": "error",
          "ename": "RuntimeError",
          "evalue": "ignored",
          "traceback": [
            "\u001b[0;31m---------------------------------------------------------------------------\u001b[0m",
            "\u001b[0;31mRuntimeError\u001b[0m                              Traceback (most recent call last)",
            "\u001b[0;32m<ipython-input-15-a857fdcb3468>\u001b[0m in \u001b[0;36m<module>\u001b[0;34m()\u001b[0m\n\u001b[1;32m      5\u001b[0m \u001b[0;34m\u001b[0m\u001b[0m\n\u001b[1;32m      6\u001b[0m \u001b[0;32mfor\u001b[0m \u001b[0mradar_line\u001b[0m \u001b[0;32min\u001b[0m \u001b[0mTwoDFiles\u001b[0m\u001b[0;34m:\u001b[0m\u001b[0;34m\u001b[0m\u001b[0;34m\u001b[0m\u001b[0m\n\u001b[0;32m----> 7\u001b[0;31m   \u001b[0;32mwith\u001b[0m \u001b[0msegyio\u001b[0m\u001b[0;34m.\u001b[0m\u001b[0mopen\u001b[0m\u001b[0;34m(\u001b[0m\u001b[0mradar_line\u001b[0m\u001b[0;34m,\u001b[0m \u001b[0;34m'r'\u001b[0m\u001b[0;34m,\u001b[0m \u001b[0mignore_geometry\u001b[0m\u001b[0;34m=\u001b[0m\u001b[0;32mTrue\u001b[0m\u001b[0;34m)\u001b[0m \u001b[0;32mas\u001b[0m \u001b[0mline\u001b[0m\u001b[0;34m:\u001b[0m\u001b[0;34m\u001b[0m\u001b[0;34m\u001b[0m\u001b[0m\n\u001b[0m\u001b[1;32m      8\u001b[0m     \u001b[0mZero_Ax\u001b[0m\u001b[0;34m.\u001b[0m\u001b[0mappend\u001b[0m\u001b[0;34m(\u001b[0m\u001b[0mline\u001b[0m\u001b[0;34m.\u001b[0m\u001b[0mshape\u001b[0m\u001b[0;34m[\u001b[0m\u001b[0;36m0\u001b[0m\u001b[0;34m]\u001b[0m\u001b[0;34m)\u001b[0m\u001b[0;34m\u001b[0m\u001b[0;34m\u001b[0m\u001b[0m\n\u001b[1;32m      9\u001b[0m     \u001b[0mOne_Ax\u001b[0m\u001b[0;34m.\u001b[0m\u001b[0mappend\u001b[0m\u001b[0;34m(\u001b[0m\u001b[0mline\u001b[0m\u001b[0;34m.\u001b[0m\u001b[0mshape\u001b[0m\u001b[0;34m[\u001b[0m\u001b[0;36m1\u001b[0m\u001b[0;34m]\u001b[0m\u001b[0;34m)\u001b[0m\u001b[0;34m\u001b[0m\u001b[0;34m\u001b[0m\u001b[0m\n",
            "\u001b[0;32m/usr/local/lib/python3.6/dist-packages/segyio/open.py\u001b[0m in \u001b[0;36mopen\u001b[0;34m(filename, mode, iline, xline, strict, ignore_geometry, endian)\u001b[0m\n\u001b[1;32m    161\u001b[0m     \u001b[0;32mfrom\u001b[0m \u001b[0;34m.\u001b[0m \u001b[0;32mimport\u001b[0m \u001b[0m_segyio\u001b[0m\u001b[0;34m\u001b[0m\u001b[0;34m\u001b[0m\u001b[0m\n\u001b[1;32m    162\u001b[0m     \u001b[0mfd\u001b[0m \u001b[0;34m=\u001b[0m \u001b[0m_segyio\u001b[0m\u001b[0;34m.\u001b[0m\u001b[0msegyiofd\u001b[0m\u001b[0;34m(\u001b[0m\u001b[0mstr\u001b[0m\u001b[0;34m(\u001b[0m\u001b[0mfilename\u001b[0m\u001b[0;34m)\u001b[0m\u001b[0;34m,\u001b[0m \u001b[0mmode\u001b[0m\u001b[0;34m,\u001b[0m \u001b[0mendians\u001b[0m\u001b[0;34m[\u001b[0m\u001b[0mendian\u001b[0m\u001b[0;34m]\u001b[0m\u001b[0;34m)\u001b[0m\u001b[0;34m\u001b[0m\u001b[0;34m\u001b[0m\u001b[0m\n\u001b[0;32m--> 163\u001b[0;31m     \u001b[0mfd\u001b[0m\u001b[0;34m.\u001b[0m\u001b[0msegyopen\u001b[0m\u001b[0;34m(\u001b[0m\u001b[0;34m)\u001b[0m\u001b[0;34m\u001b[0m\u001b[0;34m\u001b[0m\u001b[0m\n\u001b[0m\u001b[1;32m    164\u001b[0m     \u001b[0mmetrics\u001b[0m \u001b[0;34m=\u001b[0m \u001b[0mfd\u001b[0m\u001b[0;34m.\u001b[0m\u001b[0mmetrics\u001b[0m\u001b[0;34m(\u001b[0m\u001b[0;34m)\u001b[0m\u001b[0;34m\u001b[0m\u001b[0;34m\u001b[0m\u001b[0m\n\u001b[1;32m    165\u001b[0m \u001b[0;34m\u001b[0m\u001b[0m\n",
            "\u001b[0;31mRuntimeError\u001b[0m: unable to count traces, no data traces past headers"
          ]
        }
      ]
    },
    {
      "cell_type": "code",
      "metadata": {
        "id": "Fywnef_p-WkI",
        "colab_type": "code",
        "colab": {}
      },
      "source": [
        "### Visual QC\n",
        "\n",
        "# radar_file = TwoDFiles[0]\n",
        "radar_file = random.choice(TwoDFiles)\n",
        "\n",
        "with segyio.open(radar_file, 'r', ignore_geometry=True) as segyfile:\n",
        "  display_line = segyio.tools.collect(segyfile.trace[:])\n",
        "\n",
        "plt.figure(15,5)\n",
        "plt.imshow(display_line.T, cmap='seismic_r', vmin = -60, vmax = -20, aspect='auto')\n"
      ],
      "execution_count": null,
      "outputs": []
    }
  ]
}