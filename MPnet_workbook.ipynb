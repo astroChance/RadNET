{
  "nbformat": 4,
  "nbformat_minor": 0,
  "metadata": {
    "colab": {
      "name": "MPnet_workbook.ipynb",
      "provenance": [],
      "include_colab_link": true
    },
    "kernelspec": {
      "name": "python3",
      "display_name": "Python 3"
    }
  },
  "cells": [
    {
      "cell_type": "markdown",
      "metadata": {
        "id": "view-in-github",
        "colab_type": "text"
      },
      "source": [
        "<a href=\"https://colab.research.google.com/github/astroChance/MPnet/blob/master/MPnet_workbook.ipynb\" target=\"_parent\"><img src=\"https://colab.research.google.com/assets/colab-badge.svg\" alt=\"Open In Colab\"/></a>"
      ]
    },
    {
      "cell_type": "code",
      "metadata": {
        "id": "sNF2VUUNs49L",
        "colab_type": "code",
        "colab": {
          "base_uri": "https://localhost:8080/",
          "height": 139
        },
        "outputId": "83ec9d66-aef8-4650-a3b3-e43a0ebdee1c"
      },
      "source": [
        "!pip install --upgrade segyio"
      ],
      "execution_count": 3,
      "outputs": [
        {
          "output_type": "stream",
          "text": [
            "Collecting segyio\n",
            "\u001b[?25l  Downloading https://files.pythonhosted.org/packages/14/e2/7a975288dcc3e159d7eda706723c029d2858cbe3df7913041af904f23866/segyio-1.9.1-cp36-cp36m-manylinux1_x86_64.whl (89kB)\n",
            "\u001b[K     |████████████████████████████████| 92kB 2.6MB/s \n",
            "\u001b[?25hRequirement already satisfied, skipping upgrade: numpy>=1.10 in /usr/local/lib/python3.6/dist-packages (from segyio) (1.18.5)\n",
            "Installing collected packages: segyio\n",
            "Successfully installed segyio-1.9.1\n"
          ],
          "name": "stdout"
        }
      ]
    },
    {
      "cell_type": "code",
      "metadata": {
        "id": "hJhY6pQ2QssZ",
        "colab_type": "code",
        "colab": {
          "base_uri": "https://localhost:8080/",
          "height": 54
        },
        "outputId": "416ab887-cc81-4fa9-9533-60bcff8df079"
      },
      "source": [
        "from google.colab import drive\n",
        "drive.mount('/content/drive')"
      ],
      "execution_count": 2,
      "outputs": [
        {
          "output_type": "stream",
          "text": [
            "Drive already mounted at /content/drive; to attempt to forcibly remount, call drive.mount(\"/content/drive\", force_remount=True).\n"
          ],
          "name": "stdout"
        }
      ]
    },
    {
      "cell_type": "code",
      "metadata": {
        "id": "f47c1_4Mr32L",
        "colab_type": "code",
        "colab": {}
      },
      "source": [
        "import numpy as np\n",
        "import matplotlib.pyplot as plt\n",
        "import segyio\n",
        "import time\n",
        "import itertools\n",
        "import os\n",
        "import re\n",
        "import random"
      ],
      "execution_count": 4,
      "outputs": []
    },
    {
      "cell_type": "code",
      "metadata": {
        "id": "8grRWGbYr9VL",
        "colab_type": "code",
        "colab": {
          "base_uri": "https://localhost:8080/",
          "height": 34
        },
        "outputId": "c9723834-057b-47da-b344-b0b9813668d1"
      },
      "source": [
        "### Data filenames\n",
        "\n",
        "# 3D\n",
        "\n",
        "Volume3D = \"/content/drive/My Drive/MPnet/GAN data/3D/PB3D_Fritz_subset.sgy\"\n",
        "\n",
        "# 2D\n",
        "\n",
        "TwoDFiles = []\n",
        "for root, dirs, files in os.walk(\"/content/drive/My Drive/MPnet/GAN data/2D\"):\n",
        "    for name in files:\n",
        "        filename = os.path.join(root, name)\n",
        "        TwoDFiles.append(filename)\n",
        "print(\"2D files in directory: \", len(TwoDFiles))"
      ],
      "execution_count": 5,
      "outputs": [
        {
          "output_type": "stream",
          "text": [
            "2D files in directory:  140\n"
          ],
          "name": "stdout"
        }
      ]
    },
    {
      "cell_type": "code",
      "metadata": {
        "id": "Rp8YnEwYsHkS",
        "colab_type": "code",
        "colab": {
          "base_uri": "https://localhost:8080/",
          "height": 530
        },
        "outputId": "d1f90be0-a2e8-400d-b4e7-7958b1b33f1f"
      },
      "source": [
        "### Data geometry check\n",
        "\n",
        "Zero_Ax = []\n",
        "One_Ax = []\n",
        "\n",
        "for radar_line in TwoDFiles:\n",
        "  with segyio.open(radar_line, 'r', ignore_geometry=True) as line:\n",
        "    Line = segyio.tools.collect(line.trace[:])\n",
        "    Zero_Ax.append(Line.shape[0])\n",
        "    One_Ax.append(Line.shape[1])\n",
        "\n",
        "plt.hist(Zero_Ax, bins=50)\n",
        "plt.show()\n",
        "plt.hist(One_Ax, range=[0,4000])\n",
        "plt.show()\n",
        "\n",
        "print(sum(One_Ax) / len(One_Ax))"
      ],
      "execution_count": 14,
      "outputs": [
        {
          "output_type": "display_data",
          "data": {
            "image/png": "[encoded data removed]",
            "text/plain": [
              "<Figure size 432x288 with 1 Axes>"
            ]
          },
          "metadata": {
            "tags": [],
            "needs_background": "light"
          }
        },
        {
          "output_type": "display_data",
          "data": {
            "image/png": "[encoded data removed]",
            "text/plain": [
              "<Figure size 432x288 with 1 Axes>"
            ]
          },
          "metadata": {
            "tags": [],
            "needs_background": "light"
          }
        },
        {
          "output_type": "stream",
          "text": [
            "3600.0\n"
          ],
          "name": "stdout"
        }
      ]
    },
    {
      "cell_type": "code",
      "metadata": {
        "id": "Fywnef_p-WkI",
        "colab_type": "code",
        "colab": {}
      },
      "source": [
        "### Visual QC\n",
        "\n",
        "# radar_file = TwoDFiles[0]\n",
        "radar_file = random.choice(TwoDFiles)\n",
        "\n",
        "with segyio.open(radar_file, 'r', ignore_geometry=True) as segyfile:\n",
        "  display_line = segyio.tools.collect(segyfile.trace[:])\n",
        "\n",
        "plt.figure(figsize=(15,5))\n",
        "plt.imshow(display_line.T, cmap='seismic_r', vmin = -60, vmax = -20, aspect='auto')\n"
      ],
      "execution_count": null,
      "outputs": []
    }
  ]
}