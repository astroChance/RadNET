{
  "nbformat": 4,
  "nbformat_minor": 0,
  "metadata": {
    "colab": {
      "name": "Post_DL_workbook.ipynb",
      "provenance": [],
      "authorship_tag": "ABX9TyOHR0WELSEmhk0vr8jqX4De",
      "include_colab_link": true
    },
    "kernelspec": {
      "name": "python3",
      "display_name": "Python 3"
    }
  },
  "cells": [
    {
      "cell_type": "markdown",
      "metadata": {
        "id": "view-in-github",
        "colab_type": "text"
      },
      "source": [
        "<a href=\"https://colab.research.google.com/github/astroChance/RadNET/blob/master/Post_DL_workbook.ipynb\" target=\"_parent\"><img src=\"https://colab.research.google.com/assets/colab-badge.svg\" alt=\"Open In Colab\"/></a>"
      ]
    },
    {
      "cell_type": "markdown",
      "metadata": {
        "id": "mtaUs32WT2IZ"
      },
      "source": [
        "# Imports and Drive Mount"
      ]
    },
    {
      "cell_type": "code",
      "metadata": {
        "id": "5JLbDjt1T6gl"
      },
      "source": [
        "!pip install --upgrade segyio"
      ],
      "execution_count": null,
      "outputs": []
    },
    {
      "cell_type": "code",
      "metadata": {
        "id": "RWzo4xtdT-lf"
      },
      "source": [
        "import numpy as np\n",
        "from math import sqrt\n",
        "import matplotlib\n",
        "import matplotlib.pyplot as plt\n",
        "from matplotlib.ticker import StrMethodFormatter\n",
        "import segyio\n",
        "import time\n",
        "import itertools\n",
        "import os\n",
        "import re\n",
        "import random\n",
        "from PIL import Image\n",
        "from scipy import spatial, signal\n",
        "import json\n",
        "from sklearn.preprocessing import normalize, StandardScaler"
      ],
      "execution_count": null,
      "outputs": []
    },
    {
      "cell_type": "code",
      "metadata": {
        "id": "5OXpX79KT_v1"
      },
      "source": [
        "from google.colab import drive\n",
        "drive.mount('/content/drive/')"
      ],
      "execution_count": null,
      "outputs": []
    },
    {
      "cell_type": "code",
      "metadata": {
        "id": "ohzVDzK3ULvy"
      },
      "source": [
        "### SEGY Data filenames\n",
        "\n",
        "# 3D\n",
        "\n",
        "Volume3D = \"/content/drive/My Drive/MPnet/GAN data/3D/PB3D_Fritz_subset.sgy\"\n",
        "\n",
        "# 2D\n",
        "\n",
        "TwoDFiles = []\n",
        "for root, dirs, files in os.walk(\"/content/drive/My Drive/MPnet/GAN data/2D\"):\n",
        "    for name in files:\n",
        "        filename = os.path.join(root, name)\n",
        "        TwoDFiles.append(filename)\n",
        "print(\"2D files in directory: \", len(TwoDFiles))"
      ],
      "execution_count": null,
      "outputs": []
    },
    {
      "cell_type": "markdown",
      "metadata": {
        "id": "E1xhg0O7VSub"
      },
      "source": [
        "# Custom Functions"
      ]
    },
    {
      "cell_type": "code",
      "metadata": {
        "id": "8q5aNduSVVK3"
      },
      "source": [
        "def griffin_lim(magnitude, iterations, orig_sig, fs, nperseg, noverlap, window):\n",
        "    \"\"\"\n",
        "    Inputs:\n",
        "      magnitude: the real-value spectrogram array to be converted to signal\n",
        "      iterations: number of iterations to perform Griffin Lim, suggest several hundred -> 1000\n",
        "      orig_sig: the original time-domain signal prior to enhancement\n",
        "            -typical GLA uses random initial signal, using original signal improves stability\n",
        "      fs, nperseg, noverlap, window: parameters from original STFT\n",
        "\n",
        "\n",
        "    Returns:\n",
        "      GLA reconstructed time domain signal\n",
        "\n",
        "    \"\"\"\n",
        "    sig_recon = orig_sig\n",
        "\n",
        "    error = []\n",
        "\n",
        "    while iterations > 0:\n",
        "        _, _, temp_spec = signal.stft(sig_recon, window = window, fs = fs, nperseg = nperseg, noverlap=noverlap)\n",
        "        comp_angle = np.angle(temp_spec)\n",
        "        new_spec = magnitude*np.exp(1j*comp_angle)\n",
        "        prev_sig = sig_recon\n",
        "        _, sig_recon = signal.istft(new_spec, window = window, fs = fs, nperseg = nperseg, noverlap=noverlap)\n",
        "\n",
        "        if iterations % 10 == 0:\n",
        "            try:\n",
        "                rmse = sqrt(sum((sig_recon - prev_sig)**2) / prev_sig.size)\n",
        "                error.append(rmse)\n",
        "            except ValueError:\n",
        "                if len(sig_recon) > len(prev_sig):\n",
        "                    sig_recon_tmp = sig_recon[:len(prev_sig)]\n",
        "                    rmse = sqrt(sum((sig_recon_tmp - prev_sig)**2) / prev_sig.size)\n",
        "                    error.append(rmse)\n",
        "                if len(sig_recon) < len(prev_sig):\n",
        "                    prev_sig_tmp = prev_sig[:len(sig_recon)]\n",
        "                    rmse = sqrt(sum((sig_recon - prev_sig_tmp)**2) / prev_sig_tmp.size)\n",
        "                    error.append(rmse)\n",
        "        # print(\"\\rCurrent error for iteration \", iterations,\": \", rmse, end='', flush=True)\n",
        "        \n",
        "        iterations -= 1\n",
        "\n",
        "    return sig_recon, error"
      ],
      "execution_count": null,
      "outputs": []
    }
  ]
}