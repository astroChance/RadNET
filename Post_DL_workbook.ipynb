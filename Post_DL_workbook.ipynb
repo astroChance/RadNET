{
  "nbformat": 4,
  "nbformat_minor": 0,
  "metadata": {
    "colab": {
      "name": "Post_DL_workbook.ipynb",
      "provenance": [],
      "toc_visible": true,
      "authorship_tag": "ABX9TyPUFQ9xBIg4GDqber56e83w",
      "include_colab_link": true
    },
    "kernelspec": {
      "name": "python3",
      "display_name": "Python 3"
    }
  },
  "cells": [
    {
      "cell_type": "markdown",
      "metadata": {
        "id": "view-in-github",
        "colab_type": "text"
      },
      "source": [
        "<a href=\"https://colab.research.google.com/github/astroChance/RadNET/blob/master/Post_DL_workbook.ipynb\" target=\"_parent\"><img src=\"https://colab.research.google.com/assets/colab-badge.svg\" alt=\"Open In Colab\"/></a>"
      ]
    },
    {
      "cell_type": "markdown",
      "metadata": {
        "id": "mtaUs32WT2IZ"
      },
      "source": [
        "# Imports and Drive Mount"
      ]
    },
    {
      "cell_type": "code",
      "metadata": {
        "id": "5JLbDjt1T6gl"
      },
      "source": [
        "!pip install --upgrade segyio"
      ],
      "execution_count": null,
      "outputs": []
    },
    {
      "cell_type": "code",
      "metadata": {
        "id": "RWzo4xtdT-lf"
      },
      "source": [
        "import numpy as np\n",
        "from math import sqrt\n",
        "import matplotlib\n",
        "import matplotlib.pyplot as plt\n",
        "from matplotlib.ticker import StrMethodFormatter\n",
        "import segyio\n",
        "import time\n",
        "import itertools\n",
        "import os\n",
        "import re\n",
        "import random\n",
        "from PIL import Image\n",
        "from scipy import spatial, signal\n",
        "import json\n",
        "from sklearn.preprocessing import normalize, StandardScaler"
      ],
      "execution_count": null,
      "outputs": []
    },
    {
      "cell_type": "code",
      "metadata": {
        "id": "5OXpX79KT_v1"
      },
      "source": [
        "from google.colab import drive\n",
        "drive.mount('/content/drive/')"
      ],
      "execution_count": null,
      "outputs": []
    },
    {
      "cell_type": "code",
      "metadata": {
        "id": "ohzVDzK3ULvy"
      },
      "source": [
        "### DL prediction images\n",
        "predict_path = \"/content/drive/My Drive/RadNET/GAN data/Dev_Testing_Data/Test_Predictions/\"\n",
        "InferenceFiles = []\n",
        "for root, dirs, files in os.walk(predict_path):\n",
        "    for name in files:\n",
        "        filename = os.path.join(root, name)\n",
        "        InferenceFiles.append(filename)\n",
        "\n",
        "## Corresponding 2D (target) and 3D (input) images\n",
        "_2D_image_path = \"/content/drive/My Drive/RadNET/GAN data/Dev_Testing_Data/2D_testing\"\n",
        "ImageFiles_2D = []\n",
        "for root, dirs, files in os.walk(_2D_image_path):\n",
        "    for name in files:\n",
        "        filename = os.path.join(root, name)\n",
        "        ImageFiles_2D.append(filename)\n",
        "\n",
        "_3D_image_path = \"/content/drive/My Drive/RadNET/GAN data/Dev_Testing_Data/3D_testing\"\n",
        "ImageFiles_3D = []\n",
        "for root, dirs, files in os.walk(_3D_image_path):\n",
        "    for name in files:\n",
        "        filename = os.path.join(root, name)\n",
        "        ImageFiles_3D.append(filename)"
      ],
      "execution_count": null,
      "outputs": []
    },
    {
      "cell_type": "code",
      "metadata": {
        "id": "7T7RCt9SvnYV"
      },
      "source": [
        "### SEGY Data filenames\n",
        "# 3D\n",
        "\n",
        "Volume3D = \"/content/drive/My Drive/RadNET/GAN data/3D/PB3D_Fritz_subset.sgy\"\n",
        "\n",
        "# 2D\n",
        "\n",
        "_2D_segy_path = \"/content/drive/My Drive/RadNET/GAN data/2D\"\n",
        "TwoDFiles = []\n",
        "for root, dirs, files in os.walk(_2D_segy_path):\n",
        "    for name in files:\n",
        "        filename = os.path.join(root, name)\n",
        "        TwoDFiles.append(filename)"
      ],
      "execution_count": null,
      "outputs": []
    },
    {
      "cell_type": "markdown",
      "metadata": {
        "id": "E1xhg0O7VSub"
      },
      "source": [
        "# Custom Functions"
      ]
    },
    {
      "cell_type": "code",
      "metadata": {
        "id": "8q5aNduSVVK3"
      },
      "source": [
        "########\n",
        "# Griffin Lim implementation\n",
        "\n",
        "def griffin_lim(magnitude, iterations, orig_sig, fs, nperseg, noverlap, window):\n",
        "    \"\"\"\n",
        "    Inputs:\n",
        "      magnitude: the real-value spectrogram array to be converted to signal\n",
        "      iterations: number of iterations to perform Griffin Lim, suggest several hundred -> 1000\n",
        "      orig_sig: the original time-domain signal prior to enhancement\n",
        "            -typical GLA uses random initial signal, using original signal improves stability\n",
        "      fs, nperseg, noverlap, window: parameters from original STFT\n",
        "\n",
        "\n",
        "    Returns:\n",
        "      GLA reconstructed time domain signal\n",
        "\n",
        "    \"\"\"\n",
        "    sig_recon = orig_sig\n",
        "\n",
        "    error = []\n",
        "\n",
        "    while iterations > 0:\n",
        "        _, _, temp_spec = signal.stft(sig_recon, window = window, fs = fs, nperseg = nperseg, noverlap=noverlap)\n",
        "        comp_angle = np.angle(temp_spec)\n",
        "        new_spec = magnitude*np.exp(1j*comp_angle)\n",
        "        prev_sig = sig_recon\n",
        "        _, sig_recon = signal.istft(new_spec, window = window, fs = fs, nperseg = nperseg, noverlap=noverlap)\n",
        "\n",
        "        if iterations % 10 == 0:\n",
        "            try:\n",
        "                rmse = sqrt(sum((sig_recon - prev_sig)**2) / prev_sig.size)\n",
        "                error.append(rmse)\n",
        "            except ValueError:\n",
        "                if len(sig_recon) > len(prev_sig):\n",
        "                    sig_recon_tmp = sig_recon[:len(prev_sig)]\n",
        "                    rmse = sqrt(sum((sig_recon_tmp - prev_sig)**2) / prev_sig.size)\n",
        "                    error.append(rmse)\n",
        "                if len(sig_recon) < len(prev_sig):\n",
        "                    prev_sig_tmp = prev_sig[:len(sig_recon)]\n",
        "                    rmse = sqrt(sum((sig_recon - prev_sig_tmp)**2) / prev_sig_tmp.size)\n",
        "                    error.append(rmse)\n",
        "        # print(\"\\rCurrent error for iteration \", iterations,\": \", rmse, end='', flush=True)\n",
        "        \n",
        "        iterations -= 1\n",
        "\n",
        "    return sig_recon, error\n",
        "\n",
        "\n",
        "\n",
        "\n",
        "\n",
        "########\n",
        "# Return the 0-1 data value corresponding to RGB color\n",
        "\n",
        "def get_val_color(RGB_val, cmap):\n",
        "  colors = cmap(np.arange(0,cmap.N))\n",
        "\n",
        "  idx_arr = np.array([])\n",
        "  for i in range(colors.shape[0]):\n",
        "    idx_arr = np.append(idx_arr, (np.abs(RGB_val[0]-colors[i][0]) + np.abs(RGB_val[1]-colors[i][1]) + np.abs(RGB_val[2]-colors[i][2])))\n",
        "\n",
        "    color_idx = idx_arr.argmin()\n",
        "    value = color_idx/cmap.N\n",
        "  return value"
      ],
      "execution_count": null,
      "outputs": []
    },
    {
      "cell_type": "markdown",
      "metadata": {
        "id": "dzY5Lc_DwvKO"
      },
      "source": [
        "# Compare sample of predictions to 2D and 3D images"
      ]
    },
    {
      "cell_type": "markdown",
      "metadata": {
        "id": "0TRguHtdwzn9"
      },
      "source": [
        "# Convert prediction images back to magnitude spectra arrays"
      ]
    },
    {
      "cell_type": "code",
      "metadata": {
        "id": "y3FXRQILxPBK"
      },
      "source": [
        "## Parameters from image generation\n",
        "\n",
        "colormap = 'jet'\n",
        "min_val = -10\n",
        "max_val = 0"
      ],
      "execution_count": null,
      "outputs": []
    },
    {
      "cell_type": "code",
      "metadata": {
        "id": "fH_99T_uxdzf"
      },
      "source": [
        "## remember images were displayed as log(absval(STFT output))\n",
        "\n",
        "## once values are grabbed from color, use np.exp(value)"
      ],
      "execution_count": null,
      "outputs": []
    },
    {
      "cell_type": "markdown",
      "metadata": {
        "id": "zCIn-EuGw9Hb"
      },
      "source": [
        "# Run GLA on predicted magnitude spectra"
      ]
    },
    {
      "cell_type": "code",
      "metadata": {
        "id": "hGHB5Te7xaDE"
      },
      "source": [
        "## Parameters from initial STFT\n",
        "\n",
        "fs = 1 / 0.0000000375     \n",
        "nperseg = 128        \n",
        "noverlap = 96\n",
        "window = signal.hann(nperseg, sym=False)"
      ],
      "execution_count": null,
      "outputs": []
    }
  ]
}