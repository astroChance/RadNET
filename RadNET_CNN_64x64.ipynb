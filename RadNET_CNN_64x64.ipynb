{
  "nbformat": 4,
  "nbformat_minor": 0,
  "metadata": {
    "accelerator": "GPU",
    "colab": {
      "name": "RadNET_CNN_64x64.ipynb",
      "provenance": [],
      "toc_visible": true,
      "machine_shape": "hm",
      "authorship_tag": "ABX9TyO5PCt7tKJpjpWTmPBCUhns",
      "include_colab_link": true
    },
    "kernelspec": {
      "display_name": "Python 3",
      "name": "python3"
    },
    "language_info": {
      "name": "python"
    }
  },
  "cells": [
    {
      "cell_type": "markdown",
      "metadata": {
        "id": "view-in-github",
        "colab_type": "text"
      },
      "source": [
        "<a href=\"https://colab.research.google.com/github/astroChance/RadNET/blob/master/RadNET_CNN_64x64.ipynb\" target=\"_parent\"><img src=\"https://colab.research.google.com/assets/colab-badge.svg\" alt=\"Open In Colab\"/></a>"
      ]
    },
    {
      "cell_type": "markdown",
      "metadata": {
        "id": "7J2q7s6A01HX"
      },
      "source": [
        "# Imports and Data Loading"
      ]
    },
    {
      "cell_type": "code",
      "metadata": {
        "colab": {
          "base_uri": "https://localhost:8080/"
        },
        "id": "D6h-3d2B0wJH",
        "outputId": "af12c6a3-0ee9-4610-9efe-92f1d2477bdf"
      },
      "source": [
        "!pip install --upgrade segyio\n",
        "import segyio\n",
        "import numpy as np\n",
        "from math import sqrt\n",
        "import matplotlib\n",
        "import matplotlib.pyplot as plt\n",
        "import time\n",
        "import os\n",
        "import re\n",
        "import random\n",
        "from scipy import spatial, signal\n",
        "import json\n",
        "from sklearn.preprocessing import StandardScaler, MinMaxScaler\n",
        "\n",
        "from IPython import display\n",
        "import datetime\n",
        "import tensorflow as tf"
      ],
      "execution_count": 1,
      "outputs": [
        {
          "output_type": "stream",
          "text": [
            "Collecting segyio\n",
            "\u001b[?25l  Downloading https://files.pythonhosted.org/packages/65/16/a6e6aff92578e5079aae2c4bd2d9dd086974ae61a943e3e9638f05745a5a/segyio-1.9.6-cp37-cp37m-manylinux1_x86_64.whl (90kB)\n",
            "\r\u001b[K     |███▋                            | 10kB 22.4MB/s eta 0:00:01\r\u001b[K     |███████▎                        | 20kB 7.2MB/s eta 0:00:01\r\u001b[K     |███████████                     | 30kB 6.9MB/s eta 0:00:01\r\u001b[K     |██████████████▌                 | 40kB 6.9MB/s eta 0:00:01\r\u001b[K     |██████████████████▏             | 51kB 4.0MB/s eta 0:00:01\r\u001b[K     |█████████████████████▉          | 61kB 4.2MB/s eta 0:00:01\r\u001b[K     |█████████████████████████▍      | 71kB 4.6MB/s eta 0:00:01\r\u001b[K     |█████████████████████████████   | 81kB 4.9MB/s eta 0:00:01\r\u001b[K     |████████████████████████████████| 92kB 3.7MB/s \n",
            "\u001b[?25hRequirement already satisfied, skipping upgrade: numpy>=1.10 in /usr/local/lib/python3.7/dist-packages (from segyio) (1.19.5)\n",
            "Installing collected packages: segyio\n",
            "Successfully installed segyio-1.9.6\n"
          ],
          "name": "stdout"
        }
      ]
    },
    {
      "cell_type": "code",
      "metadata": {
        "colab": {
          "base_uri": "https://localhost:8080/"
        },
        "id": "APtmrldt07VW",
        "outputId": "7a41fad6-0907-490a-b9d1-f75001ad5082"
      },
      "source": [
        "from google.colab import drive\n",
        "drive.mount('/content/drive/')"
      ],
      "execution_count": 2,
      "outputs": [
        {
          "output_type": "stream",
          "text": [
            "Mounted at /content/drive/\n"
          ],
          "name": "stdout"
        }
      ]
    },
    {
      "cell_type": "markdown",
      "metadata": {
        "id": "btcTFuOy077U"
      },
      "source": [
        "# Functions"
      ]
    },
    {
      "cell_type": "code",
      "metadata": {
        "id": "JjxItMoj1B7K"
      },
      "source": [
        "########\n",
        "# Functions for creating synthetic noise\n",
        "\n",
        "def fftnoise(f):\n",
        "    f = np.array(f, dtype='complex')\n",
        "    Np = (len(f) - 1) // 2\n",
        "    phases = np.random.rand(Np) * 2 * np.pi\n",
        "    phases = np.cos(phases) + 1j * np.sin(phases)\n",
        "    f[1:Np+1] *= phases\n",
        "    f[-1:-1-Np:-1] = np.conj(f[1:Np+1])\n",
        "    return np.fft.ifft(f).real\n",
        "\n",
        "def band_limited_noise(min_freq, max_freq, samples=1070, samplerate=1):\n",
        "    freqs = np.abs(np.fft.fftfreq(samples, 1/samplerate))\n",
        "    f = np.zeros(samples)\n",
        "    idx = np.where(np.logical_and(freqs>=min_freq, freqs<=max_freq))[0]\n",
        "    f[idx] = 1\n",
        "    return fftnoise(f)\n",
        "\n",
        "\n",
        "########\n",
        "# Griffin Lim implementation for estimating phase\n",
        "\n",
        "def griffin_lim(magnitude, iterations, orig_sig, fs, nperseg, noverlap, window):\n",
        "    \"\"\"\n",
        "    Inputs:\n",
        "      magnitude: the real-value spectrogram array to be converted to signal\n",
        "      iterations: number of iterations to perform Griffin Lim, suggest several hundred -> 1000\n",
        "      orig_sig: the original time-domain signal prior to enhancement\n",
        "            -typical GLA uses random initial signal, using original signal improves stability\n",
        "      fs, nperseg, noverlap, window: parameters from original STFT\n",
        "\n",
        "\n",
        "    Returns:\n",
        "      GLA reconstructed time domain signal\n",
        "\n",
        "    \"\"\"\n",
        "    sig_recon = orig_sig\n",
        "\n",
        "    error = []\n",
        "\n",
        "    while iterations > 0:\n",
        "        _, _, temp_spec = signal.stft(sig_recon, window = window, fs = fs, nperseg = nperseg, noverlap=noverlap)\n",
        "        comp_angle = np.angle(temp_spec)\n",
        "        new_spec = magnitude*np.exp(1j*comp_angle)\n",
        "        prev_sig = sig_recon\n",
        "        _, sig_recon = signal.istft(new_spec, window = window, fs = fs, nperseg = nperseg, noverlap=noverlap)\n",
        "\n",
        "        if iterations % 10 == 0:\n",
        "            try:\n",
        "                rmse = sqrt(sum((sig_recon - prev_sig)**2) / prev_sig.size)\n",
        "                error.append(rmse)\n",
        "            except ValueError:\n",
        "                if len(sig_recon) > len(prev_sig):\n",
        "                    sig_recon_tmp = sig_recon[:len(prev_sig)]\n",
        "                    rmse = sqrt(sum((sig_recon_tmp - prev_sig)**2) / prev_sig.size)\n",
        "                    error.append(rmse)\n",
        "                if len(sig_recon) < len(prev_sig):\n",
        "                    prev_sig_tmp = prev_sig[:len(sig_recon)]\n",
        "                    rmse = sqrt(sum((sig_recon - prev_sig_tmp)**2) / prev_sig_tmp.size)\n",
        "                    error.append(rmse)\n",
        "        # print(\"\\rCurrent error for iteration \", iterations,\": \", rmse, end='', flush=True)\n",
        "        \n",
        "        iterations -= 1\n",
        "\n",
        "    return sig_recon, error"
      ],
      "execution_count": null,
      "outputs": []
    },
    {
      "cell_type": "markdown",
      "metadata": {
        "id": "8TUcwX-s1I0e"
      },
      "source": [
        "# Load data Numpy files, create Dataset"
      ]
    },
    {
      "cell_type": "code",
      "metadata": {
        "colab": {
          "base_uri": "https://localhost:8080/"
        },
        "id": "4l84J7031Jas",
        "outputId": "87eaf09d-36a2-4235-be48-8ba7985cb521"
      },
      "source": [
        "##################\n",
        "## Load numpy files\n",
        "## Create Tensorflow Dataset\n",
        "start = time.time()\n",
        "\n",
        "\n",
        "#---------------------------\n",
        "# Specify whether to load 'NOISY' data \n",
        "# or '3D' data as input\n",
        "\n",
        "input_data_type = 'NOISY'\n",
        "\n",
        "# Specify 'magnitude' or 'complex'\n",
        "model_type = 'magnitude'\n",
        "\n",
        "if model_type.lower() == 'magnitude':\n",
        "    OUTPUT_CHANNELS = 1\n",
        "elif model_type.lower() == 'complex':\n",
        "    OUTPUT_CHANNELS = 2\n",
        "else:\n",
        "    raise ValueError(\"Specify a valid model type\")\n",
        "\n",
        "# Specify batch size\n",
        "BATCH_SIZE = 64\n",
        "\n",
        "#---------------------------\n",
        "\n",
        "\n",
        "\n",
        "\n",
        "input_data_dir_2D = \"/content/drive/My Drive/RadNET/GAN data/Phase2/Training/2D\"\n",
        "input_data_dir_3D = \"/content/drive/My Drive/RadNET/GAN data/Phase2/Training/3D\"\n",
        "input_data_dir_Noisy = \"/content/drive/My Drive/RadNET/GAN data/Phase2/Training/Noisy\"\n",
        "\n",
        "if model_type == 'magnitude':\n",
        "    assert 'complex' not in input_data_dir_2D.lower(), \"Check data filepaths\"\n",
        "elif model_type == 'complex':\n",
        "    assert 'complex' in input_data_dir_2D.lower(), \"Check data filepaths\"\n",
        "\n",
        "numpy_filepaths_2D = []\n",
        "for root, dirs, files in os.walk(input_data_dir_2D):\n",
        "    for name in files:\n",
        "        if name.endswith('.npy'):\n",
        "            filename = os.path.join(root, name)\n",
        "            numpy_filepaths_2D.append(filename)\n",
        "\n",
        "numpy_filepaths_3D = []\n",
        "for root, dirs, files in os.walk(input_data_dir_3D):\n",
        "    for name in files:\n",
        "        if name.endswith('.npy'):\n",
        "            filename = os.path.join(root, name)\n",
        "            numpy_filepaths_3D.append(filename)\n",
        "\n",
        "numpy_filepaths_Noisy = []\n",
        "for root, dirs, files in os.walk(input_data_dir_Noisy):\n",
        "    for name in files:\n",
        "        if name.endswith('.npy'):\n",
        "            filename = os.path.join(root, name)\n",
        "            numpy_filepaths_Noisy.append(filename)\n",
        "\n",
        "assert len(numpy_filepaths_2D) == len(numpy_filepaths_3D), 'Check 2D and 3D filepaths'\n",
        "assert len(numpy_filepaths_2D) == len(numpy_filepaths_Noisy), 'Check 2D and Noisy filepaths'\n",
        "\n",
        "input_dimension = (64, 64, OUTPUT_CHANNELS)\n",
        "specs_per_training_file = 5000 \n",
        "total_files =  specs_per_training_file*len(numpy_filepaths_2D)\n",
        "\n",
        "train_dataset_target = np.zeros((total_files, input_dimension[0], input_dimension[1], input_dimension[2]))\n",
        "train_dataset_input = np.zeros((total_files, input_dimension[0], input_dimension[1], input_dimension[2]))\n",
        "\n",
        "\n",
        "for N in range(len(numpy_filepaths_2D)):\n",
        "    tmp_target_arr = np.load(numpy_filepaths_2D[N])\n",
        "\n",
        "    if input_data_type == 'NOISY':\n",
        "        tmp_input_arr = np.load(numpy_filepaths_Noisy[N])\n",
        "    if input_data_type == '3D':\n",
        "        tmp_input_arr = np.load(numpy_filepaths_3D[N])\n",
        "\n",
        "    if model_type.lower() == 'magnitude':\n",
        "        tmp_target_arr = np.expand_dims(tmp_target_arr, axis=-1)\n",
        "        tmp_input_arr = np.expand_dims(tmp_input_arr, axis=-1)\n",
        "\n",
        "    insertion_idx = N * specs_per_training_file\n",
        "\n",
        "    train_dataset_target[insertion_idx:insertion_idx + specs_per_training_file, :, :, :] = tmp_target_arr\n",
        "    train_dataset_input[insertion_idx:insertion_idx + specs_per_training_file, :, :, :] = tmp_input_arr\n",
        "\n",
        "\n",
        "\n",
        "# Scale and shape data\n",
        "\n",
        "minmax_target = MinMaxScaler()\n",
        "minmax_input = MinMaxScaler()\n",
        "\n",
        "train_dataset_target = minmax_target.fit_transform(np.expand_dims(train_dataset_target.flatten(), axis=1))\n",
        "train_dataset_target = np.reshape(train_dataset_target, (total_files, \n",
        "                                                     input_dimension[0], input_dimension[1], input_dimension[2]))\n",
        "\n",
        "train_dataset_input = minmax_input.fit_transform(np.expand_dims(train_dataset_input.flatten(), axis=1))\n",
        "train_dataset_input = np.reshape(train_dataset_input, (total_files, \n",
        "                                                   input_dimension[0], input_dimension[1], input_dimension[2]))\n",
        "\n",
        "\n",
        "end = time.time()\n",
        "print(\"Time to completion (s): \", round(end-start))"
      ],
      "execution_count": 3,
      "outputs": [
        {
          "output_type": "stream",
          "text": [
            "Time to completion (s):  34\n"
          ],
          "name": "stdout"
        }
      ]
    },
    {
      "cell_type": "code",
      "metadata": {
        "id": "Py5heglhmOp4"
      },
      "source": [
        "##################\n",
        "## Create validation dataset\n",
        "\n",
        "val_percent = 0.1\n",
        "num_vals = int(val_percent * train_dataset_input.shape[0])\n",
        "\n",
        "val_idxs = random.sample(range(train_dataset_input.shape[0]), num_vals)\n",
        "\n",
        "val_dataset_input = train_dataset_input[val_idxs,:,:,:]\n",
        "val_dataset_target = train_dataset_target[val_idxs,:,:,:]\n",
        "\n",
        "train_dataset_input = np.delete(train_dataset_input, val_idxs, axis=0)\n",
        "train_dataset_target = np.delete(train_dataset_target, val_idxs, axis=0)"
      ],
      "execution_count": 16,
      "outputs": []
    },
    {
      "cell_type": "markdown",
      "metadata": {
        "id": "3cUKBMSQ1Zno"
      },
      "source": [
        "# CNN Model"
      ]
    },
    {
      "cell_type": "markdown",
      "metadata": {
        "id": "-R90XwM_219N"
      },
      "source": [
        "## Architecture"
      ]
    },
    {
      "cell_type": "code",
      "metadata": {
        "id": "gAHDIG5F1uEn"
      },
      "source": [
        "\n",
        "def downsample(filters, size, apply_batchnorm=True):\n",
        "    initializer = tf.random_normal_initializer(0., 0.02)\n",
        "\n",
        "    result = tf.keras.Sequential()\n",
        "    result.add(tf.keras.layers.Conv2D(filters, size, strides=2, padding='same',\n",
        "                             kernel_initializer=initializer, use_bias=False))\n",
        "\n",
        "    if apply_batchnorm:\n",
        "        result.add(tf.keras.layers.BatchNormalization())\n",
        "\n",
        "    result.add(tf.keras.layers.LeakyReLU())\n",
        "\n",
        "    return result\n",
        "\n",
        "\n",
        "def upsample(filters, size, apply_dropout=False):\n",
        "    initializer = tf.random_normal_initializer(0., 0.02)\n",
        "\n",
        "    result = tf.keras.Sequential()\n",
        "    result.add(tf.keras.layers.Conv2DTranspose(filters, size, strides=2,\n",
        "                                    padding='same',\n",
        "                                    kernel_initializer=initializer,\n",
        "                                    use_bias=False))\n",
        "\n",
        "    result.add(tf.keras.layers.BatchNormalization())\n",
        "\n",
        "    if apply_dropout:\n",
        "        result.add(tf.keras.layers.Dropout(0.5))\n",
        "\n",
        "    result.add(tf.keras.layers.ReLU())\n",
        "\n",
        "    return result\n",
        "\n",
        "\n",
        "\n",
        "###############\n",
        "## Define the input layer\n",
        "input_layer = tf.keras.layers.Input(shape=[input_dimension[0], input_dimension[1], OUTPUT_CHANNELS])\n",
        "        \n",
        "down_stack = [\n",
        "downsample(64, 4, apply_batchnorm=False), # (bs, 32, 32, 64)\n",
        "downsample(128, 4), # (bs, 16, 16, 128)\n",
        "downsample(256, 4), # (bs, 8, 8, 256)\n",
        "downsample(512, 4), # (bs, 4, 4, 512)\n",
        "downsample(512, 4), # (bs, 2, 2, 512)\n",
        "downsample(512, 4), # (bs, 1, 1, 512)\n",
        "]\n",
        "\n",
        "up_stack = [\n",
        "upsample(512, 4, apply_dropout=True), # (bs, 2, 2, 1024)\n",
        "upsample(512, 4, apply_dropout=True), # (bs, 4, 4, 1024)\n",
        "upsample(512, 4, apply_dropout=True), # (bs, 8, 8, 1024)\n",
        "upsample(512, 4), # (bs, 16, 16, 1024)\n",
        "upsample(256, 4), # (bs, 32, 32, 512)\n",
        "]\n",
        "\n",
        "initializer = tf.random_normal_initializer(0., 0.02)\n",
        "last = tf.keras.layers.Conv2DTranspose(OUTPUT_CHANNELS, 4,\n",
        "                                      strides=2,\n",
        "                                      padding='same',\n",
        "                                      kernel_initializer=initializer,\n",
        "                                      activation='tanh') # (bs, 256, 256, 3)\n",
        "\n",
        "x = input_layer\n",
        "\n",
        "# Downsampling through the model\n",
        "skips = []\n",
        "for down in down_stack:\n",
        "    x = down(x)\n",
        "    skips.append(x)\n",
        "\n",
        "skips = reversed(skips[:-1])\n",
        "\n",
        "# Upsampling and establishing the skip connections\n",
        "for up, skip in zip(up_stack, skips):\n",
        "    x = up(x)\n",
        "    x = tf.keras.layers.Concatenate()([x, skip])\n",
        "\n",
        "x = last(x)\n",
        "\n",
        "\n",
        "###############\n",
        "## Define and compile the model\n",
        "model = tf.keras.Model(inputs=input_layer, outputs=x)\n",
        "\n",
        "loss_object = tf.keras.losses.BinaryCrossentropy(from_logits=True)\n",
        "\n",
        "optimizer = tf.keras.optimizers.Adam(2e-4, beta_1=0.5)\n",
        "\n",
        "model.compile(loss=loss_object, optimizer=optimizer)"
      ],
      "execution_count": 4,
      "outputs": []
    },
    {
      "cell_type": "code",
      "metadata": {
        "id": "KYa6itae2swf"
      },
      "source": [
        "## Display graphical model description\n",
        "\n",
        "\n",
        "tf.keras.utils.plot_model(model, show_shapes=True, dpi=64)"
      ],
      "execution_count": null,
      "outputs": []
    },
    {
      "cell_type": "markdown",
      "metadata": {
        "id": "4iUMTUb6230w"
      },
      "source": [
        "## Model training"
      ]
    },
    {
      "cell_type": "code",
      "metadata": {
        "id": "sNOa-CswBKgV"
      },
      "source": [
        "## Training directory\n",
        "\n",
        "training_name = 'CNN_Noisy_Magnitude'\n",
        "checkpoint_dir = '/content/drive/My Drive/RadNET/training_checkpoints/' + training_name\n",
        "\n",
        "checkpoint_prefix = os.path.join(checkpoint_dir, \"ckpt\")\n",
        "checkpoint = tf.train.Checkpoint(optimizer=optimizer, model=model)\n"
      ],
      "execution_count": 5,
      "outputs": []
    },
    {
      "cell_type": "code",
      "metadata": {
        "id": "eVNJMtnsAzwT"
      },
      "source": [
        "# Load latest checkpoint if picking up / continuing training \n",
        "# Skip if starting from scratch\n",
        "\n",
        "# Designate which model to load from checkpoint:\n",
        "# training_name = 'June_Update_    '\n",
        "checkpoint_dir = '/content/drive/My Drive/RadNET/training_checkpoints/' + training_name\n",
        "\n",
        "checkpoint.restore(tf.train.latest_checkpoint(checkpoint_dir))"
      ],
      "execution_count": null,
      "outputs": []
    },
    {
      "cell_type": "code",
      "metadata": {
        "colab": {
          "base_uri": "https://localhost:8080/"
        },
        "id": "Ciz0iWHo26Wm",
        "outputId": "6576681c-86c3-4ec0-bb01-72394b0b4b46"
      },
      "source": [
        "## Run training\n",
        "\n",
        "EPOCHS=4\n",
        "BATCH_SIZE=32\n",
        "\n",
        "\n",
        "class ClearTrainingOutput(tf.keras.callbacks.Callback):\n",
        "    def on_epoch_end(*args, **kwargs):\n",
        "        display.clear_output(wait = True)\n",
        "\n",
        "# model_checkpoint_callback = tf.keras.callbacks.ModelCheckpoint(\n",
        "#     filepath=checkpoint_dir,\n",
        "    # save_weights_only=True,\n",
        "    # monitor='val_accuracy',\n",
        "    # mode='max',\n",
        "    # save_best_only=True)\n",
        "\n",
        "save_freq = 2\n",
        "current_epoch=1\n",
        "class model_checkpoint_callback(tf.keras.callbacks.Callback):\n",
        "    def on_epoch_end(self, epoch, logs=None):\n",
        "      try:\n",
        "          print ('Time taken for epoch {} was {} sec\\n'.format(epoch - 1,\n",
        "                                                      time.time()-epoch_start))\n",
        "      except:\n",
        "          pass\n",
        "\n",
        "      epoch_start = time.time()\n",
        "\n",
        "      if epoch % save_freq == 0:\n",
        "          checkpoint.save(file_prefix = checkpoint_prefix)\n",
        "\n",
        "if not os.path.exists(checkpoint_dir):\n",
        "    os.makedirs(checkpoint_dir)\n",
        "        \n",
        "callbacks = [ClearTrainingOutput(), model_checkpoint_callback()]\n",
        "\n",
        "try:\n",
        "    history = model.fit(x=train_dataset_input, y=train_dataset_target, \n",
        "                        validation_data = (val_dataset_input, val_dataset_target), \n",
        "                        epochs=EPOCHS, verbose=1, batch_size=BATCH_SIZE, \n",
        "                        callbacks = callbacks)\n",
        "except NameError:  # catching case with no validation data\n",
        "    history = model.fit(x=train_dataset_input, y=train_dataset_target, epochs=EPOCHS, verbose=1,\n",
        "                       batch_size=BATCH_SIZE, callbacks = callbacks)\n",
        "\n",
        "print(\"Training Complete!\")"
      ],
      "execution_count": 9,
      "outputs": [
        {
          "output_type": "stream",
          "text": [
            "3\n",
            "Training Complete!\n"
          ],
          "name": "stdout"
        }
      ]
    },
    {
      "cell_type": "code",
      "metadata": {
        "colab": {
          "base_uri": "https://localhost:8080/",
          "height": 241
        },
        "id": "3hTecDr5qUkq",
        "outputId": "9384dddf-d83b-46e5-97e0-1b5d4a33ec3e"
      },
      "source": [
        "################\n",
        "## Plot training loss curves\n",
        "\n",
        "total_loss = history.history['loss']\n",
        "\n",
        "try:\n",
        "    total_val_loss = history.history['val_loss']\n",
        "except KeyError:\n",
        "    pass\n",
        "\n",
        "\n",
        "xc = range(EPOCHS)\n",
        "plot_epoch_start = 0\n",
        "\n",
        "\n",
        "plt.figure(figsize=(6,3))\n",
        "plt.plot(xc[plot_epoch_start:], total_loss[plot_epoch_start:], label='Training Loss', c='black')\n",
        "\n",
        "try:\n",
        "    lw = 0.7\n",
        "    ls = '--'\n",
        "    plt.plot(xc[plot_epoch_start:], total_val_loss[plot_epoch_start:], label='Validation Loss',\n",
        "            linestyle = ls, linewidth = lw, c='limegreen')\n",
        "except NameError:\n",
        "    pass\n",
        "plt.title(\"Training Loss\")\n",
        "plt.xlabel('Epoch')\n",
        "plt.ylabel('Loss Metric')\n",
        "plt.legend(bbox_to_anchor=(1.05, .9))\n",
        "plt.show()"
      ],
      "execution_count": 18,
      "outputs": [
        {
          "output_type": "display_data",
          "data": {
            "image/png": "[encoded data removed]",
            "text/plain": [
              "<Figure size 432x216 with 1 Axes>"
            ]
          },
          "metadata": {
            "tags": [],
            "needs_background": "light"
          }
        }
      ]
    },
    {
      "cell_type": "markdown",
      "metadata": {
        "id": "7bjcR5VZB475"
      },
      "source": [
        "# Run Predictions on Test Dataset"
      ]
    },
    {
      "cell_type": "code",
      "metadata": {
        "id": "lbuOvdD9B7IM"
      },
      "source": [
        "##################\n",
        "## Use current model to perform predictions\n",
        "\n",
        "#------------------\n",
        "# Specify which dataset version is being created\n",
        "# Options: 'noise', '2D_to_3D'\n",
        "\n",
        "dataset_type = 'noise'\n",
        "\n",
        "# Specify 'magnitude' or 'complex'\n",
        "model_type = 'magnitude'\n",
        "\n",
        "#------------------\n",
        "\n",
        "\n",
        "\n",
        "if dataset_type == 'noise':\n",
        "    input_data_path = \"/content/drive/My Drive/RadNET/GAN data/Phase2/Testing/Testing_Noisy_100.npy\"\n",
        "    input_trace_path = \"/content/drive/My Drive/RadNET/GAN data/Phase2/Testing/Testing_Noisy_100_TRACES.npy\"\n",
        "elif dataset_type == '2D_to_3D':\n",
        "    input_data_path = \"/content/drive/My Drive/RadNET/GAN data/Phase2/Testing/Testing_3D_100.npy\"\n",
        "    input_trace_path = \"/content/drive/My Drive/RadNET/GAN data/Phase2/Testing/Testing_3D_100_TRACES.npy\"\n",
        "\n",
        "input_data = np.load(input_data_path)\n",
        "input_traces = np.load(input_trace_path)\n",
        "num_predictions = input_data.shape[0]\n",
        "\n",
        "if model_type == 'magnitude':\n",
        "    assert 'complex' not in input_data_path.lower(), \"Check data filepaths\"\n",
        "elif model_type == 'complex':\n",
        "    assert 'complex' in input_data_path.lower(), \"Check data filepaths\"\n",
        "\n",
        "\n",
        "\n",
        "prediction_inputs = minmax_input.transform(np.expand_dims(input_data.flatten(), axis=1))\n",
        "prediction_inputs = np.reshape(prediction_inputs, (input_data.shape[0], \n",
        "                                                   input_dimension[0], input_dimension[1], input_dimension[2]))\n",
        "\n",
        "prediction_outputs = model.predict(prediction_inputs)\n",
        "prediction_outputs = minmax_target.inverse_transform(np.expand_dims(prediction_outputs.flatten(), axis=1))\n",
        "prediction_outputs = np.reshape(prediction_outputs, (num_predictions, \n",
        "                                                     input_dimension[0], input_dimension[1], input_dimension[2]))\n",
        "\n",
        "\n",
        "# output_data_folder = 'June_2021_Noise_v1'\n",
        "# output_prediction_path = os.path.join(\"/content/drive/My Drive/RadNET/GAN data/Spec_Numpy_Arrays/Predictions\",\n",
        "#                                       output_data_folder)\n",
        "# np.save(output_prediction_path, prediction_outputs)"
      ],
      "execution_count": null,
      "outputs": []
    },
    {
      "cell_type": "markdown",
      "metadata": {
        "id": "lITesWC2EdTr"
      },
      "source": [
        "## Visualize prediction vs input and target"
      ]
    },
    {
      "cell_type": "code",
      "metadata": {
        "id": "sEAL2BMhEeA-"
      },
      "source": [
        "##################\n",
        "## Load target data\n",
        "target_path = \"/content/drive/My Drive/RadNET/GAN data/Phase2/Testing/Testing_2D_100.npy\"\n",
        "target_data = np.load(target_path)\n",
        "\n",
        "target_trace_path = \"/content/drive/My Drive/RadNET/GAN data/Phase2/Testing/Testing_2D_100_TRACES.npy\"\n",
        "target_traces = np.load(target_trace_path)\n",
        "\n",
        "if model_type == 'magnitude':\n",
        "    assert 'complex' not in target_path.lower(), \"Check data filepaths\"\n",
        "elif model_type == 'complex':\n",
        "    assert 'complex' in target_path.lower(), \"Check data filepaths\"\n",
        "\n",
        "\n",
        "#------------------\n",
        "# Choose which example index to show\n",
        "plot_idx = 30\n",
        "\n",
        "#------------------\n",
        "\n",
        "\n",
        "\n",
        "if model_type.lower() == 'magnitude':\n",
        "    nrows=1\n",
        "    figsize=(10,4)\n",
        "    plot_input_data = input_data[plot_idx,:,:]\n",
        "    plot_target_data = target_data[plot_idx,:,:]\n",
        "    plot_prediction_data = prediction_outputs[plot_idx,:,:,0]\n",
        "elif model_type.lower() == 'complex':\n",
        "    nrows=2\n",
        "    figsize=(10,8)\n",
        "    plot_input_data = input_data[plot_idx,:,:,:]\n",
        "    plot_target_data = target_data[plot_idx,:,:,:]\n",
        "    plot_prediction_data = prediction_outputs[plot_idx,:,:,:]\n",
        "\n",
        "\n",
        "##################\n",
        "## Plot Input - Target - Prediction Spectrograms\n",
        "\n",
        "\n",
        "colormap='jet'\n",
        "\n",
        "fig, ax = plt.subplots(nrows=nrows, ncols=3, figsize=figsize)\n",
        "\n",
        "if model_type.lower() == 'magnitude':\n",
        "    ax[0].imshow(plot_input_data, cmap=colormap)\n",
        "    ax[0].set_title(\"Input Data\")\n",
        "    ax[1].imshow(plot_target_data, cmap=colormap)\n",
        "    ax[1].set_title(\"Target Data\")\n",
        "    ax[2].imshow(plot_prediction_data, cmap=colormap)\n",
        "    ax[2].set_title(\"Prediction Data\")\n",
        "    plt.show()\n",
        "\n",
        "elif model_type.lower() == 'complex':\n",
        "    ax[0,0].imshow(plot_input_data[:,:,0], cmap=colormap)\n",
        "    ax[0,0].set_title(\"Input Data, Amplitude\")\n",
        "    ax[0,1].imshow(plot_target_data[:,:,0], cmap=colormap)\n",
        "    ax[0,1].set_title(\"Target Data, Amplitude\")\n",
        "    ax[0,2].imshow(plot_prediction_data[:,:,0], cmap=colormap)\n",
        "    ax[0,2].set_title(\"Prediction Data, Amplitude\")\n",
        "    ax[1,0].imshow(plot_input_data[:,:,1], cmap=colormap)\n",
        "    ax[1,0].set_title(\"Input Data, Phase\")\n",
        "    ax[1,1].imshow(plot_target_data[:,:,1], cmap=colormap)\n",
        "    ax[1,1].set_title(\"Target Data, Phase\")\n",
        "    ax[1,2].imshow(plot_prediction_data[:,:,1], cmap=colormap)\n",
        "    ax[1,2].set_title(\"Prediction Data, Phase\")\n",
        "    plt.show()\n",
        "\n",
        "\n",
        "##################\n",
        "## Get time series signals\n",
        "input_signal = input_traces[plot_idx,:]\n",
        "target_signal = target_traces[plot_idx,:]\n",
        "\n",
        "## Zxx parameters - Use same as during data generation\n",
        "fs = 1 / 0.0000000375     #sample frequency\n",
        "nperseg = 127        # nperseg/noverlap combo produces 64x32 assuming 1070 samples\n",
        "noverlap = 92\n",
        "window = signal.hann(nperseg, sym=False)\n",
        "\n",
        "\n",
        "##################\n",
        "## Shape prediction back to proper size\n",
        "## Use modified Griffim Lim Algorithm to recover time series signal\n",
        "\n",
        "if model_type.lower() == 'magnitude':\n",
        "\n",
        "    prediction_data_reduced = np.zeros((plot_prediction_data.shape[0], int(plot_prediction_data.shape[1]/2)))\n",
        "\n",
        "    for i in range(prediction_data_reduced.shape[0]):\n",
        "        idx_counter = 0\n",
        "        for j in range(prediction_data_reduced.shape[1]):\n",
        "            prediction_data_reduced[i,j] = np.mean(plot_prediction_data[i,idx_counter:idx_counter+2])\n",
        "            idx_counter += 2\n",
        "\n",
        "    prediction_data_reduced = np.exp(prediction_data_reduced)\n",
        "\n",
        "    predicted_signal, _ = griffin_lim(prediction_data_reduced, 300, input_signal, \n",
        "                                      fs, nperseg, noverlap, window)\n",
        "    \n",
        "\n",
        "##################\n",
        "## Use iSTFT to create signal for real and imag components\n",
        "\n",
        "elif model_type.lower() == 'complex':\n",
        "\n",
        "    prediction_data_reduced = np.zeros((plot_prediction_data.shape[0], int(plot_prediction_data.shape[1]/2),\n",
        "                                        plot_prediction_data.shape[2]))\n",
        "    \n",
        "    real_component = plot_prediction_data[:,:,0]\n",
        "    imag_component = plot_prediction_data[:,:,1]\n",
        "\n",
        "    complex_spec = real_component + imag_component*1j\n",
        "\n",
        "    _, predicted_signal = signal.istft(complex_spec, window = window, \n",
        "                                      fs = fs, nperseg = nperseg, noverlap=noverlap)\n",
        "    \n",
        "\n",
        "##################\n",
        "## Trim excess samples from weird iSTFT parameters\n",
        "\n",
        "if len(input_signal) != len(predicted_signal):\n",
        "\n",
        "    # assumes predicted signal is always longer than input\n",
        "    trim_samps = len(predicted_signal) - len(input_signal)\n",
        "\n",
        "    predicted_signal = predicted_signal[:-trim_samps]\n",
        "\n",
        "\n",
        "\n",
        "##################\n",
        "## Make plots\n",
        "\n",
        "target_color = 'black'\n",
        "input_color = 'blue'\n",
        "prediction_color = 'red'\n",
        "\n",
        "plot_start_idx = 200\n",
        "plot_stop_idx = 800\n",
        "\n",
        "fig, ax = plt.subplots(nrows=2, ncols=1, figsize=((12,6)))\n",
        "\n",
        "print(\"\\nCosine similarity of input and target signal: {}\".format(\n",
        "    round(1 - spatial.distance.cosine(target_signal, input_signal),2)))\n",
        "print(\"MSE of input and target signal: {}\".format(\n",
        "    round(np.square(np.subtract(target_signal,input_signal)).mean(),2)))\n",
        "ax[0].plot(target_signal[plot_start_idx:plot_stop_idx], c=target_color, linewidth=1, label='Target Signal')\n",
        "ax[0].plot(input_signal[plot_start_idx:plot_stop_idx], c=input_color, linewidth=0.7, label='Input Signal')\n",
        "ax[0].legend()\n",
        "\n",
        "print(\"\\nCosine similarity of predicted and target signal: {}\".format(\n",
        "    round(1 - spatial.distance.cosine(target_signal, predicted_signal),2)))\n",
        "print(\"MSE of predicted and target signal: {}\".format(\n",
        "    round(np.square(np.subtract(target_signal,predicted_signal)).mean(),2)))\n",
        "ax[1].plot(target_signal[plot_start_idx:plot_stop_idx], c=target_color, linewidth=1, label='Target Signal')\n",
        "ax[1].plot(predicted_signal[plot_start_idx:plot_stop_idx], c=prediction_color, linewidth=0.7, label='GAN Signal')\n",
        "ax[1].legend()\n",
        "\n",
        "plt.show()"
      ],
      "execution_count": null,
      "outputs": []
    }
  ]
}