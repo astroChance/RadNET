{
  "nbformat": 4,
  "nbformat_minor": 0,
  "metadata": {
    "kernelspec": {
      "display_name": "Python 3",
      "language": "python",
      "name": "python3"
    },
    "language_info": {
      "codemirror_mode": {
        "name": "ipython",
        "version": 3
      },
      "file_extension": ".py",
      "mimetype": "text/x-python",
      "name": "python",
      "nbconvert_exporter": "python",
      "pygments_lexer": "ipython3",
      "version": "3.7.4"
    },
    "colab": {
      "name": "DCGAN_Model_working.ipynb",
      "provenance": [],
      "toc_visible": true,
      "include_colab_link": true
    }
  },
  "cells": [
    {
      "cell_type": "markdown",
      "metadata": {
        "id": "view-in-github",
        "colab_type": "text"
      },
      "source": [
        "<a href=\"https://colab.research.google.com/github/astroChance/MPnet/blob/master/DCGAN_Model_working.ipynb\" target=\"_parent\"><img src=\"https://colab.research.google.com/assets/colab-badge.svg\" alt=\"Open In Colab\"/></a>"
      ]
    },
    {
      "cell_type": "markdown",
      "metadata": {
        "id": "ZPNYtM341BMn",
        "colab_type": "text"
      },
      "source": [
        "# Tensorflow Tutorial GAN"
      ]
    },
    {
      "cell_type": "code",
      "metadata": {
        "id": "lQbAQdyX07GK",
        "colab_type": "code",
        "colab": {}
      },
      "source": [
        "##############\n",
        "## Basic starting point from Tensorflow tutorial for DCGAN"
      ],
      "execution_count": null,
      "outputs": []
    },
    {
      "cell_type": "code",
      "metadata": {
        "id": "hZjRgW3E07GN",
        "colab_type": "code",
        "colab": {}
      },
      "source": [
        "import glob\n",
        "import imageio\n",
        "import matplotlib.pyplot as plt\n",
        "import numpy as np\n",
        "import segyio\n",
        "import os\n",
        "import PIL\n",
        "from tensorflow.keras import layers\n",
        "import time"
      ],
      "execution_count": null,
      "outputs": []
    },
    {
      "cell_type": "code",
      "metadata": {
        "id": "E45omvgC07GP",
        "colab_type": "code",
        "colab": {}
      },
      "source": [
        "## Get seismic images\n",
        "\n",
        "\n",
        "\n",
        "# mnist example\n",
        "train_images = train_images.reshape(train_images.shape[0], 28, 28, 1).astype('float32')\n",
        "train_images = (train_images - 127.5) / 127.5 # Normalize the images to [-1, 1]"
      ],
      "execution_count": null,
      "outputs": []
    },
    {
      "cell_type": "code",
      "metadata": {
        "id": "tAVgM6Mw07GR",
        "colab_type": "code",
        "colab": {}
      },
      "source": [
        "# Shuffle data and create batches\n",
        "\n",
        "buf_size = None  # should be a number equal to or greater than dataset\n",
        "batch_size = None  # possibly start with 16?\n",
        "\n",
        "train_dataset = tf.data.Dataset.from_tensor_slices(train_images).shuffle(buf_size).batch(batch_size)"
      ],
      "execution_count": null,
      "outputs": []
    },
    {
      "cell_type": "code",
      "metadata": {
        "id": "uDtJhfq507GT",
        "colab_type": "code",
        "colab": {}
      },
      "source": [
        "\"\"\"\n",
        "Model follow-ups:\n",
        "\n",
        "This workbook persues images (i.e. spectrograms), could move to 1D convolutions and RNN / LSTM\n",
        "and use trace data as input\n",
        "\n",
        "\"\"\""
      ],
      "execution_count": null,
      "outputs": []
    },
    {
      "cell_type": "code",
      "metadata": {
        "id": "PCtkjXC807GV",
        "colab_type": "code",
        "colab": {}
      },
      "source": [
        "# Define model architectures (initial example assumes 28x28 image)\n",
        "\n",
        "def make_generator_model():\n",
        "    model = tf.keras.Sequential()\n",
        "    model.add(layers.Dense(7*7*256, use_bias=False, input_shape=(100,)))\n",
        "    model.add(layers.BatchNormalization())\n",
        "    model.add(layers.LeakyReLU())\n",
        "\n",
        "    model.add(layers.Reshape((7, 7, 256)))\n",
        "    assert model.output_shape == (None, 7, 7, 256) # Note: None is the batch size\n",
        "\n",
        "    model.add(layers.Conv2DTranspose(128, (5, 5), strides=(1, 1), padding='same', use_bias=False))\n",
        "    assert model.output_shape == (None, 7, 7, 128)\n",
        "    model.add(layers.BatchNormalization())\n",
        "    model.add(layers.LeakyReLU())\n",
        "\n",
        "    model.add(layers.Conv2DTranspose(64, (5, 5), strides=(2, 2), padding='same', use_bias=False))\n",
        "    assert model.output_shape == (None, 14, 14, 64)\n",
        "    model.add(layers.BatchNormalization())\n",
        "    model.add(layers.LeakyReLU())\n",
        "\n",
        "    model.add(layers.Conv2DTranspose(1, (5, 5), strides=(2, 2), padding='same', use_bias=False, activation='tanh'))\n",
        "    assert model.output_shape == (None, 28, 28, 1)\n",
        "\n",
        "    return model\n",
        "\n",
        "\n",
        "\n",
        "def make_discriminator_model():\n",
        "    model = tf.keras.Sequential()\n",
        "    model.add(layers.Conv2D(64, (5, 5), strides=(2, 2), padding='same',\n",
        "                                     input_shape=[28, 28, 1]))\n",
        "    model.add(layers.LeakyReLU())\n",
        "    model.add(layers.Dropout(0.3))\n",
        "\n",
        "    model.add(layers.Conv2D(128, (5, 5), strides=(2, 2), padding='same'))\n",
        "    model.add(layers.LeakyReLU())\n",
        "    model.add(layers.Dropout(0.3))\n",
        "\n",
        "    model.add(layers.Flatten())\n",
        "    model.add(layers.Dense(1))\n",
        "\n",
        "    return model"
      ],
      "execution_count": null,
      "outputs": []
    },
    {
      "cell_type": "code",
      "metadata": {
        "id": "lLqU4Efe07GX",
        "colab_type": "code",
        "colab": {}
      },
      "source": [
        "# Define loss and optimizers\n",
        "\n",
        "cross_entropy = tf.keras.losses.BinaryCrossentropy(from_logits=True)\n",
        "\n",
        "def discriminator_loss(real_output, fake_output):\n",
        "    real_loss = cross_entropy(tf.ones_like(real_output), real_output)\n",
        "    fake_loss = cross_entropy(tf.zeros_like(fake_output), fake_output)\n",
        "    total_loss = real_loss + fake_loss\n",
        "    return total_loss\n",
        "\n",
        "def generator_loss(fake_output):\n",
        "    return cross_entropy(tf.ones_like(fake_output), fake_output)\n",
        "\n",
        "\n",
        "generator_optimizer = tf.keras.optimizers.Adam(1e-4)\n",
        "discriminator_optimizer = tf.keras.optimizers.Adam(1e-4)"
      ],
      "execution_count": null,
      "outputs": []
    },
    {
      "cell_type": "code",
      "metadata": {
        "id": "Fd6FJ4B807GZ",
        "colab_type": "code",
        "colab": {}
      },
      "source": [
        "# Checkpoint creation\n",
        "\n",
        "checkpoint_dir = ''   # Drive directory\n",
        "checkpoint_prefix = os.path.join(checkpoint_dir, \"ckpt\")\n",
        "checkpoint = tf.train.Checkpoint(generator_optimizer=generator_optimizer,\n",
        "                                 discriminator_optimizer=discriminator_optimizer,\n",
        "                                 generator=generator,\n",
        "                                 discriminator=discriminator)"
      ],
      "execution_count": null,
      "outputs": []
    },
    {
      "cell_type": "code",
      "metadata": {
        "id": "WCblPpAm07Gb",
        "colab_type": "code",
        "colab": {}
      },
      "source": [
        "# Define training loop\n",
        "\n",
        "\n",
        "seed = tf.random.normal([num_examples_to_generate, noise_dim])\n",
        "\n",
        "@tf.function\n",
        "def train_step(images):\n",
        "    noise = tf.random.normal([BATCH_SIZE, noise_dim])\n",
        "\n",
        "    with tf.GradientTape() as gen_tape, tf.GradientTape() as disc_tape:\n",
        "        generated_images = generator(noise, training=True)\n",
        "\n",
        "        real_output = discriminator(images, training=True)\n",
        "        fake_output = discriminator(generated_images, training=True)\n",
        "\n",
        "        gen_loss = generator_loss(fake_output)\n",
        "        disc_loss = discriminator_loss(real_output, fake_output)\n",
        "\n",
        "    gradients_of_generator = gen_tape.gradient(gen_loss, generator.trainable_variables)\n",
        "    gradients_of_discriminator = disc_tape.gradient(disc_loss, discriminator.trainable_variables)\n",
        "\n",
        "    generator_optimizer.apply_gradients(zip(gradients_of_generator, generator.trainable_variables))\n",
        "    discriminator_optimizer.apply_gradients(zip(gradients_of_discriminator, discriminator.trainable_variables))\n",
        "    \n",
        "def train(dataset, epochs):\n",
        "    for epoch in range(epochs):\n",
        "        start = time.time()\n",
        "\n",
        "        for image_batch in dataset:\n",
        "            train_step(image_batch)\n",
        "\n",
        "    # Save the model every 15 epochs\n",
        "        if (epoch + 1) % 15 == 0:\n",
        "            checkpoint.save(file_prefix = checkpoint_prefix)\n",
        "\n",
        "    print ('Time for epoch {} is {} sec'.format(epoch + 1, time.time()-start))\n"
      ],
      "execution_count": null,
      "outputs": []
    },
    {
      "cell_type": "code",
      "metadata": {
        "id": "sIbme83107Gd",
        "colab_type": "code",
        "colab": {}
      },
      "source": [
        "# Restore a previous checkpoint\n",
        "\n",
        "checkpoint.restore(tf.train.latest_checkpoint(checkpoint_dir))"
      ],
      "execution_count": null,
      "outputs": []
    },
    {
      "cell_type": "code",
      "metadata": {
        "id": "aecwsqeM07Ge",
        "colab_type": "code",
        "colab": {}
      },
      "source": [
        "# Train the model\n",
        "\n",
        "EPOCHS = 200\n",
        "noise_dim = 100\n",
        "\n",
        "train(train_dataset, EPOCHS)"
      ],
      "execution_count": null,
      "outputs": []
    },
    {
      "cell_type": "markdown",
      "metadata": {
        "id": "IoGinBOG1NF4",
        "colab_type": "text"
      },
      "source": [
        "# Garcia SREZ"
      ]
    },
    {
      "cell_type": "code",
      "metadata": {
        "id": "dyemCNoI1_rU",
        "colab_type": "code",
        "colab": {}
      },
      "source": [
        "## Attempt the Garcia super res model using Keras\n",
        "\n",
        "# Discriminator:  Conv2D, 64 units, stride 2\n",
        "#                 batch norm\n",
        "#                 relu                  \n",
        "\n",
        "#                 repeat with 128, 256, 512 units\n",
        "\n",
        "#                 conv2D, 512 units, stride 1\n",
        "#                 batch norm, relu\n",
        "#                 repeat\n",
        "\n",
        "#                 model ends by taking mean? \n",
        "\n",
        "# Generator:      Residual block, 256 units\n",
        "#                 Upscale (2x, nearest neighbor)\n",
        "#                 batch norm\n",
        "#                 relu\n",
        "#                 conv2D transpose, 256 units, stride 1\n",
        "\n",
        "#                 repeat with 128 units\n",
        "\n",
        "#                 conv2D, 96 units, stride 1\n",
        "#                 relu\n",
        "#                 repeat\n",
        "\n",
        "#                 conv2D, units=channels (color chans?)\n",
        "#                 sigmoid\n",
        "\n",
        "# Discriminator loss:  sigmoid_cross_entropy_with_logits\n",
        "# Generator loss:  sigmoid_cross_entropy_with_logits\n",
        "\n",
        "# Optimizer: Adam"
      ],
      "execution_count": null,
      "outputs": []
    },
    {
      "cell_type": "code",
      "metadata": {
        "id": "QuCJoVdxKyya",
        "colab_type": "code",
        "colab": {
          "base_uri": "https://localhost:8080/",
          "height": 35
        },
        "outputId": "33ce0357-4468-4d19-d583-158f2f3579ef"
      },
      "source": [
        "import tensorflow as tf\n",
        "from tensorflow.keras.initializers import RandomNormal\n",
        "from tensorflow.keras import layers\n",
        "from tensorflow.keras.layers import Dense, Conv2D, Conv2DTranspose, Reshape, Flatten, Dropout, BatchNormalization, LeakyReLU, ReLU\n",
        "# from keras.layers.advanced_activations import LeakyReLU\n",
        "from tensorflow.keras.models import Sequential\n",
        "\n",
        "print(\"Tensorflow version: \", tf.__version__)\n",
        "\n",
        "# !pip install  PIL\n",
        "from PIL import Image"
      ],
      "execution_count": null,
      "outputs": [
        {
          "output_type": "stream",
          "text": [
            "Tensorflow version:  2.2.0\n"
          ],
          "name": "stdout"
        }
      ]
    },
    {
      "cell_type": "code",
      "metadata": {
        "id": "cqZ4bFcVK-di",
        "colab_type": "code",
        "colab": {}
      },
      "source": [
        "\"\"\"\n",
        "Model architectures\n",
        "\"\"\"\n",
        "\n",
        "# noise_dim = 100    # taken from other examples\n",
        "# weight_initializer = RandomNormal(0, 0.02)    # taken from other examples\n",
        "\n",
        "\n",
        "\n",
        "#Make residual block for use in generator\n",
        "def residual_block(y, nb_channels):    \n",
        "  x = y.add(Conv2D(nb_channels, kernel_size=(3, 3), strides=(1, 1), padding='same'))\n",
        "  x = y.add(BatchNormalization())\n",
        "  x = y.add(LeakyReLU())\n",
        "\n",
        "  x = y.add(Conv2D(nb_channels, kernel_size=(3, 3), strides=(1, 1), padding='same'))\n",
        "  x = y.add(BatchNormalization())\n",
        "  x = y.add(LeakyReLU())\n",
        "\n",
        "  return x\n",
        "\n",
        "\n",
        "# Create generator architecture\n",
        "def create_generator():\n",
        "  generator = Sequential()\n",
        "  \n",
        "  units = [256, 128, 96]\n",
        "  upscale_factor_list = [2, 2]\n",
        "\n",
        "  ### Res Section 1\n",
        "  residual_block(generator, units[0])\n",
        "  residual_block(generator, units[0])\n",
        "  generator.add(layers.UpSampling3D(size=upscale_factor_list[0]))\n",
        "  generator.add(BatchNormalization())\n",
        "  generator.add(ReLU())\n",
        "  generator.add(Conv2DTranspose(units[0], kernel_size=(3, 3), strides=(1, 1), padding='same', use_bias=False))\n",
        "\n",
        "  ### Res Section 2\n",
        "  residual_block(generator, units[1])\n",
        "  residual_block(generator, units[1])\n",
        "  generator.add(layers.UpSampling3D(size=upscale_factor_list[1]))\n",
        "  generator.add(BatchNormalization())\n",
        "  generator.add(ReLU())\n",
        "  generator.add(Conv2DTranspose(units[1], kernel_size=(3, 3), strides=(1, 1), padding='same', use_bias=False))\n",
        "\n",
        "  ### Conv Section 3\n",
        "  generator.add(Conv2D(units[2], kernel_size=(3, 3), strides=(1, 1), padding='same', use_bias=False))\n",
        "  generator.add(ReLU())\n",
        "  generator.add(Conv2D(units[2], kernel_size=(1, 1), strides=(1, 1), padding='same', use_bias=False))\n",
        "  generator.add(ReLU())\n",
        "\n",
        "  ### Sigmoid Section 4    # why sigmoid layer in generator?\n",
        "  generator.add(Conv2D(units[2], kernel_size=(1, 1), strides=(1, 1), padding='same', use_bias=False))\n",
        "  # generator.add(Dense(1, activation='sigmoid'))\n",
        "\n",
        "  return generator\n",
        "\n",
        "###############################################################\n",
        "\n",
        "# Create discriminator architecture\n",
        "def create_descriminator():\n",
        "  discriminator = Sequential()\n",
        "  \n",
        "  units = [256, 128, 96]\n",
        "\n",
        "  # Conv layer 1\n",
        "  discriminator.add(Conv2D(units[0], kernel_size=(3, 3), strides=(2, 2), padding='same', use_bias=False))\n",
        "  discriminator.add(BatchNormalization())\n",
        "  discriminator.add(ReLU())\n",
        "\n",
        "  # Conv layer 2\n",
        "  discriminator.add(Conv2D(units[1], kernel_size=(3, 3), strides=(2, 2), padding='same', use_bias=False))\n",
        "  discriminator.add(BatchNormalization())\n",
        "  discriminator.add(ReLU())\n",
        "\n",
        "  # Conv layer 3\n",
        "  discriminator.add(Conv2D(units[2], kernel_size=(3, 3), strides=(2, 2), padding='same', use_bias=False))\n",
        "  discriminator.add(BatchNormalization())\n",
        "  discriminator.add(ReLU())\n",
        "\n",
        "  # Conv layer 4\n",
        "  discriminator.add(Conv2D(units[2], kernel_size=(3, 3), strides=(1, 1), padding='same', use_bias=False))\n",
        "  discriminator.add(BatchNormalization())\n",
        "  discriminator.add(ReLU())\n",
        "\n",
        "  # Conv layer 5\n",
        "  discriminator.add(Conv2D(units[2], kernel_size=(1, 1), strides=(1, 1), padding='same', use_bias=False))\n",
        "  discriminator.add(BatchNormalization())\n",
        "  discriminator.add(ReLU())\n",
        "\n",
        "  # Conv layer 4\n",
        "  discriminator.add(Flatten())\n",
        "  discriminator.add(Dense(1, activation='sigmoid'))\n",
        "\n",
        "\n",
        "  return discriminator"
      ],
      "execution_count": null,
      "outputs": []
    },
    {
      "cell_type": "code",
      "metadata": {
        "id": "1hwxWNoll4gF",
        "colab_type": "code",
        "colab": {}
      },
      "source": [
        "generator = create_generator()\n",
        "discriminator = create_descriminator()"
      ],
      "execution_count": null,
      "outputs": []
    },
    {
      "cell_type": "code",
      "metadata": {
        "id": "bdGJzsCXdO9g",
        "colab_type": "code",
        "colab": {}
      },
      "source": [
        "\"\"\"\n",
        "Define losses and optimizers\n",
        "\"\"\"\n",
        "\n",
        "cross_entropy = tf.keras.losses.BinaryCrossentropy(from_logits=True)\n",
        "\n",
        "def discriminator_loss(real_output, fake_output):\n",
        "    real_loss = cross_entropy(tf.ones_like(real_output), real_output)\n",
        "    fake_loss = cross_entropy(tf.zeros_like(fake_output), fake_output)\n",
        "    total_loss = real_loss + fake_loss\n",
        "    return total_loss\n",
        "\n",
        "def generator_loss(fake_output):\n",
        "    return cross_entropy(tf.ones_like(fake_output), fake_output)\n",
        "\n",
        "\n",
        "generator_optimizer = tf.keras.optimizers.Adam(1e-4)\n",
        "discriminator_optimizer = tf.keras.optimizers.Adam(1e-4)\n"
      ],
      "execution_count": null,
      "outputs": []
    },
    {
      "cell_type": "code",
      "metadata": {
        "id": "kzKz96cTdZBF",
        "colab_type": "code",
        "colab": {}
      },
      "source": [
        "\"\"\"\n",
        "Define training loop\n",
        "\"\"\"\n",
        "\n",
        "noise_dim = 100\n",
        "\n",
        "@tf.function\n",
        "def train_step(images):\n",
        "    noise = tf.random.normal([BATCH_SIZE, noise_dim])\n",
        "\n",
        "    with tf.GradientTape() as gen_tape, tf.GradientTape() as disc_tape:\n",
        "        generated_images = generator(noise, training=True)\n",
        "\n",
        "        real_output = discriminator(images, training=True)\n",
        "        fake_output = discriminator(generated_images, training=True)\n",
        "\n",
        "        gen_loss = generator_loss(fake_output)\n",
        "        disc_loss = discriminator_loss(real_output, fake_output)\n",
        "\n",
        "    gradients_of_generator = gen_tape.gradient(gen_loss, generator.trainable_variables)\n",
        "    gradients_of_discriminator = disc_tape.gradient(disc_loss, discriminator.trainable_variables)\n",
        "\n",
        "    generator_optimizer.apply_gradients(zip(gradients_of_generator, generator.trainable_variables))\n",
        "    discriminator_optimizer.apply_gradients(zip(gradients_of_discriminator, discriminator.trainable_variables))\n",
        "    \n",
        "def train(dataset, epochs):\n",
        "    for epoch in range(epochs):\n",
        "        start = time.time()\n",
        "\n",
        "        for image_batch in dataset:\n",
        "            train_step(image_batch)\n",
        "\n",
        "    # Save the model every 15 epochs\n",
        "        if (epoch + 1) % 15 == 0:\n",
        "            checkpoint.save(file_prefix = checkpoint_prefix)\n",
        "\n",
        "    print ('Time for epoch {} is {} sec'.format(epoch + 1, time.time()-start))"
      ],
      "execution_count": null,
      "outputs": []
    },
    {
      "cell_type": "code",
      "metadata": {
        "id": "OVW9U6A6dYMl",
        "colab_type": "code",
        "colab": {}
      },
      "source": [
        "# Checkpoint creation\n",
        "\n",
        "checkpoint_dir = ''   # Drive directory\n",
        "checkpoint_prefix = os.path.join(checkpoint_dir, \"ckpt\")\n",
        "checkpoint = tf.train.Checkpoint(generator_optimizer=generator_optimizer,\n",
        "                                 discriminator_optimizer=discriminator_optimizer,\n",
        "                                 generator=generator,\n",
        "                                 discriminator=discriminator)"
      ],
      "execution_count": null,
      "outputs": []
    },
    {
      "cell_type": "code",
      "metadata": {
        "id": "rZrXwVqLnOdc",
        "colab_type": "code",
        "colab": {}
      },
      "source": [
        "# Shuffle data and create batches\n",
        "\n",
        "buf_size = None  # should be a number equal to or greater than dataset\n",
        "BATCH_SIZE = 16  # possibly start with 16?\n",
        "\n",
        "train_dataset = tf.data.Dataset.from_tensor_slices(train_images).shuffle(buf_size).batch(batch_size)"
      ],
      "execution_count": null,
      "outputs": []
    },
    {
      "cell_type": "code",
      "metadata": {
        "id": "CYSWhanqokLH",
        "colab_type": "code",
        "colab": {}
      },
      "source": [
        "# Train the model\n",
        "\n",
        "EPOCHS = 100\n",
        "\n",
        "train(train_dataset, EPOCHS)"
      ],
      "execution_count": null,
      "outputs": []
    },
    {
      "cell_type": "markdown",
      "metadata": {
        "id": "8xV-LsE2Hn4p",
        "colab_type": "text"
      },
      "source": [
        "# Another example"
      ]
    },
    {
      "cell_type": "code",
      "metadata": {
        "id": "ATJJVfCkHpl0",
        "colab_type": "code",
        "colab": {}
      },
      "source": [
        "# link   https://medium.com/analytics-vidhya/implementing-a-gan-in-keras-d6c36bc6ab5f\n"
      ],
      "execution_count": null,
      "outputs": []
    },
    {
      "cell_type": "code",
      "metadata": {
        "id": "hNVnO7A6IA8F",
        "colab_type": "code",
        "colab": {}
      },
      "source": [
        "import numpy as np\n",
        "\n",
        "from keras.initializers import RandomNormal\n",
        "from keras.layers import Dense, Conv2D, Conv2DTranspose, Reshape, Flatten, Dropout\n",
        "from keras.layers.advanced_activations import LeakyReLU\n",
        "from keras.models import Sequential"
      ],
      "execution_count": null,
      "outputs": []
    },
    {
      "cell_type": "code",
      "metadata": {
        "id": "Ie9Iy-USJ8JL",
        "colab_type": "code",
        "colab": {}
      },
      "source": [
        "def create_generator():\n",
        "  generator = Sequential()\n",
        "  \n",
        "  # Starting size\n",
        "  d = 4\n",
        "  generator.add(Dense(d*d*256, kernel_initializer=RandomNormal(0, 0.02), input_dim=noise_dim))\n",
        "  generator.add(LeakyReLU(0.2))\n",
        "  # 4x4x256\n",
        "  generator.add(Reshape((d, d, 256)))\n",
        "  \n",
        "  # 8x8x128\n",
        "  generator.add(Conv2DTranspose(128, (4, 4), strides=2, padding='same', kernel_initializer=RandomNormal(0, 0.02)))\n",
        "  generator.add(LeakyReLU(0.2))\n",
        "  \n",
        "  # 16x16*128\n",
        "  generator.add(Conv2DTranspose(128, (4, 4), strides=2, padding='same', kernel_initializer=RandomNormal(0, 0.02)))\n",
        "  generator.add(LeakyReLU(0.2))\n",
        "  \n",
        "  # 32x32x128\n",
        "  generator.add(Conv2DTranspose(128, (4, 4), strides=2, padding='same', kernel_initializer=RandomNormal(0, 0.02)))\n",
        "  generator.add(LeakyReLU(0.2))\n",
        "  \n",
        "  # 32x32x3\n",
        "  generator.add(Conv2D(channels, (3, 3), padding='same', activation='tanh', kernel_initializer=RandomNormal(0, 0.02)))\n",
        "  \n",
        "  generator.compile(loss='binary_crossentropy', optimizer=optimizer)\n",
        "  return generator\n",
        "\n",
        "###############################################################\n",
        "\n",
        "def create_descriminator():\n",
        "  discriminator = Sequential()\n",
        "  \n",
        "  discriminator.add(Conv2D(64, (3, 3), padding='same', kernel_initializer=RandomNormal(0, 0.02), input_shape=(img_cols, img_rows, channels)))\n",
        "  discriminator.add(LeakyReLU(0.2))\n",
        "  \n",
        "  discriminator.add(Conv2D(128, (3, 3), strides=2, padding='same', kernel_initializer=RandomNormal(0, 0.02)))\n",
        "  discriminator.add(LeakyReLU(0.2))\n",
        "  \n",
        "  discriminator.add(Conv2D(128, (3, 3), strides=2, padding='same', kernel_initializer=RandomNormal(0, 0.02)))\n",
        "  discriminator.add(LeakyReLU(0.2))\n",
        "  \n",
        "  discriminator.add(Conv2D(256, (3, 3), strides=2, padding='same', kernel_initializer=RandomNormal(0, 0.02)))\n",
        "  discriminator.add(LeakyReLU(0.2))\n",
        "  \n",
        "  discriminator.add(Flatten())\n",
        "  discriminator.add(Dropout(0.4))\n",
        "  discriminator.add(Dense(1, activation='sigmoid', input_shape=(img_cols, img_rows, channels)))\n",
        "  \n",
        "  discriminator.compile(loss='binary_crossentropy', optimizer=optimizer)\n",
        "  return discriminator"
      ],
      "execution_count": null,
      "outputs": []
    },
    {
      "cell_type": "markdown",
      "metadata": {
        "id": "FJd98_yuhUVv",
        "colab_type": "text"
      },
      "source": [
        "# Cyclegan / Pix2Pix"
      ]
    },
    {
      "cell_type": "code",
      "metadata": {
        "id": "grf6wSJVhWca",
        "colab_type": "code",
        "colab": {}
      },
      "source": [
        "#link       https://medium.com/analytics-vidhya/transforming-the-world-into-paintings-with-cyclegan-6748c0b85632\n",
        "\n",
        "# utilizes Unet generator with skip connections\n",
        "\n",
        "# pix2pix tutorial (Unet generator example)  https://www.tensorflow.org/tutorials/generative/pix2pix"
      ],
      "execution_count": null,
      "outputs": []
    },
    {
      "cell_type": "code",
      "metadata": {
        "id": "sYOg0vxLLc2f",
        "colab_type": "code",
        "colab": {}
      },
      "source": [
        "import tensorflow as tf\n",
        "\n",
        "import os\n",
        "import time\n",
        "import datetime\n",
        "from matplotlib import pyplot as plt\n",
        "\n",
        "from IPython import display\n",
        "from PIL import Image\n"
      ],
      "execution_count": null,
      "outputs": []
    },
    {
      "cell_type": "code",
      "metadata": {
        "id": "UsmKDHEu8E1J",
        "colab_type": "code",
        "colab": {
          "base_uri": "https://localhost:8080/",
          "height": 122
        },
        "outputId": "cb2007c5-0780-4321-9802-6a142b894577"
      },
      "source": [
        "from google.colab import drive\n",
        "drive.mount('/content/drive/')"
      ],
      "execution_count": null,
      "outputs": [
        {
          "output_type": "stream",
          "text": [
            "Go to this URL in a browser: https://accounts.google.com/o/oauth2/auth?client_id=947318989803-6bn6qk8qdgf4n4g3pfee6491hc0brc4i.apps.googleusercontent.com&redirect_uri=urn%3aietf%3awg%3aoauth%3a2.0%3aoob&response_type=code&scope=email%20https%3a%2f%2fwww.googleapis.com%2fauth%2fdocs.test%20https%3a%2f%2fwww.googleapis.com%2fauth%2fdrive%20https%3a%2f%2fwww.googleapis.com%2fauth%2fdrive.photos.readonly%20https%3a%2f%2fwww.googleapis.com%2fauth%2fpeopleapi.readonly\n",
            "\n",
            "Enter your authorization code:\n",
            "··········\n",
            "Mounted at /content/drive/\n"
          ],
          "name": "stdout"
        }
      ]
    },
    {
      "cell_type": "code",
      "metadata": {
        "id": "cZ8RRkzKLiKa",
        "colab_type": "code",
        "colab": {}
      },
      "source": [
        "# data and training parameters\n",
        "\n",
        "BUFFER_SIZE = 350\n",
        "BATCH_SIZE = 20\n",
        "IMG_SIZE0 = 256    # Initial model implementation only works with 256x256 - revisit up/down layers for other sizes\n",
        "IMG_SIZE1 = 256\n",
        "OUTPUT_CHANNELS = 3"
      ],
      "execution_count": null,
      "outputs": []
    },
    {
      "cell_type": "code",
      "metadata": {
        "id": "_hLkIzfEL8Hp",
        "colab_type": "code",
        "colab": {
          "base_uri": "https://localhost:8080/",
          "height": 374
        },
        "outputId": "d4ce6632-3f44-4492-a7cc-3892d058dafd"
      },
      "source": [
        "### Load images\n",
        "TwoDImages = []\n",
        "for root, dirs, files in os.walk(\"/content/drive/My Drive/MPnet/GAN data/Dev_Testing_Data/2D_dev\"):\n",
        "  for name in files:\n",
        "    if name.endswith(\".png\"):\n",
        "      filename = os.path.join(root, name)\n",
        "      TwoDImages.append(filename)\n",
        "\n",
        "ThreeDImages = []\n",
        "for root, dirs, files in os.walk(\"/content/drive/My Drive/MPnet/GAN data/Dev_Testing_Data/3D_dev\"):\n",
        "  for name in files:\n",
        "    if name.endswith(\".png\"):\n",
        "      filename = os.path.join(root, name)\n",
        "      ThreeDImages.append(filename)\n",
        "\n",
        "\n",
        "def load(image):\n",
        "  img = Image.open(image)\n",
        "  img = np.array(img)\n",
        "  # img = tf.io.read_file(image)\n",
        "  # img = tf.image.decode_png(img)\n",
        "  img= tf.cast(img, tf.float32)\n",
        "\n",
        "  return img\n",
        "\n",
        "# def normalize(input_image, target_image):\n",
        "#   input_image = (input_image / 127.5) - 1\n",
        "#   target_image = (target_image / 127.5) - 1\n",
        "\n",
        "#   return input_image, target_image\n",
        "\n",
        "# def load_image_train(threeD, twoD):\n",
        "#   input_image, target_image = load(threeD), load(twoD)\n",
        "#   input_image, target_image = normalize(input_image, target_image)\n",
        "  \n",
        "#   return input_image, target_image\n",
        "\n",
        "\n",
        "# train_data=[]\n",
        "# for inp, tar in zip(ThreeDImages, TwoDImages):\n",
        "#   tmp_lst = [load_image_train(inp, tar)]\n",
        "#   train_data.append(tmp_lst)\n",
        "\n",
        "# train_dataset = tf.data.Dataset.from_tensor_slices(train_data)\n",
        "# test_dataset =  None\n",
        "\n",
        "\n",
        "##### Trying separate datasets\n",
        "def normalize(input_image):\n",
        "    input_image = (input_image / 127.5) - 1\n",
        "\n",
        "    return input_image\n",
        "\n",
        "def load_image_train(image):\n",
        "    img = load(image)\n",
        "    img = normalize(img)\n",
        "\n",
        "    return img\n",
        "\n",
        "tr_data3d = []\n",
        "for img in ThreeDImages:\n",
        "    tmp = load_image_train(img)\n",
        "    tr_data.append(tmp)\n",
        "    \n",
        "tr_data2d = []\n",
        "for img in TwoDImages:\n",
        "    tmp = load_image_train(img)\n",
        "    tr_data.append(tmp)\n",
        "    \n",
        "train_dataset2d = tf.data.Dataset.from_tensor_slices(tr_data2d)\n",
        "train_dataset2d = train_dataset2d.batch(BATCH_SIZE)\n",
        "\n",
        "train_dataset3d = tf.data.Dataset.from_tensor_slices(tr_data3d)\n",
        "train_dataset3d = train_dataset3d.batch(BATCH_SIZE)"
      ],
      "execution_count": null,
      "outputs": [
        {
          "output_type": "error",
          "ename": "OSError",
          "evalue": "ignored",
          "traceback": [
            "\u001b[0;31m---------------------------------------------------------------------------\u001b[0m",
            "\u001b[0;31mOSError\u001b[0m                                   Traceback (most recent call last)",
            "\u001b[0;32m<ipython-input-4-8e9a0dd0f732>\u001b[0m in \u001b[0;36m<module>\u001b[0;34m()\u001b[0m\n\u001b[1;32m     39\u001b[0m \u001b[0mtrain_data\u001b[0m\u001b[0;34m=\u001b[0m\u001b[0;34m[\u001b[0m\u001b[0;34m]\u001b[0m\u001b[0;34m\u001b[0m\u001b[0;34m\u001b[0m\u001b[0m\n\u001b[1;32m     40\u001b[0m \u001b[0;32mfor\u001b[0m \u001b[0minp\u001b[0m\u001b[0;34m,\u001b[0m \u001b[0mtar\u001b[0m \u001b[0;32min\u001b[0m \u001b[0mzip\u001b[0m\u001b[0;34m(\u001b[0m\u001b[0mThreeDImages\u001b[0m\u001b[0;34m,\u001b[0m \u001b[0mTwoDImages\u001b[0m\u001b[0;34m)\u001b[0m\u001b[0;34m:\u001b[0m\u001b[0;34m\u001b[0m\u001b[0;34m\u001b[0m\u001b[0m\n\u001b[0;32m---> 41\u001b[0;31m   \u001b[0mtmp_lst\u001b[0m \u001b[0;34m=\u001b[0m \u001b[0;34m[\u001b[0m\u001b[0mload_image_train\u001b[0m\u001b[0;34m(\u001b[0m\u001b[0minp\u001b[0m\u001b[0;34m,\u001b[0m \u001b[0mtar\u001b[0m\u001b[0;34m)\u001b[0m\u001b[0;34m]\u001b[0m\u001b[0;34m\u001b[0m\u001b[0;34m\u001b[0m\u001b[0m\n\u001b[0m\u001b[1;32m     42\u001b[0m   \u001b[0mtrain_data\u001b[0m\u001b[0;34m.\u001b[0m\u001b[0mappend\u001b[0m\u001b[0;34m(\u001b[0m\u001b[0mtmp_lst\u001b[0m\u001b[0;34m)\u001b[0m\u001b[0;34m\u001b[0m\u001b[0;34m\u001b[0m\u001b[0m\n\u001b[1;32m     43\u001b[0m \u001b[0;34m\u001b[0m\u001b[0m\n",
            "\u001b[0;32m<ipython-input-4-8e9a0dd0f732>\u001b[0m in \u001b[0;36mload_image_train\u001b[0;34m(threeD, twoD)\u001b[0m\n\u001b[1;32m     31\u001b[0m \u001b[0;34m\u001b[0m\u001b[0m\n\u001b[1;32m     32\u001b[0m \u001b[0;32mdef\u001b[0m \u001b[0mload_image_train\u001b[0m\u001b[0;34m(\u001b[0m\u001b[0mthreeD\u001b[0m\u001b[0;34m,\u001b[0m \u001b[0mtwoD\u001b[0m\u001b[0;34m)\u001b[0m\u001b[0;34m:\u001b[0m\u001b[0;34m\u001b[0m\u001b[0;34m\u001b[0m\u001b[0m\n\u001b[0;32m---> 33\u001b[0;31m   \u001b[0minput_image\u001b[0m\u001b[0;34m,\u001b[0m \u001b[0mtarget_image\u001b[0m \u001b[0;34m=\u001b[0m \u001b[0mload\u001b[0m\u001b[0;34m(\u001b[0m\u001b[0mthreeD\u001b[0m\u001b[0;34m)\u001b[0m\u001b[0;34m,\u001b[0m \u001b[0mload\u001b[0m\u001b[0;34m(\u001b[0m\u001b[0mtwoD\u001b[0m\u001b[0;34m)\u001b[0m\u001b[0;34m\u001b[0m\u001b[0;34m\u001b[0m\u001b[0m\n\u001b[0m\u001b[1;32m     34\u001b[0m   \u001b[0minput_image\u001b[0m\u001b[0;34m,\u001b[0m \u001b[0mtarget_image\u001b[0m \u001b[0;34m=\u001b[0m \u001b[0mnormalize\u001b[0m\u001b[0;34m(\u001b[0m\u001b[0minput_image\u001b[0m\u001b[0;34m,\u001b[0m \u001b[0mtarget_image\u001b[0m\u001b[0;34m)\u001b[0m\u001b[0;34m\u001b[0m\u001b[0;34m\u001b[0m\u001b[0m\n\u001b[1;32m     35\u001b[0m \u001b[0;34m\u001b[0m\u001b[0m\n",
            "\u001b[0;32m<ipython-input-4-8e9a0dd0f732>\u001b[0m in \u001b[0;36mload\u001b[0;34m(image)\u001b[0m\n\u001b[1;32m     16\u001b[0m \u001b[0;34m\u001b[0m\u001b[0m\n\u001b[1;32m     17\u001b[0m \u001b[0;32mdef\u001b[0m \u001b[0mload\u001b[0m\u001b[0;34m(\u001b[0m\u001b[0mimage\u001b[0m\u001b[0;34m)\u001b[0m\u001b[0;34m:\u001b[0m\u001b[0;34m\u001b[0m\u001b[0;34m\u001b[0m\u001b[0m\n\u001b[0;32m---> 18\u001b[0;31m   \u001b[0mimg\u001b[0m \u001b[0;34m=\u001b[0m \u001b[0mImage\u001b[0m\u001b[0;34m.\u001b[0m\u001b[0mopen\u001b[0m\u001b[0;34m(\u001b[0m\u001b[0mimage\u001b[0m\u001b[0;34m)\u001b[0m\u001b[0;34m\u001b[0m\u001b[0;34m\u001b[0m\u001b[0m\n\u001b[0m\u001b[1;32m     19\u001b[0m   \u001b[0mimg\u001b[0m \u001b[0;34m=\u001b[0m \u001b[0mnp\u001b[0m\u001b[0;34m.\u001b[0m\u001b[0marray\u001b[0m\u001b[0;34m(\u001b[0m\u001b[0mimg\u001b[0m\u001b[0;34m)\u001b[0m\u001b[0;34m\u001b[0m\u001b[0;34m\u001b[0m\u001b[0m\n\u001b[1;32m     20\u001b[0m   \u001b[0;31m# img = tf.io.read_file(image)\u001b[0m\u001b[0;34m\u001b[0m\u001b[0;34m\u001b[0m\u001b[0;34m\u001b[0m\u001b[0m\n",
            "\u001b[0;32m/usr/local/lib/python3.6/dist-packages/PIL/Image.py\u001b[0m in \u001b[0;36mopen\u001b[0;34m(fp, mode)\u001b[0m\n\u001b[1;32m   2816\u001b[0m         \u001b[0mexclusive_fp\u001b[0m \u001b[0;34m=\u001b[0m \u001b[0;32mTrue\u001b[0m\u001b[0;34m\u001b[0m\u001b[0;34m\u001b[0m\u001b[0m\n\u001b[1;32m   2817\u001b[0m \u001b[0;34m\u001b[0m\u001b[0m\n\u001b[0;32m-> 2818\u001b[0;31m     \u001b[0mprefix\u001b[0m \u001b[0;34m=\u001b[0m \u001b[0mfp\u001b[0m\u001b[0;34m.\u001b[0m\u001b[0mread\u001b[0m\u001b[0;34m(\u001b[0m\u001b[0;36m16\u001b[0m\u001b[0;34m)\u001b[0m\u001b[0;34m\u001b[0m\u001b[0;34m\u001b[0m\u001b[0m\n\u001b[0m\u001b[1;32m   2819\u001b[0m \u001b[0;34m\u001b[0m\u001b[0m\n\u001b[1;32m   2820\u001b[0m     \u001b[0mpreinit\u001b[0m\u001b[0;34m(\u001b[0m\u001b[0;34m)\u001b[0m\u001b[0;34m\u001b[0m\u001b[0;34m\u001b[0m\u001b[0m\n",
            "\u001b[0;31mOSError\u001b[0m: [Errno 5] Input/output error"
          ]
        }
      ]
    },
    {
      "cell_type": "code",
      "metadata": {
        "id": "Kmzo42FUMe7P",
        "colab_type": "code",
        "colab": {
          "base_uri": "https://localhost:8080/",
          "height": 1000
        },
        "outputId": "0b79dd5c-5eac-4560-9062-2c9117b718c1"
      },
      "source": [
        "# define and instantiate both generator and discriminator\n",
        "\n",
        "def downsample(filters, size, apply_batchnorm=True):\n",
        "  initializer = tf.random_normal_initializer(0., 0.02)\n",
        "\n",
        "  result = tf.keras.Sequential()\n",
        "  result.add(\n",
        "      tf.keras.layers.Conv2D(filters, size, strides=2, padding='same',\n",
        "                             kernel_initializer=initializer, use_bias=False))\n",
        "\n",
        "  if apply_batchnorm:\n",
        "    result.add(tf.keras.layers.BatchNormalization())\n",
        "\n",
        "  result.add(tf.keras.layers.LeakyReLU())\n",
        "\n",
        "  return result\n",
        "\n",
        "def upsample(filters, size, apply_dropout=False):\n",
        "  initializer = tf.random_normal_initializer(0., 0.02)\n",
        "\n",
        "  result = tf.keras.Sequential()\n",
        "  result.add(\n",
        "    tf.keras.layers.Conv2DTranspose(filters, size, strides=2,\n",
        "                                    padding='same',\n",
        "                                    kernel_initializer=initializer,\n",
        "                                    use_bias=False))\n",
        "\n",
        "  result.add(tf.keras.layers.BatchNormalization())\n",
        "\n",
        "  if apply_dropout:\n",
        "      result.add(tf.keras.layers.Dropout(0.5))\n",
        "\n",
        "  result.add(tf.keras.layers.ReLU())\n",
        "\n",
        "  return result\n",
        "\n",
        "\n",
        "\n",
        "def Generator():\n",
        "  inputs = tf.keras.layers.Input(shape=[IMG_SIZE0, IMG_SIZE1, OUTPUT_CHANNELS])\n",
        "\n",
        "  down_stack = [\n",
        "    downsample(64, 4, apply_batchnorm=False), # (bs, 128, 128, 64)\n",
        "    downsample(128, 4), # (bs, 64, 64, 128)\n",
        "    downsample(256, 4), # (bs, 32, 32, 256)\n",
        "    downsample(512, 4), # (bs, 16, 16, 512)\n",
        "    downsample(512, 4), # (bs, 8, 8, 512)\n",
        "    downsample(512, 4), # (bs, 4, 4, 512)\n",
        "    downsample(512, 4), # (bs, 2, 2, 512)\n",
        "    downsample(512, 4), # (bs, 1, 1, 512)\n",
        "  ]\n",
        "\n",
        "  up_stack = [\n",
        "    upsample(512, 4, apply_dropout=True), # (bs, 2, 2, 1024)\n",
        "    upsample(512, 4, apply_dropout=True), # (bs, 4, 4, 1024)\n",
        "    upsample(512, 4, apply_dropout=True), # (bs, 8, 8, 1024)\n",
        "    upsample(512, 4), # (bs, 16, 16, 1024)\n",
        "    upsample(256, 4), # (bs, 32, 32, 512)\n",
        "    upsample(128, 4), # (bs, 64, 64, 256)\n",
        "    upsample(64, 4), # (bs, 128, 128, 128)\n",
        "  ]\n",
        "\n",
        "  initializer = tf.random_normal_initializer(0., 0.02)\n",
        "  last = tf.keras.layers.Conv2DTranspose(OUTPUT_CHANNELS, 4,\n",
        "                                         strides=2,\n",
        "                                         padding='same',\n",
        "                                         kernel_initializer=initializer,\n",
        "                                         activation='tanh') # (bs, 256, 256, 3)\n",
        "\n",
        "  x = inputs\n",
        "\n",
        "  # Downsampling through the model\n",
        "  skips = []\n",
        "  for down in down_stack:\n",
        "    x = down(x)\n",
        "    skips.append(x)\n",
        "\n",
        "  skips = reversed(skips[:-1])\n",
        "\n",
        "  # Upsampling and establishing the skip connections\n",
        "  for up, skip in zip(up_stack, skips):\n",
        "    x = up(x)\n",
        "    x = tf.keras.layers.Concatenate()([x, skip])\n",
        "\n",
        "  x = last(x)\n",
        "\n",
        "  return tf.keras.Model(inputs=inputs, outputs=x)\n",
        "\n",
        "\n",
        "\n",
        "def Discriminator():\n",
        "  initializer = tf.random_normal_initializer(0., 0.02)\n",
        "\n",
        "  inp = tf.keras.layers.Input(shape=[IMG_SIZE0, IMG_SIZE1, OUTPUT_CHANNELS], name='input_image')\n",
        "  tar = tf.keras.layers.Input(shape=[IMG_SIZE0, IMG_SIZE1, OUTPUT_CHANNELS], name='target_image')\n",
        "\n",
        "  x = tf.keras.layers.concatenate([inp, tar]) # (bs, 256, 256, channels*2)\n",
        "\n",
        "  down1 = downsample(64, 4, False)(x) # (bs, 128, 128, 64)\n",
        "  down2 = downsample(128, 4)(down1) # (bs, 64, 64, 128)\n",
        "  down3 = downsample(256, 4)(down2) # (bs, 32, 32, 256)\n",
        "\n",
        "  zero_pad1 = tf.keras.layers.ZeroPadding2D()(down3) # (bs, 34, 34, 256)\n",
        "  conv = tf.keras.layers.Conv2D(512, 4, strides=1,\n",
        "                                kernel_initializer=initializer,\n",
        "                                use_bias=False)(zero_pad1) # (bs, 31, 31, 512)\n",
        "\n",
        "  batchnorm1 = tf.keras.layers.BatchNormalization()(conv)\n",
        "\n",
        "  leaky_relu = tf.keras.layers.LeakyReLU()(batchnorm1)\n",
        "\n",
        "  zero_pad2 = tf.keras.layers.ZeroPadding2D()(leaky_relu) # (bs, 33, 33, 512)\n",
        "\n",
        "  last = tf.keras.layers.Conv2D(1, 4, strides=1,\n",
        "                                kernel_initializer=initializer)(zero_pad2) # (bs, 30, 30, 1)\n",
        "\n",
        "  return tf.keras.Model(inputs=[inp, tar], outputs=last)\n",
        "\n",
        "\n",
        "Generator().summary()\n",
        "Discriminator().summary()\n",
        "\n",
        "generator = Generator()\n",
        "discriminator = Discriminator()\n",
        "\n",
        "# tf.keras.utils.plot_model(generator, show_shapes=True, dpi=64)\n",
        "# tf.keras.utils.plot_model(discriminator, show_shapes=True, dpi=64)"
      ],
      "execution_count": null,
      "outputs": [
        {
          "output_type": "stream",
          "text": [
            "Model: \"model\"\n",
            "__________________________________________________________________________________________________\n",
            "Layer (type)                    Output Shape         Param #     Connected to                     \n",
            "==================================================================================================\n",
            "input_1 (InputLayer)            [(None, 256, 256, 3) 0                                            \n",
            "__________________________________________________________________________________________________\n",
            "sequential (Sequential)         (None, 128, 128, 64) 3072        input_1[0][0]                    \n",
            "__________________________________________________________________________________________________\n",
            "sequential_1 (Sequential)       (None, 64, 64, 128)  131584      sequential[0][0]                 \n",
            "__________________________________________________________________________________________________\n",
            "sequential_2 (Sequential)       (None, 32, 32, 256)  525312      sequential_1[0][0]               \n",
            "__________________________________________________________________________________________________\n",
            "sequential_3 (Sequential)       (None, 16, 16, 512)  2099200     sequential_2[0][0]               \n",
            "__________________________________________________________________________________________________\n",
            "sequential_4 (Sequential)       (None, 8, 8, 512)    4196352     sequential_3[0][0]               \n",
            "__________________________________________________________________________________________________\n",
            "sequential_5 (Sequential)       (None, 4, 4, 512)    4196352     sequential_4[0][0]               \n",
            "__________________________________________________________________________________________________\n",
            "sequential_6 (Sequential)       (None, 2, 2, 512)    4196352     sequential_5[0][0]               \n",
            "__________________________________________________________________________________________________\n",
            "sequential_7 (Sequential)       (None, 1, 1, 512)    4196352     sequential_6[0][0]               \n",
            "__________________________________________________________________________________________________\n",
            "sequential_8 (Sequential)       (None, 2, 2, 512)    4196352     sequential_7[0][0]               \n",
            "__________________________________________________________________________________________________\n",
            "concatenate (Concatenate)       (None, 2, 2, 1024)   0           sequential_8[0][0]               \n",
            "                                                                 sequential_6[0][0]               \n",
            "__________________________________________________________________________________________________\n",
            "sequential_9 (Sequential)       (None, 4, 4, 512)    8390656     concatenate[0][0]                \n",
            "__________________________________________________________________________________________________\n",
            "concatenate_1 (Concatenate)     (None, 4, 4, 1024)   0           sequential_9[0][0]               \n",
            "                                                                 sequential_5[0][0]               \n",
            "__________________________________________________________________________________________________\n",
            "sequential_10 (Sequential)      (None, 8, 8, 512)    8390656     concatenate_1[0][0]              \n",
            "__________________________________________________________________________________________________\n",
            "concatenate_2 (Concatenate)     (None, 8, 8, 1024)   0           sequential_10[0][0]              \n",
            "                                                                 sequential_4[0][0]               \n",
            "__________________________________________________________________________________________________\n",
            "sequential_11 (Sequential)      (None, 16, 16, 512)  8390656     concatenate_2[0][0]              \n",
            "__________________________________________________________________________________________________\n",
            "concatenate_3 (Concatenate)     (None, 16, 16, 1024) 0           sequential_11[0][0]              \n",
            "                                                                 sequential_3[0][0]               \n",
            "__________________________________________________________________________________________________\n",
            "sequential_12 (Sequential)      (None, 32, 32, 256)  4195328     concatenate_3[0][0]              \n",
            "__________________________________________________________________________________________________\n",
            "concatenate_4 (Concatenate)     (None, 32, 32, 512)  0           sequential_12[0][0]              \n",
            "                                                                 sequential_2[0][0]               \n",
            "__________________________________________________________________________________________________\n",
            "sequential_13 (Sequential)      (None, 64, 64, 128)  1049088     concatenate_4[0][0]              \n",
            "__________________________________________________________________________________________________\n",
            "concatenate_5 (Concatenate)     (None, 64, 64, 256)  0           sequential_13[0][0]              \n",
            "                                                                 sequential_1[0][0]               \n",
            "__________________________________________________________________________________________________\n",
            "sequential_14 (Sequential)      (None, 128, 128, 64) 262400      concatenate_5[0][0]              \n",
            "__________________________________________________________________________________________________\n",
            "concatenate_6 (Concatenate)     (None, 128, 128, 128 0           sequential_14[0][0]              \n",
            "                                                                 sequential[0][0]                 \n",
            "__________________________________________________________________________________________________\n",
            "conv2d_transpose_7 (Conv2DTrans (None, 256, 256, 3)  6147        concatenate_6[0][0]              \n",
            "==================================================================================================\n",
            "Total params: 54,425,859\n",
            "Trainable params: 54,414,979\n",
            "Non-trainable params: 10,880\n",
            "__________________________________________________________________________________________________\n",
            "Model: \"model_1\"\n",
            "__________________________________________________________________________________________________\n",
            "Layer (type)                    Output Shape         Param #     Connected to                     \n",
            "==================================================================================================\n",
            "input_image (InputLayer)        [(None, 256, 256, 3) 0                                            \n",
            "__________________________________________________________________________________________________\n",
            "target_image (InputLayer)       [(None, 256, 256, 3) 0                                            \n",
            "__________________________________________________________________________________________________\n",
            "concatenate_7 (Concatenate)     (None, 256, 256, 6)  0           input_image[0][0]                \n",
            "                                                                 target_image[0][0]               \n",
            "__________________________________________________________________________________________________\n",
            "sequential_15 (Sequential)      (None, 128, 128, 64) 6144        concatenate_7[0][0]              \n",
            "__________________________________________________________________________________________________\n",
            "sequential_16 (Sequential)      (None, 64, 64, 128)  131584      sequential_15[0][0]              \n",
            "__________________________________________________________________________________________________\n",
            "sequential_17 (Sequential)      (None, 32, 32, 256)  525312      sequential_16[0][0]              \n",
            "__________________________________________________________________________________________________\n",
            "zero_padding2d (ZeroPadding2D)  (None, 34, 34, 256)  0           sequential_17[0][0]              \n",
            "__________________________________________________________________________________________________\n",
            "conv2d_11 (Conv2D)              (None, 31, 31, 512)  2097152     zero_padding2d[0][0]             \n",
            "__________________________________________________________________________________________________\n",
            "batch_normalization_16 (BatchNo (None, 31, 31, 512)  2048        conv2d_11[0][0]                  \n",
            "__________________________________________________________________________________________________\n",
            "leaky_re_lu_11 (LeakyReLU)      (None, 31, 31, 512)  0           batch_normalization_16[0][0]     \n",
            "__________________________________________________________________________________________________\n",
            "zero_padding2d_1 (ZeroPadding2D (None, 33, 33, 512)  0           leaky_re_lu_11[0][0]             \n",
            "__________________________________________________________________________________________________\n",
            "conv2d_12 (Conv2D)              (None, 30, 30, 1)    8193        zero_padding2d_1[0][0]           \n",
            "==================================================================================================\n",
            "Total params: 2,770,433\n",
            "Trainable params: 2,768,641\n",
            "Non-trainable params: 1,792\n",
            "__________________________________________________________________________________________________\n"
          ],
          "name": "stdout"
        }
      ]
    },
    {
      "cell_type": "code",
      "metadata": {
        "id": "nNdxLMRANljt",
        "colab_type": "code",
        "colab": {}
      },
      "source": [
        "# define loss and optimizers\n",
        "\n",
        "loss_object = tf.keras.losses.BinaryCrossentropy(from_logits=True)\n",
        "LAMBDA = 100\n",
        "\n",
        "def generator_loss(disc_generated_output, gen_output, target):\n",
        "  gan_loss = loss_object(tf.ones_like(disc_generated_output), disc_generated_output)\n",
        "\n",
        "  # mean absolute error\n",
        "  l1_loss = tf.reduce_mean(tf.abs(target - gen_output))\n",
        "\n",
        "  total_gen_loss = gan_loss + (LAMBDA * l1_loss)\n",
        "\n",
        "  return total_gen_loss, gan_loss, l1_loss\n",
        "\n",
        "def discriminator_loss(disc_real_output, disc_generated_output):\n",
        "  real_loss = loss_object(tf.ones_like(disc_real_output), disc_real_output)\n",
        "\n",
        "  generated_loss = loss_object(tf.zeros_like(disc_generated_output), disc_generated_output)\n",
        "\n",
        "  total_disc_loss = real_loss + generated_loss\n",
        "\n",
        "  return total_disc_loss\n",
        "\n",
        "\n",
        "\n",
        "generator_optimizer = tf.keras.optimizers.Adam(2e-4, beta_1=0.5)\n",
        "discriminator_optimizer = tf.keras.optimizers.Adam(2e-4, beta_1=0.5)"
      ],
      "execution_count": null,
      "outputs": []
    },
    {
      "cell_type": "code",
      "metadata": {
        "id": "o8DS1f3lOYpH",
        "colab_type": "code",
        "colab": {}
      },
      "source": [
        "# set up checkpoints and define training step\n",
        "\n",
        "log_dir=\"/content/drive/My Drive/MPnet/logs/\"\n",
        "\n",
        "summary_writer = tf.summary.create_file_writer(\n",
        "  log_dir + \"fit/\" + datetime.datetime.now().strftime(\"%Y%m%d-%H%M%S\"))\n",
        "\n",
        "checkpoint_dir = '/content/drive/My Drive/MPnet/training_checkpoints'\n",
        "checkpoint_prefix = os.path.join(checkpoint_dir, \"ckpt\")\n",
        "checkpoint = tf.train.Checkpoint(generator_optimizer=generator_optimizer,\n",
        "                                 discriminator_optimizer=discriminator_optimizer,\n",
        "                                 generator=generator,\n",
        "                                 discriminator=discriminator)\n",
        "\n",
        "@tf.function\n",
        "def train_step(input_image, target, epoch):\n",
        "  with tf.GradientTape() as gen_tape, tf.GradientTape() as disc_tape:\n",
        "    gen_output = generator(input_image, training=True)\n",
        "\n",
        "    disc_real_output = discriminator([input_image, target], training=True)\n",
        "    disc_generated_output = discriminator([input_image, gen_output], training=True)\n",
        "\n",
        "    gen_total_loss, gen_gan_loss, gen_l1_loss = generator_loss(disc_generated_output, gen_output, target)\n",
        "    disc_loss = discriminator_loss(disc_real_output, disc_generated_output)\n",
        "\n",
        "  generator_gradients = gen_tape.gradient(gen_total_loss,\n",
        "                                          generator.trainable_variables)\n",
        "  discriminator_gradients = disc_tape.gradient(disc_loss,\n",
        "                                               discriminator.trainable_variables)\n",
        "\n",
        "  generator_optimizer.apply_gradients(zip(generator_gradients,\n",
        "                                          generator.trainable_variables))\n",
        "  discriminator_optimizer.apply_gradients(zip(discriminator_gradients,\n",
        "                                              discriminator.trainable_variables))\n",
        "\n",
        "  with summary_writer.as_default():\n",
        "    tf.summary.scalar('gen_total_loss', gen_total_loss, step=epoch)\n",
        "    tf.summary.scalar('gen_gan_loss', gen_gan_loss, step=epoch)\n",
        "    tf.summary.scalar('gen_l1_loss', gen_l1_loss, step=epoch)\n",
        "    tf.summary.scalar('disc_loss', disc_loss, step=epoch)"
      ],
      "execution_count": null,
      "outputs": []
    },
    {
      "cell_type": "code",
      "metadata": {
        "id": "o3KjRrumOoUg",
        "colab_type": "code",
        "colab": {}
      },
      "source": [
        "def fit(train_ds, epochs):\n",
        "  for epoch in range(epochs):\n",
        "    start = time.time()\n",
        "\n",
        "    display.clear_output(wait=True)\n",
        "\n",
        "    print(\"Epoch: \", epoch)\n",
        "\n",
        "    # # Train\n",
        "    # for n, (input_image, target) in train_ds.enumerate():\n",
        "    #   print('.', end='')\n",
        "    #   if (n+1) % 100 == 0:\n",
        "    #     print()\n",
        "    #   train_step(input_image, target, epoch)\n",
        "    # print()\n",
        "\n",
        "    ## Modified for separate datasets\n",
        "    for n, input_image in train_3d.enumerate():\n",
        "        print('.', end='')\n",
        "        if (n+1) % 100 == 0:\n",
        "            print()\n",
        "            \n",
        "        for m, target in train_3d.enumerate():\n",
        "            \n",
        "            if m==n:\n",
        "        \n",
        "                train_step(input_image, target, epoch)\n",
        "    print()\n",
        "\n",
        "\n",
        "    # saving (checkpoint) the model every 20 epochs\n",
        "    if (epoch + 1) % 20 == 0:\n",
        "      checkpoint.save(file_prefix = checkpoint_prefix)\n",
        "\n",
        "    print ('Time taken for epoch {} is {} sec\\n'.format(epoch + 1,\n",
        "                                                        time.time()-start))\n",
        "  checkpoint.save(file_prefix = checkpoint_prefix)"
      ],
      "execution_count": null,
      "outputs": []
    },
    {
      "cell_type": "code",
      "metadata": {
        "id": "W2tD9QcH-0Dy",
        "colab_type": "code",
        "colab": {}
      },
      "source": [
        "# Load latest checkpoint\n",
        "\n",
        "checkpoint.restore(tf.train.latest_checkpoint(checkpoint_dir))"
      ],
      "execution_count": null,
      "outputs": []
    },
    {
      "cell_type": "code",
      "metadata": {
        "id": "LIJ_YCHKPIoP",
        "colab_type": "code",
        "colab": {
          "base_uri": "https://localhost:8080/",
          "height": 333
        },
        "outputId": "d58c908f-8cd8-4a45-99ce-8973d7977426"
      },
      "source": [
        "EPOCHS = 15\n",
        "\n",
        "fit(train_dataset3d, train_dataset2d, EPOCHS)"
      ],
      "execution_count": null,
      "outputs": [
        {
          "output_type": "stream",
          "text": [
            "Epoch:  0\n"
          ],
          "name": "stdout"
        },
        {
          "output_type": "error",
          "ename": "AttributeError",
          "evalue": "ignored",
          "traceback": [
            "\u001b[0;31m---------------------------------------------------------------------------\u001b[0m",
            "\u001b[0;31mAttributeError\u001b[0m                            Traceback (most recent call last)",
            "\u001b[0;32m<ipython-input-17-6124127517d8>\u001b[0m in \u001b[0;36m<module>\u001b[0;34m()\u001b[0m\n\u001b[1;32m      1\u001b[0m \u001b[0mEPOCHS\u001b[0m \u001b[0;34m=\u001b[0m \u001b[0;36m15\u001b[0m\u001b[0;34m\u001b[0m\u001b[0;34m\u001b[0m\u001b[0m\n\u001b[1;32m      2\u001b[0m \u001b[0;34m\u001b[0m\u001b[0m\n\u001b[0;32m----> 3\u001b[0;31m \u001b[0mfit\u001b[0m\u001b[0;34m(\u001b[0m\u001b[0mtrain_dataset\u001b[0m\u001b[0;34m,\u001b[0m \u001b[0mEPOCHS\u001b[0m\u001b[0;34m)\u001b[0m\u001b[0;34m\u001b[0m\u001b[0;34m\u001b[0m\u001b[0m\n\u001b[0m",
            "\u001b[0;32m<ipython-input-16-ada5be7cb84f>\u001b[0m in \u001b[0;36mfit\u001b[0;34m(train_ds, epochs)\u001b[0m\n\u001b[1;32m      8\u001b[0m \u001b[0;34m\u001b[0m\u001b[0m\n\u001b[1;32m      9\u001b[0m     \u001b[0;31m# Train\u001b[0m\u001b[0;34m\u001b[0m\u001b[0;34m\u001b[0m\u001b[0;34m\u001b[0m\u001b[0m\n\u001b[0;32m---> 10\u001b[0;31m     \u001b[0;32mfor\u001b[0m \u001b[0mn\u001b[0m\u001b[0;34m,\u001b[0m \u001b[0;34m(\u001b[0m\u001b[0minput_image\u001b[0m\u001b[0;34m,\u001b[0m \u001b[0mtarget\u001b[0m\u001b[0;34m)\u001b[0m \u001b[0;32min\u001b[0m \u001b[0mtrain_ds\u001b[0m\u001b[0;34m.\u001b[0m\u001b[0menumerate\u001b[0m\u001b[0;34m(\u001b[0m\u001b[0;34m)\u001b[0m\u001b[0;34m:\u001b[0m\u001b[0;34m\u001b[0m\u001b[0;34m\u001b[0m\u001b[0m\n\u001b[0m\u001b[1;32m     11\u001b[0m       \u001b[0mprint\u001b[0m\u001b[0;34m(\u001b[0m\u001b[0;34m'.'\u001b[0m\u001b[0;34m,\u001b[0m \u001b[0mend\u001b[0m\u001b[0;34m=\u001b[0m\u001b[0;34m''\u001b[0m\u001b[0;34m)\u001b[0m\u001b[0;34m\u001b[0m\u001b[0;34m\u001b[0m\u001b[0m\n\u001b[1;32m     12\u001b[0m       \u001b[0;32mif\u001b[0m \u001b[0;34m(\u001b[0m\u001b[0mn\u001b[0m\u001b[0;34m+\u001b[0m\u001b[0;36m1\u001b[0m\u001b[0;34m)\u001b[0m \u001b[0;34m%\u001b[0m \u001b[0;36m100\u001b[0m \u001b[0;34m==\u001b[0m \u001b[0;36m0\u001b[0m\u001b[0;34m:\u001b[0m\u001b[0;34m\u001b[0m\u001b[0;34m\u001b[0m\u001b[0m\n",
            "\u001b[0;31mAttributeError\u001b[0m: 'list' object has no attribute 'enumerate'"
          ]
        }
      ]
    },
    {
      "cell_type": "code",
      "metadata": {
        "id": "8ONXOfbuBNer",
        "colab_type": "code",
        "colab": {
          "base_uri": "https://localhost:8080/",
          "height": 34
        },
        "outputId": "48be1de4-f408-40d7-ccec-b49e635c095b"
      },
      "source": [
        "print(type(train_dataset))"
      ],
      "execution_count": null,
      "outputs": [
        {
          "output_type": "stream",
          "text": [
            "<class 'tuple'>\n"
          ],
          "name": "stdout"
        }
      ]
    },
    {
      "cell_type": "code",
      "metadata": {
        "id": "31_4QTP4P226",
        "colab_type": "code",
        "colab": {}
      },
      "source": [
        "def generate_images(model, test_input, tar):\n",
        "  prediction = model(test_input, training=False)\n",
        "  plt.figure(figsize=(15,15))\n",
        "\n",
        "  display_list = [test_input[0], tar[0], prediction[0]]\n",
        "  title = ['Input Image', 'Ground Truth', 'Predicted Image']\n",
        "\n",
        "  for i in range(3):\n",
        "    plt.subplot(1, 3, i+1)\n",
        "    plt.title(title[i])\n",
        "    # getting the pixel values between [0, 1] to plot it.\n",
        "    plt.imshow(display_list[i] * 0.5 + 0.5)\n",
        "    plt.axis('off')\n",
        "  plt.show()\n",
        "\n",
        "\n",
        "\n",
        "\n",
        "for inp, tar in test_dataset.take(5):\n",
        "  generate_images(generator, inp, tar)"
      ],
      "execution_count": null,
      "outputs": []
    }
  ]
}