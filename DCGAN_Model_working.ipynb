{
  "nbformat": 4,
  "nbformat_minor": 0,
  "metadata": {
    "kernelspec": {
      "display_name": "Python 3",
      "language": "python",
      "name": "python3"
    },
    "language_info": {
      "codemirror_mode": {
        "name": "ipython",
        "version": 3
      },
      "file_extension": ".py",
      "mimetype": "text/x-python",
      "name": "python",
      "nbconvert_exporter": "python",
      "pygments_lexer": "ipython3",
      "version": "3.7.4"
    },
    "colab": {
      "name": "DCGAN_Model_working.ipynb",
      "provenance": []
    }
  },
  "cells": [
    {
      "cell_type": "markdown",
      "metadata": {
        "id": "ZPNYtM341BMn",
        "colab_type": "text"
      },
      "source": [
        "# Tensorflow Tutorial GAN"
      ]
    },
    {
      "cell_type": "code",
      "metadata": {
        "id": "lQbAQdyX07GK",
        "colab_type": "code",
        "colab": {}
      },
      "source": [
        "##############\n",
        "## Basic starting point from Tensorflow tutorial for DCGAN"
      ],
      "execution_count": null,
      "outputs": []
    },
    {
      "cell_type": "code",
      "metadata": {
        "id": "hZjRgW3E07GN",
        "colab_type": "code",
        "colab": {}
      },
      "source": [
        "import glob\n",
        "import imageio\n",
        "import matplotlib.pyplot as plt\n",
        "import numpy as np\n",
        "import segyio\n",
        "import os\n",
        "import PIL\n",
        "from tensorflow.keras import layers\n",
        "import time"
      ],
      "execution_count": null,
      "outputs": []
    },
    {
      "cell_type": "code",
      "metadata": {
        "id": "E45omvgC07GP",
        "colab_type": "code",
        "colab": {}
      },
      "source": [
        "## Get seismic images\n",
        "\n",
        "\n",
        "\n",
        "# mnist example\n",
        "train_images = train_images.reshape(train_images.shape[0], 28, 28, 1).astype('float32')\n",
        "train_images = (train_images - 127.5) / 127.5 # Normalize the images to [-1, 1]"
      ],
      "execution_count": null,
      "outputs": []
    },
    {
      "cell_type": "code",
      "metadata": {
        "id": "tAVgM6Mw07GR",
        "colab_type": "code",
        "colab": {}
      },
      "source": [
        "# Shuffle data and create batches\n",
        "\n",
        "buf_size = None  # should be a number equal to or greater than dataset\n",
        "batch_size = None  # possibly start with 16?\n",
        "\n",
        "train_dataset = tf.data.Dataset.from_tensor_slices(train_images).shuffle(buf_size).batch(batch_size)"
      ],
      "execution_count": null,
      "outputs": []
    },
    {
      "cell_type": "code",
      "metadata": {
        "id": "uDtJhfq507GT",
        "colab_type": "code",
        "colab": {}
      },
      "source": [
        "\"\"\"\n",
        "Model follow-ups:\n",
        "\n",
        "This workbook persues images (i.e. spectrograms), could move to 1D convolutions and RNN / LSTM\n",
        "and use trace data as input\n",
        "\n",
        "\"\"\""
      ],
      "execution_count": null,
      "outputs": []
    },
    {
      "cell_type": "code",
      "metadata": {
        "id": "PCtkjXC807GV",
        "colab_type": "code",
        "colab": {}
      },
      "source": [
        "# Define model architectures (initial example assumes 28x28 image)\n",
        "\n",
        "def make_generator_model():\n",
        "    model = tf.keras.Sequential()\n",
        "    model.add(layers.Dense(7*7*256, use_bias=False, input_shape=(100,)))\n",
        "    model.add(layers.BatchNormalization())\n",
        "    model.add(layers.LeakyReLU())\n",
        "\n",
        "    model.add(layers.Reshape((7, 7, 256)))\n",
        "    assert model.output_shape == (None, 7, 7, 256) # Note: None is the batch size\n",
        "\n",
        "    model.add(layers.Conv2DTranspose(128, (5, 5), strides=(1, 1), padding='same', use_bias=False))\n",
        "    assert model.output_shape == (None, 7, 7, 128)\n",
        "    model.add(layers.BatchNormalization())\n",
        "    model.add(layers.LeakyReLU())\n",
        "\n",
        "    model.add(layers.Conv2DTranspose(64, (5, 5), strides=(2, 2), padding='same', use_bias=False))\n",
        "    assert model.output_shape == (None, 14, 14, 64)\n",
        "    model.add(layers.BatchNormalization())\n",
        "    model.add(layers.LeakyReLU())\n",
        "\n",
        "    model.add(layers.Conv2DTranspose(1, (5, 5), strides=(2, 2), padding='same', use_bias=False, activation='tanh'))\n",
        "    assert model.output_shape == (None, 28, 28, 1)\n",
        "\n",
        "    return model\n",
        "\n",
        "\n",
        "\n",
        "def make_discriminator_model():\n",
        "    model = tf.keras.Sequential()\n",
        "    model.add(layers.Conv2D(64, (5, 5), strides=(2, 2), padding='same',\n",
        "                                     input_shape=[28, 28, 1]))\n",
        "    model.add(layers.LeakyReLU())\n",
        "    model.add(layers.Dropout(0.3))\n",
        "\n",
        "    model.add(layers.Conv2D(128, (5, 5), strides=(2, 2), padding='same'))\n",
        "    model.add(layers.LeakyReLU())\n",
        "    model.add(layers.Dropout(0.3))\n",
        "\n",
        "    model.add(layers.Flatten())\n",
        "    model.add(layers.Dense(1))\n",
        "\n",
        "    return model"
      ],
      "execution_count": null,
      "outputs": []
    },
    {
      "cell_type": "code",
      "metadata": {
        "id": "lLqU4Efe07GX",
        "colab_type": "code",
        "colab": {}
      },
      "source": [
        "# Define loss and optimizers\n",
        "\n",
        "cross_entropy = tf.keras.losses.BinaryCrossentropy(from_logits=True)\n",
        "\n",
        "def discriminator_loss(real_output, fake_output):\n",
        "    real_loss = cross_entropy(tf.ones_like(real_output), real_output)\n",
        "    fake_loss = cross_entropy(tf.zeros_like(fake_output), fake_output)\n",
        "    total_loss = real_loss + fake_loss\n",
        "    return total_loss\n",
        "\n",
        "def generator_loss(fake_output):\n",
        "    return cross_entropy(tf.ones_like(fake_output), fake_output)\n",
        "\n",
        "\n",
        "generator_optimizer = tf.keras.optimizers.Adam(1e-4)\n",
        "discriminator_optimizer = tf.keras.optimizers.Adam(1e-4)"
      ],
      "execution_count": null,
      "outputs": []
    },
    {
      "cell_type": "code",
      "metadata": {
        "id": "Fd6FJ4B807GZ",
        "colab_type": "code",
        "colab": {}
      },
      "source": [
        "# Checkpoint creation\n",
        "\n",
        "checkpoint_dir = ''   # Drive directory\n",
        "checkpoint_prefix = os.path.join(checkpoint_dir, \"ckpt\")\n",
        "checkpoint = tf.train.Checkpoint(generator_optimizer=generator_optimizer,\n",
        "                                 discriminator_optimizer=discriminator_optimizer,\n",
        "                                 generator=generator,\n",
        "                                 discriminator=discriminator)"
      ],
      "execution_count": null,
      "outputs": []
    },
    {
      "cell_type": "code",
      "metadata": {
        "id": "WCblPpAm07Gb",
        "colab_type": "code",
        "colab": {}
      },
      "source": [
        "# Define training loop\n",
        "\n",
        "\n",
        "seed = tf.random.normal([num_examples_to_generate, noise_dim])\n",
        "\n",
        "@tf.function\n",
        "def train_step(images):\n",
        "    noise = tf.random.normal([BATCH_SIZE, noise_dim])\n",
        "\n",
        "    with tf.GradientTape() as gen_tape, tf.GradientTape() as disc_tape:\n",
        "        generated_images = generator(noise, training=True)\n",
        "\n",
        "        real_output = discriminator(images, training=True)\n",
        "        fake_output = discriminator(generated_images, training=True)\n",
        "\n",
        "        gen_loss = generator_loss(fake_output)\n",
        "        disc_loss = discriminator_loss(real_output, fake_output)\n",
        "\n",
        "    gradients_of_generator = gen_tape.gradient(gen_loss, generator.trainable_variables)\n",
        "    gradients_of_discriminator = disc_tape.gradient(disc_loss, discriminator.trainable_variables)\n",
        "\n",
        "    generator_optimizer.apply_gradients(zip(gradients_of_generator, generator.trainable_variables))\n",
        "    discriminator_optimizer.apply_gradients(zip(gradients_of_discriminator, discriminator.trainable_variables))\n",
        "    \n",
        "def train(dataset, epochs):\n",
        "    for epoch in range(epochs):\n",
        "        start = time.time()\n",
        "\n",
        "        for image_batch in dataset:\n",
        "            train_step(image_batch)\n",
        "\n",
        "    # Save the model every 15 epochs\n",
        "        if (epoch + 1) % 15 == 0:\n",
        "            checkpoint.save(file_prefix = checkpoint_prefix)\n",
        "\n",
        "    print ('Time for epoch {} is {} sec'.format(epoch + 1, time.time()-start))\n"
      ],
      "execution_count": null,
      "outputs": []
    },
    {
      "cell_type": "code",
      "metadata": {
        "id": "sIbme83107Gd",
        "colab_type": "code",
        "colab": {}
      },
      "source": [
        "# Restore a previous checkpoint\n",
        "\n",
        "checkpoint.restore(tf.train.latest_checkpoint(checkpoint_dir))"
      ],
      "execution_count": null,
      "outputs": []
    },
    {
      "cell_type": "code",
      "metadata": {
        "id": "aecwsqeM07Ge",
        "colab_type": "code",
        "colab": {}
      },
      "source": [
        "# Train the model\n",
        "\n",
        "EPOCHS = 200\n",
        "noise_dim = 100\n",
        "\n",
        "train(train_dataset, EPOCHS)"
      ],
      "execution_count": null,
      "outputs": []
    },
    {
      "cell_type": "markdown",
      "metadata": {
        "id": "IoGinBOG1NF4",
        "colab_type": "text"
      },
      "source": [
        "# Garcia SREZ"
      ]
    },
    {
      "cell_type": "code",
      "metadata": {
        "id": "dyemCNoI1_rU",
        "colab_type": "code",
        "colab": {}
      },
      "source": [
        "## Attempt the Garcia super res model using Keras\n",
        "\n",
        "# Discriminator:  Conv2D, 64 units, stride 2\n",
        "#                 batch norm\n",
        "#                 relu                  \n",
        "\n",
        "#                 repeat with 128, 256, 512 units\n",
        "\n",
        "#                 conv2D, 512 units, stride 1\n",
        "#                 batch norm, relu\n",
        "#                 repeat\n",
        "\n",
        "#                 model ends by taking mean? \n",
        "\n",
        "# Generator:      Residual block, 256 units\n",
        "#                 Upscale (2x, nearest neighbor)\n",
        "#                 batch norm\n",
        "#                 relu\n",
        "#                 conv2D transpose, 256 units, stride 1\n",
        "\n",
        "#                 repeat with 128 units\n",
        "\n",
        "#                 conv2D, 96 units, stride 1\n",
        "#                 relu\n",
        "#                 repeat\n",
        "\n",
        "#                 conv2D, units=channels (color chans?)\n",
        "#                 sigmoid\n",
        "\n",
        "# Discriminator loss:  sigmoid_cross_entropy_with_logits\n",
        "# Generator loss:  sigmoid_cross_entropy_with_logits\n",
        "\n",
        "# Optimizer: Adam"
      ],
      "execution_count": null,
      "outputs": []
    },
    {
      "cell_type": "code",
      "metadata": {
        "id": "QuCJoVdxKyya",
        "colab_type": "code",
        "colab": {}
      },
      "source": [
        "from tf.keras.initializers import RandomNormal\n",
        "from tf.keras import layers\n",
        "from tf.keras.layers import Dense, Conv2D, Conv2DTranspose, Reshape, Flatten, Dropout, BatchNormalization, LeakyReLU, ReLU\n",
        "# from keras.layers.advanced_activations import LeakyReLU\n",
        "from tf.keras.models import Sequential"
      ],
      "execution_count": null,
      "outputs": []
    },
    {
      "cell_type": "code",
      "metadata": {
        "id": "cqZ4bFcVK-di",
        "colab_type": "code",
        "colab": {}
      },
      "source": [
        "\"\"\"\n",
        "Model architectures\n",
        "\"\"\"\n",
        "\n",
        "# noise_dim = 100    # taken from other examples\n",
        "# weight_initializer = RandomNormal(0, 0.02)    # taken from other examples\n",
        "\n",
        "\n",
        "def residual_block(y, nb_channels):\n",
        "\n",
        "    y.add(Conv2D(nb_channels, kernel_size=(3, 3), strides=(1, 1), padding='same')\n",
        "    y.add(BatchNormalization())\n",
        "    y.add(LeakyReLU())\n",
        "\n",
        "    y.add(Conv2D(nb_channels, kernel_size=(3, 3), strides=(1, 1), padding='same')\n",
        "    y.add(BatchNormalization())\n",
        "    y.add(LeakyReLU())\n",
        "\n",
        "    return y\n",
        "\n",
        "def upscale(x):\n",
        "   \"\"\"\n",
        "   Need function to perform X (2?) upscaling\n",
        "   \"\"\"\n",
        "\n",
        "\n",
        "\n",
        "\n",
        "def create_generator():\n",
        "  generator = Sequential()\n",
        "  \n",
        "  units = [256, 128, 96]\n",
        "  upscale_factor_list = [2, 2]\n",
        "\n",
        "  # Res Section 1\n",
        "  residual_block(generator, units[0])\n",
        "  residual_block(generator, units[0])\n",
        "  upscale(upscale_factor_list[0])\n",
        "  generator.add(BatchNormalization())\n",
        "  generator.add(ReLU())\n",
        "  generator.add(Conv2DTranspose(units[0], kernel_size=(3, 3), strides=(1, 1), padding='same', use_bias=False))\n",
        "\n",
        "  # Res Section 2\n",
        "  residual_block(generator, units[1])\n",
        "  residual_block(generator, units[1])\n",
        "  upscale(upscale_factor_list[1])\n",
        "  generator.add(BatchNormalization())\n",
        "  generator.add(ReLU())\n",
        "  generator.add(Conv2DTranspose(units[1], kernel_size=(3, 3), strides=(1, 1), padding='same', use_bias=False))\n",
        "\n",
        "  # Conv Section 3\n",
        "  generator.add(Conv2D(units[2], kernel_size=(3, 3), strides=(1, 1), padding='same', use_bias=False))\n",
        "  generator.add(ReLU())\n",
        "  generator.add(Conv2D(units[2], kernel_size=(1, 1), strides=(1, 1), padding='same', use_bias=False))\n",
        "  generator.add(ReLU())\n",
        "\n",
        "  # Sigmoid Section 4    # why sigmoid layer in generator?\n",
        "  generator.add(Conv2D(units[2], kernel_size=(1, 1), strides=(1, 1), padding='same', use_bias=False))\n",
        "  # generator.add(Dense(1, activation='sigmoid'))\n",
        "\n",
        "  return generator\n",
        "\n",
        "###############################################################\n",
        "\n",
        "def create_descriminator():\n",
        "  discriminator = Sequential()\n",
        "  \n",
        "  units = [256, 128, 96]\n",
        "\n",
        "  # Conv layer 1\n",
        "  discriminator.add(Conv2D(units[0], kernel_size=(3, 3), strides=(2, 2), padding='same', use_bias=False))\n",
        "  discriminator.add(BatchNormalization()\n",
        "  discriminator.add(ReLU())\n",
        "\n",
        "  # Conv layer 2\n",
        "  discriminator.add(Conv2D(units[1], kernel_size=(3, 3), strides=(2, 2), padding='same', use_bias=False))\n",
        "  discriminator.add(BatchNormalization()\n",
        "  discriminator.add(ReLU())\n",
        "\n",
        "  # Conv layer 3\n",
        "  discriminator.add(Conv2D(units[2], kernel_size=(3, 3), strides=(2, 2), padding='same', use_bias=False))\n",
        "  discriminator.add(BatchNormalization()\n",
        "  discriminator.add(ReLU())\n",
        "\n",
        "  # Conv layer 4\n",
        "  discriminator.add(Conv2D(units[2], kernel_size=(3, 3), strides=(1, 1), padding='same', use_bias=False))\n",
        "  discriminator.add(BatchNormalization()\n",
        "  discriminator.add(ReLU())\n",
        "\n",
        "  # Conv layer 5\n",
        "  discriminator.add(Conv2D(units[2], kernel_size=(1, 1), strides=(1, 1), padding='same', use_bias=False))\n",
        "  discriminator.add(BatchNormalization()\n",
        "  discriminator.add(ReLU())\n",
        "\n",
        "  # Conv layer 4\n",
        "  discriminator.add(Flatten())\n",
        "  discriminator.add(Dense(1, activation='sigmoid', ... ))\n",
        "\n",
        "\n",
        "  return discriminator"
      ],
      "execution_count": null,
      "outputs": []
    },
    {
      "cell_type": "code",
      "metadata": {
        "id": "1hwxWNoll4gF",
        "colab_type": "code",
        "colab": {}
      },
      "source": [
        "generator = create_generator()\n",
        "discriminator = create_descriminator()"
      ],
      "execution_count": null,
      "outputs": []
    },
    {
      "cell_type": "code",
      "metadata": {
        "id": "bdGJzsCXdO9g",
        "colab_type": "code",
        "colab": {}
      },
      "source": [
        "\"\"\"\n",
        "Define losses and optimizers\n",
        "\"\"\"\n",
        "\n",
        "cross_entropy = tf.keras.losses.BinaryCrossentropy(from_logits=True)\n",
        "\n",
        "def discriminator_loss(real_output, fake_output):\n",
        "    real_loss = cross_entropy(tf.ones_like(real_output), real_output)\n",
        "    fake_loss = cross_entropy(tf.zeros_like(fake_output), fake_output)\n",
        "    total_loss = real_loss + fake_loss\n",
        "    return total_loss\n",
        "\n",
        "def generator_loss(fake_output):\n",
        "    return cross_entropy(tf.ones_like(fake_output), fake_output)\n",
        "\n",
        "\n",
        "generator_optimizer = tf.keras.optimizers.Adam(1e-4)\n",
        "discriminator_optimizer = tf.keras.optimizers.Adam(1e-4)\n"
      ],
      "execution_count": null,
      "outputs": []
    },
    {
      "cell_type": "code",
      "metadata": {
        "id": "kzKz96cTdZBF",
        "colab_type": "code",
        "colab": {}
      },
      "source": [
        "\"\"\"\n",
        "Define training loop\n",
        "\"\"\"\n",
        "\n",
        "noise_dim = 100\n",
        "\n",
        "@tf.function\n",
        "def train_step(images):\n",
        "    noise = tf.random.normal([BATCH_SIZE, noise_dim])\n",
        "\n",
        "    with tf.GradientTape() as gen_tape, tf.GradientTape() as disc_tape:\n",
        "        generated_images = generator(noise, training=True)\n",
        "\n",
        "        real_output = discriminator(images, training=True)\n",
        "        fake_output = discriminator(generated_images, training=True)\n",
        "\n",
        "        gen_loss = generator_loss(fake_output)\n",
        "        disc_loss = discriminator_loss(real_output, fake_output)\n",
        "\n",
        "    gradients_of_generator = gen_tape.gradient(gen_loss, generator.trainable_variables)\n",
        "    gradients_of_discriminator = disc_tape.gradient(disc_loss, discriminator.trainable_variables)\n",
        "\n",
        "    generator_optimizer.apply_gradients(zip(gradients_of_generator, generator.trainable_variables))\n",
        "    discriminator_optimizer.apply_gradients(zip(gradients_of_discriminator, discriminator.trainable_variables))\n",
        "    \n",
        "def train(dataset, epochs):\n",
        "    for epoch in range(epochs):\n",
        "        start = time.time()\n",
        "\n",
        "        for image_batch in dataset:\n",
        "            train_step(image_batch)\n",
        "\n",
        "    # Save the model every 15 epochs\n",
        "        if (epoch + 1) % 15 == 0:\n",
        "            checkpoint.save(file_prefix = checkpoint_prefix)\n",
        "\n",
        "    print ('Time for epoch {} is {} sec'.format(epoch + 1, time.time()-start))"
      ],
      "execution_count": null,
      "outputs": []
    },
    {
      "cell_type": "code",
      "metadata": {
        "id": "OVW9U6A6dYMl",
        "colab_type": "code",
        "colab": {}
      },
      "source": [
        "# Checkpoint creation\n",
        "\n",
        "checkpoint_dir = ''   # Drive directory\n",
        "checkpoint_prefix = os.path.join(checkpoint_dir, \"ckpt\")\n",
        "checkpoint = tf.train.Checkpoint(generator_optimizer=generator_optimizer,\n",
        "                                 discriminator_optimizer=discriminator_optimizer,\n",
        "                                 generator=generator,\n",
        "                                 discriminator=discriminator)"
      ],
      "execution_count": null,
      "outputs": []
    },
    {
      "cell_type": "code",
      "metadata": {
        "id": "rZrXwVqLnOdc",
        "colab_type": "code",
        "colab": {}
      },
      "source": [
        "# Shuffle data and create batches\n",
        "\n",
        "buf_size = None  # should be a number equal to or greater than dataset\n",
        "BATCH_SIZE = 16  # possibly start with 16?\n",
        "\n",
        "train_dataset = tf.data.Dataset.from_tensor_slices(train_images).shuffle(buf_size).batch(batch_size)"
      ],
      "execution_count": null,
      "outputs": []
    },
    {
      "cell_type": "code",
      "metadata": {
        "id": "CYSWhanqokLH",
        "colab_type": "code",
        "colab": {}
      },
      "source": [
        "# Train the model\n",
        "\n",
        "EPOCHS = 100\n",
        "\n",
        "train(train_dataset, EPOCHS)"
      ],
      "execution_count": null,
      "outputs": []
    },
    {
      "cell_type": "markdown",
      "metadata": {
        "id": "8xV-LsE2Hn4p",
        "colab_type": "text"
      },
      "source": [
        "# Another example"
      ]
    },
    {
      "cell_type": "code",
      "metadata": {
        "id": "ATJJVfCkHpl0",
        "colab_type": "code",
        "colab": {}
      },
      "source": [
        "# link   https://medium.com/analytics-vidhya/implementing-a-gan-in-keras-d6c36bc6ab5f\n"
      ],
      "execution_count": null,
      "outputs": []
    },
    {
      "cell_type": "code",
      "metadata": {
        "id": "hNVnO7A6IA8F",
        "colab_type": "code",
        "colab": {}
      },
      "source": [
        "import numpy as np\n",
        "\n",
        "from keras.initializers import RandomNormal\n",
        "from keras.layers import Dense, Conv2D, Conv2DTranspose, Reshape, Flatten, Dropout\n",
        "from keras.layers.advanced_activations import LeakyReLU\n",
        "from keras.models import Sequential"
      ],
      "execution_count": null,
      "outputs": []
    },
    {
      "cell_type": "code",
      "metadata": {
        "id": "Ie9Iy-USJ8JL",
        "colab_type": "code",
        "colab": {}
      },
      "source": [
        "def create_generator():\n",
        "  generator = Sequential()\n",
        "  \n",
        "  # Starting size\n",
        "  d = 4\n",
        "  generator.add(Dense(d*d*256, kernel_initializer=RandomNormal(0, 0.02), input_dim=noise_dim))\n",
        "  generator.add(LeakyReLU(0.2))\n",
        "  # 4x4x256\n",
        "  generator.add(Reshape((d, d, 256)))\n",
        "  \n",
        "  # 8x8x128\n",
        "  generator.add(Conv2DTranspose(128, (4, 4), strides=2, padding='same', kernel_initializer=RandomNormal(0, 0.02)))\n",
        "  generator.add(LeakyReLU(0.2))\n",
        "  \n",
        "  # 16x16*128\n",
        "  generator.add(Conv2DTranspose(128, (4, 4), strides=2, padding='same', kernel_initializer=RandomNormal(0, 0.02)))\n",
        "  generator.add(LeakyReLU(0.2))\n",
        "  \n",
        "  # 32x32x128\n",
        "  generator.add(Conv2DTranspose(128, (4, 4), strides=2, padding='same', kernel_initializer=RandomNormal(0, 0.02)))\n",
        "  generator.add(LeakyReLU(0.2))\n",
        "  \n",
        "  # 32x32x3\n",
        "  generator.add(Conv2D(channels, (3, 3), padding='same', activation='tanh', kernel_initializer=RandomNormal(0, 0.02)))\n",
        "  \n",
        "  generator.compile(loss='binary_crossentropy', optimizer=optimizer)\n",
        "  return generator\n",
        "\n",
        "###############################################################\n",
        "\n",
        "def create_descriminator():\n",
        "  discriminator = Sequential()\n",
        "  \n",
        "  discriminator.add(Conv2D(64, (3, 3), padding='same', kernel_initializer=RandomNormal(0, 0.02), input_shape=(img_cols, img_rows, channels)))\n",
        "  discriminator.add(LeakyReLU(0.2))\n",
        "  \n",
        "  discriminator.add(Conv2D(128, (3, 3), strides=2, padding='same', kernel_initializer=RandomNormal(0, 0.02)))\n",
        "  discriminator.add(LeakyReLU(0.2))\n",
        "  \n",
        "  discriminator.add(Conv2D(128, (3, 3), strides=2, padding='same', kernel_initializer=RandomNormal(0, 0.02)))\n",
        "  discriminator.add(LeakyReLU(0.2))\n",
        "  \n",
        "  discriminator.add(Conv2D(256, (3, 3), strides=2, padding='same', kernel_initializer=RandomNormal(0, 0.02)))\n",
        "  discriminator.add(LeakyReLU(0.2))\n",
        "  \n",
        "  discriminator.add(Flatten())\n",
        "  discriminator.add(Dropout(0.4))\n",
        "  discriminator.add(Dense(1, activation='sigmoid', input_shape=(img_cols, img_rows, channels)))\n",
        "  \n",
        "  discriminator.compile(loss='binary_crossentropy', optimizer=optimizer)\n",
        "  return discriminator"
      ],
      "execution_count": null,
      "outputs": []
    },
    {
      "cell_type": "markdown",
      "metadata": {
        "id": "FJd98_yuhUVv",
        "colab_type": "text"
      },
      "source": [
        "# Cyclegan / Pix2Pix"
      ]
    },
    {
      "cell_type": "code",
      "metadata": {
        "id": "grf6wSJVhWca",
        "colab_type": "code",
        "colab": {}
      },
      "source": [
        "#link       https://medium.com/analytics-vidhya/transforming-the-world-into-paintings-with-cyclegan-6748c0b85632\n",
        "\n",
        "# utilizes Unet generator with skip connections\n",
        "\n",
        "# pix2pix tutorial (Unet generator example)  https://www.tensorflow.org/tutorials/generative/pix2pix"
      ],
      "execution_count": null,
      "outputs": []
    }
  ]
}